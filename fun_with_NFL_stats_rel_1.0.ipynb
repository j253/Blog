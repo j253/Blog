{
 "cells": [
  {
   "cell_type": "markdown",
   "metadata": {},
   "source": [
    "# Fun with NFL Stats, Bokeh, and Pandas\n",
    "For a thorough write up, please see my blog post of the same name."
   ]
  },
  {
   "cell_type": "code",
   "execution_count": 2,
   "metadata": {},
   "outputs": [
    {
     "data": {
      "text/html": [
       "\n",
       "    <div class=\"bk-root\">\n",
       "        <a href=\"https://bokeh.pydata.org\" target=\"_blank\" class=\"bk-logo bk-logo-small bk-logo-notebook\"></a>\n",
       "        <span id=\"1001\">Loading BokehJS ...</span>\n",
       "    </div>"
      ]
     },
     "metadata": {},
     "output_type": "display_data"
    },
    {
     "data": {
      "application/javascript": [
       "\n",
       "(function(root) {\n",
       "  function now() {\n",
       "    return new Date();\n",
       "  }\n",
       "\n",
       "  var force = true;\n",
       "\n",
       "  if (typeof (root._bokeh_onload_callbacks) === \"undefined\" || force === true) {\n",
       "    root._bokeh_onload_callbacks = [];\n",
       "    root._bokeh_is_loading = undefined;\n",
       "  }\n",
       "\n",
       "  var JS_MIME_TYPE = 'application/javascript';\n",
       "  var HTML_MIME_TYPE = 'text/html';\n",
       "  var EXEC_MIME_TYPE = 'application/vnd.bokehjs_exec.v0+json';\n",
       "  var CLASS_NAME = 'output_bokeh rendered_html';\n",
       "\n",
       "  /**\n",
       "   * Render data to the DOM node\n",
       "   */\n",
       "  function render(props, node) {\n",
       "    var script = document.createElement(\"script\");\n",
       "    node.appendChild(script);\n",
       "  }\n",
       "\n",
       "  /**\n",
       "   * Handle when an output is cleared or removed\n",
       "   */\n",
       "  function handleClearOutput(event, handle) {\n",
       "    var cell = handle.cell;\n",
       "\n",
       "    var id = cell.output_area._bokeh_element_id;\n",
       "    var server_id = cell.output_area._bokeh_server_id;\n",
       "    // Clean up Bokeh references\n",
       "    if (id != null && id in Bokeh.index) {\n",
       "      Bokeh.index[id].model.document.clear();\n",
       "      delete Bokeh.index[id];\n",
       "    }\n",
       "\n",
       "    if (server_id !== undefined) {\n",
       "      // Clean up Bokeh references\n",
       "      var cmd = \"from bokeh.io.state import curstate; print(curstate().uuid_to_server['\" + server_id + \"'].get_sessions()[0].document.roots[0]._id)\";\n",
       "      cell.notebook.kernel.execute(cmd, {\n",
       "        iopub: {\n",
       "          output: function(msg) {\n",
       "            var id = msg.content.text.trim();\n",
       "            if (id in Bokeh.index) {\n",
       "              Bokeh.index[id].model.document.clear();\n",
       "              delete Bokeh.index[id];\n",
       "            }\n",
       "          }\n",
       "        }\n",
       "      });\n",
       "      // Destroy server and session\n",
       "      var cmd = \"import bokeh.io.notebook as ion; ion.destroy_server('\" + server_id + \"')\";\n",
       "      cell.notebook.kernel.execute(cmd);\n",
       "    }\n",
       "  }\n",
       "\n",
       "  /**\n",
       "   * Handle when a new output is added\n",
       "   */\n",
       "  function handleAddOutput(event, handle) {\n",
       "    var output_area = handle.output_area;\n",
       "    var output = handle.output;\n",
       "\n",
       "    // limit handleAddOutput to display_data with EXEC_MIME_TYPE content only\n",
       "    if ((output.output_type != \"display_data\") || (!output.data.hasOwnProperty(EXEC_MIME_TYPE))) {\n",
       "      return\n",
       "    }\n",
       "\n",
       "    var toinsert = output_area.element.find(\".\" + CLASS_NAME.split(' ')[0]);\n",
       "\n",
       "    if (output.metadata[EXEC_MIME_TYPE][\"id\"] !== undefined) {\n",
       "      toinsert[toinsert.length - 1].firstChild.textContent = output.data[JS_MIME_TYPE];\n",
       "      // store reference to embed id on output_area\n",
       "      output_area._bokeh_element_id = output.metadata[EXEC_MIME_TYPE][\"id\"];\n",
       "    }\n",
       "    if (output.metadata[EXEC_MIME_TYPE][\"server_id\"] !== undefined) {\n",
       "      var bk_div = document.createElement(\"div\");\n",
       "      bk_div.innerHTML = output.data[HTML_MIME_TYPE];\n",
       "      var script_attrs = bk_div.children[0].attributes;\n",
       "      for (var i = 0; i < script_attrs.length; i++) {\n",
       "        toinsert[toinsert.length - 1].firstChild.setAttribute(script_attrs[i].name, script_attrs[i].value);\n",
       "      }\n",
       "      // store reference to server id on output_area\n",
       "      output_area._bokeh_server_id = output.metadata[EXEC_MIME_TYPE][\"server_id\"];\n",
       "    }\n",
       "  }\n",
       "\n",
       "  function register_renderer(events, OutputArea) {\n",
       "\n",
       "    function append_mime(data, metadata, element) {\n",
       "      // create a DOM node to render to\n",
       "      var toinsert = this.create_output_subarea(\n",
       "        metadata,\n",
       "        CLASS_NAME,\n",
       "        EXEC_MIME_TYPE\n",
       "      );\n",
       "      this.keyboard_manager.register_events(toinsert);\n",
       "      // Render to node\n",
       "      var props = {data: data, metadata: metadata[EXEC_MIME_TYPE]};\n",
       "      render(props, toinsert[toinsert.length - 1]);\n",
       "      element.append(toinsert);\n",
       "      return toinsert\n",
       "    }\n",
       "\n",
       "    /* Handle when an output is cleared or removed */\n",
       "    events.on('clear_output.CodeCell', handleClearOutput);\n",
       "    events.on('delete.Cell', handleClearOutput);\n",
       "\n",
       "    /* Handle when a new output is added */\n",
       "    events.on('output_added.OutputArea', handleAddOutput);\n",
       "\n",
       "    /**\n",
       "     * Register the mime type and append_mime function with output_area\n",
       "     */\n",
       "    OutputArea.prototype.register_mime_type(EXEC_MIME_TYPE, append_mime, {\n",
       "      /* Is output safe? */\n",
       "      safe: true,\n",
       "      /* Index of renderer in `output_area.display_order` */\n",
       "      index: 0\n",
       "    });\n",
       "  }\n",
       "\n",
       "  // register the mime type if in Jupyter Notebook environment and previously unregistered\n",
       "  if (root.Jupyter !== undefined) {\n",
       "    var events = require('base/js/events');\n",
       "    var OutputArea = require('notebook/js/outputarea').OutputArea;\n",
       "\n",
       "    if (OutputArea.prototype.mime_types().indexOf(EXEC_MIME_TYPE) == -1) {\n",
       "      register_renderer(events, OutputArea);\n",
       "    }\n",
       "  }\n",
       "\n",
       "  \n",
       "  if (typeof (root._bokeh_timeout) === \"undefined\" || force === true) {\n",
       "    root._bokeh_timeout = Date.now() + 5000;\n",
       "    root._bokeh_failed_load = false;\n",
       "  }\n",
       "\n",
       "  var NB_LOAD_WARNING = {'data': {'text/html':\n",
       "     \"<div style='background-color: #fdd'>\\n\"+\n",
       "     \"<p>\\n\"+\n",
       "     \"BokehJS does not appear to have successfully loaded. If loading BokehJS from CDN, this \\n\"+\n",
       "     \"may be due to a slow or bad network connection. Possible fixes:\\n\"+\n",
       "     \"</p>\\n\"+\n",
       "     \"<ul>\\n\"+\n",
       "     \"<li>re-rerun `output_notebook()` to attempt to load from CDN again, or</li>\\n\"+\n",
       "     \"<li>use INLINE resources instead, as so:</li>\\n\"+\n",
       "     \"</ul>\\n\"+\n",
       "     \"<code>\\n\"+\n",
       "     \"from bokeh.resources import INLINE\\n\"+\n",
       "     \"output_notebook(resources=INLINE)\\n\"+\n",
       "     \"</code>\\n\"+\n",
       "     \"</div>\"}};\n",
       "\n",
       "  function display_loaded() {\n",
       "    var el = document.getElementById(\"1001\");\n",
       "    if (el != null) {\n",
       "      el.textContent = \"BokehJS is loading...\";\n",
       "    }\n",
       "    if (root.Bokeh !== undefined) {\n",
       "      if (el != null) {\n",
       "        el.textContent = \"BokehJS \" + root.Bokeh.version + \" successfully loaded.\";\n",
       "      }\n",
       "    } else if (Date.now() < root._bokeh_timeout) {\n",
       "      setTimeout(display_loaded, 100)\n",
       "    }\n",
       "  }\n",
       "\n",
       "\n",
       "  function run_callbacks() {\n",
       "    try {\n",
       "      root._bokeh_onload_callbacks.forEach(function(callback) { callback() });\n",
       "    }\n",
       "    finally {\n",
       "      delete root._bokeh_onload_callbacks\n",
       "    }\n",
       "    console.info(\"Bokeh: all callbacks have finished\");\n",
       "  }\n",
       "\n",
       "  function load_libs(js_urls, callback) {\n",
       "    root._bokeh_onload_callbacks.push(callback);\n",
       "    if (root._bokeh_is_loading > 0) {\n",
       "      console.log(\"Bokeh: BokehJS is being loaded, scheduling callback at\", now());\n",
       "      return null;\n",
       "    }\n",
       "    if (js_urls == null || js_urls.length === 0) {\n",
       "      run_callbacks();\n",
       "      return null;\n",
       "    }\n",
       "    console.log(\"Bokeh: BokehJS not loaded, scheduling load and callback at\", now());\n",
       "    root._bokeh_is_loading = js_urls.length;\n",
       "    for (var i = 0; i < js_urls.length; i++) {\n",
       "      var url = js_urls[i];\n",
       "      var s = document.createElement('script');\n",
       "      s.src = url;\n",
       "      s.async = false;\n",
       "      s.onreadystatechange = s.onload = function() {\n",
       "        root._bokeh_is_loading--;\n",
       "        if (root._bokeh_is_loading === 0) {\n",
       "          console.log(\"Bokeh: all BokehJS libraries loaded\");\n",
       "          run_callbacks()\n",
       "        }\n",
       "      };\n",
       "      s.onerror = function() {\n",
       "        console.warn(\"failed to load library \" + url);\n",
       "      };\n",
       "      console.log(\"Bokeh: injecting script tag for BokehJS library: \", url);\n",
       "      document.getElementsByTagName(\"head\")[0].appendChild(s);\n",
       "    }\n",
       "  };var element = document.getElementById(\"1001\");\n",
       "  if (element == null) {\n",
       "    console.log(\"Bokeh: ERROR: autoload.js configured with elementid '1001' but no matching script tag was found. \")\n",
       "    return false;\n",
       "  }\n",
       "\n",
       "  var js_urls = [\"https://cdn.pydata.org/bokeh/release/bokeh-1.0.1.min.js\", \"https://cdn.pydata.org/bokeh/release/bokeh-widgets-1.0.1.min.js\", \"https://cdn.pydata.org/bokeh/release/bokeh-tables-1.0.1.min.js\", \"https://cdn.pydata.org/bokeh/release/bokeh-gl-1.0.1.min.js\"];\n",
       "\n",
       "  var inline_js = [\n",
       "    function(Bokeh) {\n",
       "      Bokeh.set_log_level(\"info\");\n",
       "    },\n",
       "    \n",
       "    function(Bokeh) {\n",
       "      \n",
       "    },\n",
       "    function(Bokeh) {\n",
       "      console.log(\"Bokeh: injecting CSS: https://cdn.pydata.org/bokeh/release/bokeh-1.0.1.min.css\");\n",
       "      Bokeh.embed.inject_css(\"https://cdn.pydata.org/bokeh/release/bokeh-1.0.1.min.css\");\n",
       "      console.log(\"Bokeh: injecting CSS: https://cdn.pydata.org/bokeh/release/bokeh-widgets-1.0.1.min.css\");\n",
       "      Bokeh.embed.inject_css(\"https://cdn.pydata.org/bokeh/release/bokeh-widgets-1.0.1.min.css\");\n",
       "      console.log(\"Bokeh: injecting CSS: https://cdn.pydata.org/bokeh/release/bokeh-tables-1.0.1.min.css\");\n",
       "      Bokeh.embed.inject_css(\"https://cdn.pydata.org/bokeh/release/bokeh-tables-1.0.1.min.css\");\n",
       "    }\n",
       "  ];\n",
       "\n",
       "  function run_inline_js() {\n",
       "    \n",
       "    if ((root.Bokeh !== undefined) || (force === true)) {\n",
       "      for (var i = 0; i < inline_js.length; i++) {\n",
       "        inline_js[i].call(root, root.Bokeh);\n",
       "      }if (force === true) {\n",
       "        display_loaded();\n",
       "      }} else if (Date.now() < root._bokeh_timeout) {\n",
       "      setTimeout(run_inline_js, 100);\n",
       "    } else if (!root._bokeh_failed_load) {\n",
       "      console.log(\"Bokeh: BokehJS failed to load within specified timeout.\");\n",
       "      root._bokeh_failed_load = true;\n",
       "    } else if (force !== true) {\n",
       "      var cell = $(document.getElementById(\"1001\")).parents('.cell').data().cell;\n",
       "      cell.output_area.append_execute_result(NB_LOAD_WARNING)\n",
       "    }\n",
       "\n",
       "  }\n",
       "\n",
       "  if (root._bokeh_is_loading === 0) {\n",
       "    console.log(\"Bokeh: BokehJS loaded, going straight to plotting\");\n",
       "    run_inline_js();\n",
       "  } else {\n",
       "    load_libs(js_urls, function() {\n",
       "      console.log(\"Bokeh: BokehJS plotting callback run at\", now());\n",
       "      run_inline_js();\n",
       "    });\n",
       "  }\n",
       "}(window));"
      ],
      "application/vnd.bokehjs_load.v0+json": "\n(function(root) {\n  function now() {\n    return new Date();\n  }\n\n  var force = true;\n\n  if (typeof (root._bokeh_onload_callbacks) === \"undefined\" || force === true) {\n    root._bokeh_onload_callbacks = [];\n    root._bokeh_is_loading = undefined;\n  }\n\n  \n\n  \n  if (typeof (root._bokeh_timeout) === \"undefined\" || force === true) {\n    root._bokeh_timeout = Date.now() + 5000;\n    root._bokeh_failed_load = false;\n  }\n\n  var NB_LOAD_WARNING = {'data': {'text/html':\n     \"<div style='background-color: #fdd'>\\n\"+\n     \"<p>\\n\"+\n     \"BokehJS does not appear to have successfully loaded. If loading BokehJS from CDN, this \\n\"+\n     \"may be due to a slow or bad network connection. Possible fixes:\\n\"+\n     \"</p>\\n\"+\n     \"<ul>\\n\"+\n     \"<li>re-rerun `output_notebook()` to attempt to load from CDN again, or</li>\\n\"+\n     \"<li>use INLINE resources instead, as so:</li>\\n\"+\n     \"</ul>\\n\"+\n     \"<code>\\n\"+\n     \"from bokeh.resources import INLINE\\n\"+\n     \"output_notebook(resources=INLINE)\\n\"+\n     \"</code>\\n\"+\n     \"</div>\"}};\n\n  function display_loaded() {\n    var el = document.getElementById(\"1001\");\n    if (el != null) {\n      el.textContent = \"BokehJS is loading...\";\n    }\n    if (root.Bokeh !== undefined) {\n      if (el != null) {\n        el.textContent = \"BokehJS \" + root.Bokeh.version + \" successfully loaded.\";\n      }\n    } else if (Date.now() < root._bokeh_timeout) {\n      setTimeout(display_loaded, 100)\n    }\n  }\n\n\n  function run_callbacks() {\n    try {\n      root._bokeh_onload_callbacks.forEach(function(callback) { callback() });\n    }\n    finally {\n      delete root._bokeh_onload_callbacks\n    }\n    console.info(\"Bokeh: all callbacks have finished\");\n  }\n\n  function load_libs(js_urls, callback) {\n    root._bokeh_onload_callbacks.push(callback);\n    if (root._bokeh_is_loading > 0) {\n      console.log(\"Bokeh: BokehJS is being loaded, scheduling callback at\", now());\n      return null;\n    }\n    if (js_urls == null || js_urls.length === 0) {\n      run_callbacks();\n      return null;\n    }\n    console.log(\"Bokeh: BokehJS not loaded, scheduling load and callback at\", now());\n    root._bokeh_is_loading = js_urls.length;\n    for (var i = 0; i < js_urls.length; i++) {\n      var url = js_urls[i];\n      var s = document.createElement('script');\n      s.src = url;\n      s.async = false;\n      s.onreadystatechange = s.onload = function() {\n        root._bokeh_is_loading--;\n        if (root._bokeh_is_loading === 0) {\n          console.log(\"Bokeh: all BokehJS libraries loaded\");\n          run_callbacks()\n        }\n      };\n      s.onerror = function() {\n        console.warn(\"failed to load library \" + url);\n      };\n      console.log(\"Bokeh: injecting script tag for BokehJS library: \", url);\n      document.getElementsByTagName(\"head\")[0].appendChild(s);\n    }\n  };var element = document.getElementById(\"1001\");\n  if (element == null) {\n    console.log(\"Bokeh: ERROR: autoload.js configured with elementid '1001' but no matching script tag was found. \")\n    return false;\n  }\n\n  var js_urls = [\"https://cdn.pydata.org/bokeh/release/bokeh-1.0.1.min.js\", \"https://cdn.pydata.org/bokeh/release/bokeh-widgets-1.0.1.min.js\", \"https://cdn.pydata.org/bokeh/release/bokeh-tables-1.0.1.min.js\", \"https://cdn.pydata.org/bokeh/release/bokeh-gl-1.0.1.min.js\"];\n\n  var inline_js = [\n    function(Bokeh) {\n      Bokeh.set_log_level(\"info\");\n    },\n    \n    function(Bokeh) {\n      \n    },\n    function(Bokeh) {\n      console.log(\"Bokeh: injecting CSS: https://cdn.pydata.org/bokeh/release/bokeh-1.0.1.min.css\");\n      Bokeh.embed.inject_css(\"https://cdn.pydata.org/bokeh/release/bokeh-1.0.1.min.css\");\n      console.log(\"Bokeh: injecting CSS: https://cdn.pydata.org/bokeh/release/bokeh-widgets-1.0.1.min.css\");\n      Bokeh.embed.inject_css(\"https://cdn.pydata.org/bokeh/release/bokeh-widgets-1.0.1.min.css\");\n      console.log(\"Bokeh: injecting CSS: https://cdn.pydata.org/bokeh/release/bokeh-tables-1.0.1.min.css\");\n      Bokeh.embed.inject_css(\"https://cdn.pydata.org/bokeh/release/bokeh-tables-1.0.1.min.css\");\n    }\n  ];\n\n  function run_inline_js() {\n    \n    if ((root.Bokeh !== undefined) || (force === true)) {\n      for (var i = 0; i < inline_js.length; i++) {\n        inline_js[i].call(root, root.Bokeh);\n      }if (force === true) {\n        display_loaded();\n      }} else if (Date.now() < root._bokeh_timeout) {\n      setTimeout(run_inline_js, 100);\n    } else if (!root._bokeh_failed_load) {\n      console.log(\"Bokeh: BokehJS failed to load within specified timeout.\");\n      root._bokeh_failed_load = true;\n    } else if (force !== true) {\n      var cell = $(document.getElementById(\"1001\")).parents('.cell').data().cell;\n      cell.output_area.append_execute_result(NB_LOAD_WARNING)\n    }\n\n  }\n\n  if (root._bokeh_is_loading === 0) {\n    console.log(\"Bokeh: BokehJS loaded, going straight to plotting\");\n    run_inline_js();\n  } else {\n    load_libs(js_urls, function() {\n      console.log(\"Bokeh: BokehJS plotting callback run at\", now());\n      run_inline_js();\n    });\n  }\n}(window));"
     },
     "metadata": {},
     "output_type": "display_data"
    }
   ],
   "source": [
    "# created with Python 3.6.7\n",
    "import pandas as pd\n",
    "from bokeh.plotting import figure, show\n",
    "from bokeh.models import ColumnDataSource, FactorRange, FixedTicker, Legend\n",
    "from bokeh.io import output_notebook\n",
    "from collections import Counter\n",
    "from bokeh.transform import factor_cmap\n",
    "from bokeh.palettes import Paired, Spectral\n",
    "import itertools\n",
    "pd.set_option('display.max_columns', 150)\n",
    "output_notebook()"
   ]
  },
  {
   "cell_type": "code",
   "execution_count": 3,
   "metadata": {},
   "outputs": [
    {
     "name": "stderr",
     "output_type": "stream",
     "text": [
      "/Users/howard/anaconda2/envs/py36/lib/python3.6/site-packages/IPython/core/interactiveshell.py:3020: DtypeWarning: Columns (25,51) have mixed types. Specify dtype option on import or set low_memory=False.\n",
      "  interactivity=interactivity, compiler=compiler, result=result)\n"
     ]
    }
   ],
   "source": [
    "# load the data\n",
    "filename = 'NFL Play by Play 2009-2017 (v4).csv'\n",
    "df = pd.read_csv(filename)"
   ]
  },
  {
   "cell_type": "code",
   "execution_count": 5,
   "metadata": {},
   "outputs": [
    {
     "data": {
      "text/plain": [
       "61154"
      ]
     },
     "execution_count": 5,
     "metadata": {},
     "output_type": "execute_result"
    }
   ],
   "source": [
    "df['down'].isnull().sum()\n",
    "pd.to_numeric(df['down'], errors='coerce').isnull().sum()"
   ]
  },
  {
   "cell_type": "code",
   "execution_count": 10,
   "metadata": {},
   "outputs": [],
   "source": [
    "# if you want to filter down to just a single team enter it here\n",
    "team = 'all'\n",
    "\n",
    "# to see valid team name strings uncomment the next line\n",
    "# list(set(df['posteam']))"
   ]
  },
  {
   "cell_type": "code",
   "execution_count": 11,
   "metadata": {},
   "outputs": [],
   "source": [
    "if team.lower() == 'all':\n",
    "    team_df = df\n",
    "else:\n",
    "    team_df = df.loc[df['posteam'] == team]\n",
    "team_df = team_df.loc[df['down'].notnull()]"
   ]
  },
  {
   "cell_type": "code",
   "execution_count": 12,
   "metadata": {},
   "outputs": [
    {
     "data": {
      "text/plain": [
       "Counter({'Pass': 158928,\n",
       "         'Run': 120624,\n",
       "         'Punt': 22003,\n",
       "         'Sack': 10643,\n",
       "         'Field Goal': 8927,\n",
       "         'No Play': 21225,\n",
       "         'QB Kneel': 3529,\n",
       "         'Spike': 640,\n",
       "         'Timeout': 12,\n",
       "         'Kickoff': 2,\n",
       "         'Half End': 1})"
      ]
     },
     "execution_count": 12,
     "metadata": {},
     "output_type": "execute_result"
    }
   ],
   "source": [
    "# counting play types\n",
    "all_play_types = Counter(team_df['PlayType'])\n",
    "all_play_types"
   ]
  },
  {
   "cell_type": "code",
   "execution_count": 13,
   "metadata": {},
   "outputs": [],
   "source": [
    "plays_on_down = [Counter(team_df.loc[team_df['down'] == down]['PlayType']) for down in range(1,5)]"
   ]
  },
  {
   "cell_type": "code",
   "execution_count": 14,
   "metadata": {},
   "outputs": [
    {
     "data": {
      "text/plain": [
       "Counter({'Pass': 59329,\n",
       "         'Run': 65549,\n",
       "         'No Play': 7905,\n",
       "         'Field Goal': 258,\n",
       "         'Sack': 3245,\n",
       "         'QB Kneel': 2071,\n",
       "         'Spike': 519,\n",
       "         'Timeout': 1,\n",
       "         'Punt': 1})"
      ]
     },
     "execution_count": 14,
     "metadata": {},
     "output_type": "execute_result"
    }
   ],
   "source": [
    "# play_on_down is a list of coutners.\n",
    "# to see the types and count of plays on first down, access the 0th element of the list\n",
    "plays_on_down[0]"
   ]
  },
  {
   "cell_type": "code",
   "execution_count": 17,
   "metadata": {},
   "outputs": [
    {
     "data": {
      "text/html": [
       "\n",
       "\n",
       "\n",
       "\n",
       "\n",
       "\n",
       "  <div class=\"bk-root\" id=\"c1069347-841f-4b25-979f-96dfbbf206c9\"></div>\n"
      ]
     },
     "metadata": {},
     "output_type": "display_data"
    },
    {
     "data": {
      "application/javascript": [
       "(function(root) {\n",
       "  function embed_document(root) {\n",
       "    \n",
       "  var docs_json = {\"4ae5c78b-9e74-49d2-b625-c0e4c74f7ed3\":{\"roots\":{\"references\":[{\"attributes\":{\"below\":[{\"id\":\"1092\",\"type\":\"CategoricalAxis\"}],\"left\":[{\"id\":\"1096\",\"type\":\"LinearAxis\"}],\"plot_height\":350,\"plot_width\":750,\"renderers\":[{\"id\":\"1092\",\"type\":\"CategoricalAxis\"},{\"id\":\"1095\",\"type\":\"Grid\"},{\"id\":\"1096\",\"type\":\"LinearAxis\"},{\"id\":\"1100\",\"type\":\"Grid\"},{\"id\":\"1108\",\"type\":\"GlyphRenderer\"}],\"title\":{\"id\":\"1082\",\"type\":\"Title\"},\"toolbar\":{\"id\":\"1102\",\"type\":\"Toolbar\"},\"toolbar_location\":null,\"x_range\":{\"id\":\"1081\",\"type\":\"FactorRange\"},\"x_scale\":{\"id\":\"1088\",\"type\":\"CategoricalScale\"},\"y_range\":{\"id\":\"1086\",\"type\":\"DataRange1d\"},\"y_scale\":{\"id\":\"1090\",\"type\":\"LinearScale\"}},\"id\":\"1083\",\"subtype\":\"Figure\",\"type\":\"Plot\"},{\"attributes\":{\"axis_label\":\"Number of Plays\",\"formatter\":{\"id\":\"1120\",\"type\":\"BasicTickFormatter\"},\"plot\":{\"id\":\"1083\",\"subtype\":\"Figure\",\"type\":\"Plot\"},\"ticker\":{\"id\":\"1097\",\"type\":\"BasicTicker\"}},\"id\":\"1096\",\"type\":\"LinearAxis\"},{\"attributes\":{},\"id\":\"1097\",\"type\":\"BasicTicker\"},{\"attributes\":{},\"id\":\"1037\",\"type\":\"UnionRenderers\"},{\"attributes\":{},\"id\":\"1038\",\"type\":\"Selection\"},{\"attributes\":{},\"id\":\"1093\",\"type\":\"CategoricalTicker\"},{\"attributes\":{\"callback\":null,\"renderers\":\"auto\",\"tooltips\":[[\"Down, Play\",\"@x\"],[\"Count\",\"@counts\"]]},\"id\":\"1101\",\"type\":\"HoverTool\"},{\"attributes\":{\"active_drag\":\"auto\",\"active_inspect\":\"auto\",\"active_multi\":null,\"active_scroll\":\"auto\",\"active_tap\":\"auto\",\"tools\":[{\"id\":\"1101\",\"type\":\"HoverTool\"}]},\"id\":\"1102\",\"type\":\"Toolbar\"},{\"attributes\":{\"callback\":null,\"data\":{\"counts\":[59329,65549,1,258,52840,40838,0,238,44229,12638,5,222,2530,1599,21997,8209],\"x\":[[\"1\",\"Pass\"],[\"1\",\"Run\"],[\"1\",\"Punt\"],[\"1\",\"Field Goal\"],[\"2\",\"Pass\"],[\"2\",\"Run\"],[\"2\",\"Punt\"],[\"2\",\"Field Goal\"],[\"3\",\"Pass\"],[\"3\",\"Run\"],[\"3\",\"Punt\"],[\"3\",\"Field Goal\"],[\"4\",\"Pass\"],[\"4\",\"Run\"],[\"4\",\"Punt\"],[\"4\",\"Field Goal\"]]},\"selected\":{\"id\":\"1038\",\"type\":\"Selection\"},\"selection_policy\":{\"id\":\"1037\",\"type\":\"UnionRenderers\"}},\"id\":\"1002\",\"type\":\"ColumnDataSource\"},{\"attributes\":{\"dimension\":1,\"plot\":{\"id\":\"1083\",\"subtype\":\"Figure\",\"type\":\"Plot\"},\"ticker\":{\"id\":\"1097\",\"type\":\"BasicTicker\"}},\"id\":\"1100\",\"type\":\"Grid\"},{\"attributes\":{\"callback\":null,\"factors\":[[\"1\",\"Pass\"],[\"1\",\"Run\"],[\"1\",\"Punt\"],[\"1\",\"Field Goal\"],[\"2\",\"Pass\"],[\"2\",\"Run\"],[\"2\",\"Punt\"],[\"2\",\"Field Goal\"],[\"3\",\"Pass\"],[\"3\",\"Run\"],[\"3\",\"Punt\"],[\"3\",\"Field Goal\"],[\"4\",\"Pass\"],[\"4\",\"Run\"],[\"4\",\"Punt\"],[\"4\",\"Field Goal\"]],\"range_padding\":0.1},\"id\":\"1081\",\"type\":\"FactorRange\"},{\"attributes\":{\"source\":{\"id\":\"1002\",\"type\":\"ColumnDataSource\"}},\"id\":\"1109\",\"type\":\"CDSView\"},{\"attributes\":{\"data_source\":{\"id\":\"1002\",\"type\":\"ColumnDataSource\"},\"glyph\":{\"id\":\"1106\",\"type\":\"VBar\"},\"hover_glyph\":null,\"muted_glyph\":null,\"nonselection_glyph\":{\"id\":\"1107\",\"type\":\"VBar\"},\"selection_glyph\":null,\"view\":{\"id\":\"1109\",\"type\":\"CDSView\"}},\"id\":\"1108\",\"type\":\"GlyphRenderer\"},{\"attributes\":{\"end\":2,\"factors\":[\"Pass\",\"Run\",\"Punt\",\"Field Goal\"],\"palette\":[\"#2b83ba\",\"#abdda4\",\"#fdae61\",\"#d7191c\"],\"start\":1},\"id\":\"1104\",\"type\":\"CategoricalColorMapper\"},{\"attributes\":{\"fill_alpha\":{\"value\":0.1},\"fill_color\":{\"value\":\"#1f77b4\"},\"line_alpha\":{\"value\":0.1},\"line_color\":{\"value\":\"#1f77b4\"},\"top\":{\"field\":\"counts\"},\"width\":{\"value\":0.9},\"x\":{\"field\":\"x\"}},\"id\":\"1107\",\"type\":\"VBar\"},{\"attributes\":{\"plot\":null,\"text\":\"Play by Down\"},\"id\":\"1082\",\"type\":\"Title\"},{\"attributes\":{\"fill_color\":{\"field\":\"x\",\"transform\":{\"id\":\"1104\",\"type\":\"CategoricalColorMapper\"}},\"line_color\":{\"value\":\"white\"},\"top\":{\"field\":\"counts\"},\"width\":{\"value\":0.9},\"x\":{\"field\":\"x\"}},\"id\":\"1106\",\"type\":\"VBar\"},{\"attributes\":{\"callback\":null,\"start\":0},\"id\":\"1086\",\"type\":\"DataRange1d\"},{\"attributes\":{},\"id\":\"1118\",\"type\":\"CategoricalTickFormatter\"},{\"attributes\":{},\"id\":\"1088\",\"type\":\"CategoricalScale\"},{\"attributes\":{\"grid_line_color\":{\"value\":null},\"plot\":{\"id\":\"1083\",\"subtype\":\"Figure\",\"type\":\"Plot\"},\"ticker\":{\"id\":\"1093\",\"type\":\"CategoricalTicker\"}},\"id\":\"1095\",\"type\":\"Grid\"},{\"attributes\":{},\"id\":\"1120\",\"type\":\"BasicTickFormatter\"},{\"attributes\":{},\"id\":\"1090\",\"type\":\"LinearScale\"},{\"attributes\":{\"axis_label\":\"Down\",\"formatter\":{\"id\":\"1118\",\"type\":\"CategoricalTickFormatter\"},\"major_label_orientation\":1,\"plot\":{\"id\":\"1083\",\"subtype\":\"Figure\",\"type\":\"Plot\"},\"ticker\":{\"id\":\"1093\",\"type\":\"CategoricalTicker\"}},\"id\":\"1092\",\"type\":\"CategoricalAxis\"}],\"root_ids\":[\"1083\"]},\"title\":\"Bokeh Application\",\"version\":\"1.0.1\"}};\n",
       "  var render_items = [{\"docid\":\"4ae5c78b-9e74-49d2-b625-c0e4c74f7ed3\",\"roots\":{\"1083\":\"c1069347-841f-4b25-979f-96dfbbf206c9\"}}];\n",
       "  root.Bokeh.embed.embed_items_notebook(docs_json, render_items);\n",
       "\n",
       "  }\n",
       "  if (root.Bokeh !== undefined) {\n",
       "    embed_document(root);\n",
       "  } else {\n",
       "    var attempts = 0;\n",
       "    var timer = setInterval(function(root) {\n",
       "      if (root.Bokeh !== undefined) {\n",
       "        embed_document(root);\n",
       "        clearInterval(timer);\n",
       "      }\n",
       "      attempts++;\n",
       "      if (attempts > 100) {\n",
       "        console.log(\"Bokeh: ERROR: Unable to run BokehJS code because BokehJS library is missing\");\n",
       "        clearInterval(timer);\n",
       "      }\n",
       "    }, 10, root)\n",
       "  }\n",
       "})(window);"
      ],
      "application/vnd.bokehjs_exec.v0+json": ""
     },
     "metadata": {
      "application/vnd.bokehjs_exec.v0+json": {
       "id": "1083"
      }
     },
     "output_type": "display_data"
    }
   ],
   "source": [
    "# getting data ready for plotting in Bokeh\n",
    "downs = ['1','2','3','4']\n",
    "plays = ['Pass', 'Run', 'Punt', 'Field Goal']\n",
    "x = list(itertools.product(downs, plays))\n",
    "plays_on_down = [Counter(team_df.loc[team_df['down'] == int(down)]['PlayType']) for down in downs]\n",
    "counts = [plays_on_down[int(down)-1][play] for down, play in x]\n",
    "source = ColumnDataSource(data=dict(x=x, counts=counts))\n",
    "TOOLTIPS = [('Down, Play', '@x'),('Count', '@counts')]\n",
    "p = figure(x_range=FactorRange(*x), plot_height=350, plot_width=750, title='Play by Down',\n",
    "           toolbar_location=None, tools='hover', tooltips=TOOLTIPS)\n",
    "p.vbar(x='x', top='counts', width=0.9, source=source, line_color='white',\n",
    "           fill_color=factor_cmap('x', palette=Spectral[4], factors=plays, start=1, end=2))\n",
    "p.y_range.start = 0\n",
    "p.x_range.range_padding = 0.1\n",
    "p.xaxis.major_label_orientation = 1\n",
    "p.xaxis.axis_label = 'Down'\n",
    "p.yaxis.axis_label = 'Number of Plays'\n",
    "p.xgrid.grid_line_color = None\n",
    "show(p)"
   ]
  },
  {
   "cell_type": "code",
   "execution_count": 24,
   "metadata": {},
   "outputs": [
    {
     "data": {
      "text/html": [
       "\n",
       "\n",
       "\n",
       "\n",
       "\n",
       "\n",
       "  <div class=\"bk-root\" id=\"b0a19b8f-5256-48f1-9777-fc7095ca2518\"></div>\n"
      ]
     },
     "metadata": {},
     "output_type": "display_data"
    },
    {
     "data": {
      "application/javascript": [
       "(function(root) {\n",
       "  function embed_document(root) {\n",
       "    \n",
       "  var docs_json = {\"c48a668a-fba3-4b23-82ff-9bcb38e077d8\":{\"roots\":{\"references\":[{\"attributes\":{\"below\":[{\"id\":\"1569\",\"type\":\"LinearAxis\"}],\"left\":[{\"id\":\"1574\",\"type\":\"LinearAxis\"}],\"plot_height\":350,\"plot_width\":750,\"renderers\":[{\"id\":\"1569\",\"type\":\"LinearAxis\"},{\"id\":\"1573\",\"type\":\"Grid\"},{\"id\":\"1574\",\"type\":\"LinearAxis\"},{\"id\":\"1578\",\"type\":\"Grid\"},{\"id\":\"1590\",\"type\":\"Legend\"},{\"id\":\"1583\",\"type\":\"GlyphRenderer\"},{\"id\":\"1595\",\"type\":\"GlyphRenderer\"}],\"title\":{\"id\":\"1558\",\"type\":\"Title\"},\"toolbar\":{\"id\":\"1579\",\"type\":\"Toolbar\"},\"toolbar_location\":null,\"x_range\":{\"id\":\"1561\",\"type\":\"DataRange1d\"},\"x_scale\":{\"id\":\"1565\",\"type\":\"LinearScale\"},\"y_range\":{\"id\":\"1563\",\"type\":\"DataRange1d\"},\"y_scale\":{\"id\":\"1567\",\"type\":\"LinearScale\"}},\"id\":\"1559\",\"subtype\":\"Figure\",\"type\":\"Plot\"},{\"attributes\":{\"line_alpha\":0.1,\"line_color\":\"#1f77b4\",\"line_width\":4,\"x\":{\"field\":\"x\"},\"y\":{\"field\":\"y\"}},\"id\":\"1582\",\"type\":\"Line\"},{\"attributes\":{\"data_source\":{\"id\":\"1580\",\"type\":\"ColumnDataSource\"},\"glyph\":{\"id\":\"1581\",\"type\":\"Line\"},\"hover_glyph\":null,\"muted_glyph\":null,\"nonselection_glyph\":{\"id\":\"1582\",\"type\":\"Line\"},\"selection_glyph\":null,\"view\":{\"id\":\"1584\",\"type\":\"CDSView\"}},\"id\":\"1583\",\"type\":\"GlyphRenderer\"},{\"attributes\":{\"source\":{\"id\":\"1580\",\"type\":\"ColumnDataSource\"}},\"id\":\"1584\",\"type\":\"CDSView\"},{\"attributes\":{},\"id\":\"1570\",\"type\":\"BasicTicker\"},{\"attributes\":{},\"id\":\"1586\",\"type\":\"BasicTickFormatter\"},{\"attributes\":{},\"id\":\"1588\",\"type\":\"BasicTickFormatter\"},{\"attributes\":{},\"id\":\"1565\",\"type\":\"LinearScale\"},{\"attributes\":{\"items\":[{\"id\":\"1591\",\"type\":\"LegendItem\"},{\"id\":\"1604\",\"type\":\"LegendItem\"}],\"plot\":{\"id\":\"1559\",\"subtype\":\"Figure\",\"type\":\"Plot\"}},\"id\":\"1590\",\"type\":\"Legend\"},{\"attributes\":{\"callback\":null},\"id\":\"1563\",\"type\":\"DataRange1d\"},{\"attributes\":{\"axis_label\":\"Number of Plays\",\"formatter\":{\"id\":\"1588\",\"type\":\"BasicTickFormatter\"},\"plot\":{\"id\":\"1559\",\"subtype\":\"Figure\",\"type\":\"Plot\"},\"ticker\":{\"id\":\"1575\",\"type\":\"BasicTicker\"}},\"id\":\"1574\",\"type\":\"LinearAxis\"},{\"attributes\":{\"label\":{\"value\":\"Pass\"},\"renderers\":[{\"id\":\"1583\",\"type\":\"GlyphRenderer\"}]},\"id\":\"1591\",\"type\":\"LegendItem\"},{\"attributes\":{\"callback\":null,\"data\":{\"x\":[1,2,3,4,5,6,7,8,9,10,11,12,13,14,15,16,17,18,19,20,21,22,23,24],\"y\":[1807,3027,3639,3909,4096,3935,3713,3432,2903,4747,1693,1269,1086,858,965,580,527,443,375,403,185,144,103,96]},\"selected\":{\"id\":\"1603\",\"type\":\"Selection\"},\"selection_policy\":{\"id\":\"1602\",\"type\":\"UnionRenderers\"}},\"id\":\"1580\",\"type\":\"ColumnDataSource\"},{\"attributes\":{\"line_color\":\"#abdda4\",\"line_width\":4,\"x\":{\"field\":\"x\"},\"y\":{\"field\":\"y\"}},\"id\":\"1593\",\"type\":\"Line\"},{\"attributes\":{\"line_alpha\":0.1,\"line_color\":\"#1f77b4\",\"line_width\":4,\"x\":{\"field\":\"x\"},\"y\":{\"field\":\"y\"}},\"id\":\"1594\",\"type\":\"Line\"},{\"attributes\":{\"line_color\":\"#2b83ba\",\"line_width\":4,\"x\":{\"field\":\"x\"},\"y\":{\"field\":\"y\"}},\"id\":\"1581\",\"type\":\"Line\"},{\"attributes\":{\"axis_label\":\"Yards to Go\",\"formatter\":{\"id\":\"1586\",\"type\":\"BasicTickFormatter\"},\"plot\":{\"id\":\"1559\",\"subtype\":\"Figure\",\"type\":\"Plot\"},\"ticker\":{\"id\":\"1570\",\"type\":\"BasicTicker\"}},\"id\":\"1569\",\"type\":\"LinearAxis\"},{\"attributes\":{\"data_source\":{\"id\":\"1592\",\"type\":\"ColumnDataSource\"},\"glyph\":{\"id\":\"1593\",\"type\":\"Line\"},\"hover_glyph\":null,\"muted_glyph\":null,\"nonselection_glyph\":{\"id\":\"1594\",\"type\":\"Line\"},\"selection_glyph\":null,\"view\":{\"id\":\"1596\",\"type\":\"CDSView\"}},\"id\":\"1595\",\"type\":\"GlyphRenderer\"},{\"attributes\":{\"callback\":null,\"data\":{\"x\":[1,2,3,4,5,6,7,8,9,10,11,12,13,14,15,16,17,18,19,20,21,22,23,24],\"y\":[4837,1589,858,701,614,521,498,415,382,520,244,208,182,138,146,119,123,99,86,79,67,43,33,27]},\"selected\":{\"id\":\"1652\",\"type\":\"Selection\"},\"selection_policy\":{\"id\":\"1651\",\"type\":\"UnionRenderers\"}},\"id\":\"1592\",\"type\":\"ColumnDataSource\"},{\"attributes\":{},\"id\":\"1575\",\"type\":\"BasicTicker\"},{\"attributes\":{\"source\":{\"id\":\"1592\",\"type\":\"ColumnDataSource\"}},\"id\":\"1596\",\"type\":\"CDSView\"},{\"attributes\":{},\"id\":\"1602\",\"type\":\"UnionRenderers\"},{\"attributes\":{},\"id\":\"1567\",\"type\":\"LinearScale\"},{\"attributes\":{},\"id\":\"1603\",\"type\":\"Selection\"},{\"attributes\":{\"callback\":null},\"id\":\"1561\",\"type\":\"DataRange1d\"},{\"attributes\":{\"label\":{\"value\":\"Run\"},\"renderers\":[{\"id\":\"1595\",\"type\":\"GlyphRenderer\"}]},\"id\":\"1604\",\"type\":\"LegendItem\"},{\"attributes\":{\"plot\":{\"id\":\"1559\",\"subtype\":\"Figure\",\"type\":\"Plot\"},\"ticker\":{\"id\":\"1570\",\"type\":\"BasicTicker\"}},\"id\":\"1573\",\"type\":\"Grid\"},{\"attributes\":{\"dimension\":1,\"plot\":{\"id\":\"1559\",\"subtype\":\"Figure\",\"type\":\"Plot\"},\"ticker\":{\"id\":\"1575\",\"type\":\"BasicTicker\"}},\"id\":\"1578\",\"type\":\"Grid\"},{\"attributes\":{\"plot\":null,\"text\":\"Third Down Play Type by Yards to Go\"},\"id\":\"1558\",\"type\":\"Title\"},{\"attributes\":{},\"id\":\"1651\",\"type\":\"UnionRenderers\"},{\"attributes\":{},\"id\":\"1652\",\"type\":\"Selection\"},{\"attributes\":{\"active_drag\":\"auto\",\"active_inspect\":\"auto\",\"active_multi\":null,\"active_scroll\":\"auto\",\"active_tap\":\"auto\"},\"id\":\"1579\",\"type\":\"Toolbar\"}],\"root_ids\":[\"1559\"]},\"title\":\"Bokeh Application\",\"version\":\"1.0.1\"}};\n",
       "  var render_items = [{\"docid\":\"c48a668a-fba3-4b23-82ff-9bcb38e077d8\",\"roots\":{\"1559\":\"b0a19b8f-5256-48f1-9777-fc7095ca2518\"}}];\n",
       "  root.Bokeh.embed.embed_items_notebook(docs_json, render_items);\n",
       "\n",
       "  }\n",
       "  if (root.Bokeh !== undefined) {\n",
       "    embed_document(root);\n",
       "  } else {\n",
       "    var attempts = 0;\n",
       "    var timer = setInterval(function(root) {\n",
       "      if (root.Bokeh !== undefined) {\n",
       "        embed_document(root);\n",
       "        clearInterval(timer);\n",
       "      }\n",
       "      attempts++;\n",
       "      if (attempts > 100) {\n",
       "        console.log(\"Bokeh: ERROR: Unable to run BokehJS code because BokehJS library is missing\");\n",
       "        clearInterval(timer);\n",
       "      }\n",
       "    }, 10, root)\n",
       "  }\n",
       "})(window);"
      ],
      "application/vnd.bokehjs_exec.v0+json": ""
     },
     "metadata": {
      "application/vnd.bokehjs_exec.v0+json": {
       "id": "1559"
      }
     },
     "output_type": "display_data"
    }
   ],
   "source": [
    "# looking at just run and pass plays on third down as a function of yards to go for a first down\n",
    "y2g = range(1,25)\n",
    "team_df_d3 = team_df.loc[team_df['down'] == 3]\n",
    "plays_on_d3 = [Counter(team_df_d3.loc[team_df_d3['ydstogo'] == yrd]['PlayType']) for yrd in y2g]\n",
    "x = y2g\n",
    "y_runs = [play['Run'] for play in plays_on_d3]\n",
    "y_pass = [play['Pass'] for play in plays_on_d3]\n",
    "p = figure(title='Third Down Play Type by Yards to Go', toolbar_location=None, tools='',\n",
    "           plot_height=350, plot_width=750)\n",
    "p.line(x, y_pass, color='#2b83ba', legend='Pass', line_width=4)\n",
    "p.line(x, y_runs, color='#abdda4', legend='Run', line_width=4)\n",
    "p.legend.location = 'top_right'\n",
    "p.xaxis.axis_label = 'Yards to Go'\n",
    "p.yaxis.axis_label = 'Number of Plays'\n",
    "show(p)"
   ]
  },
  {
   "cell_type": "code",
   "execution_count": 25,
   "metadata": {},
   "outputs": [
    {
     "data": {
      "text/html": [
       "\n",
       "\n",
       "\n",
       "\n",
       "\n",
       "\n",
       "  <div class=\"bk-root\" id=\"2f1af8b6-1358-496a-88b5-8eef7939f558\"></div>\n"
      ]
     },
     "metadata": {},
     "output_type": "display_data"
    },
    {
     "data": {
      "application/javascript": [
       "(function(root) {\n",
       "  function embed_document(root) {\n",
       "    \n",
       "  var docs_json = {\"6ad95d06-5519-4612-a841-d6f163217539\":{\"roots\":{\"references\":[{\"attributes\":{\"below\":[{\"id\":\"1718\",\"type\":\"LinearAxis\"}],\"left\":[{\"id\":\"1723\",\"type\":\"LinearAxis\"}],\"plot_height\":350,\"plot_width\":750,\"renderers\":[{\"id\":\"1718\",\"type\":\"LinearAxis\"},{\"id\":\"1722\",\"type\":\"Grid\"},{\"id\":\"1723\",\"type\":\"LinearAxis\"},{\"id\":\"1727\",\"type\":\"Grid\"},{\"id\":\"1732\",\"type\":\"GlyphRenderer\"}],\"title\":{\"id\":\"1707\",\"type\":\"Title\"},\"toolbar\":{\"id\":\"1728\",\"type\":\"Toolbar\"},\"toolbar_location\":null,\"x_range\":{\"id\":\"1710\",\"type\":\"DataRange1d\"},\"x_scale\":{\"id\":\"1714\",\"type\":\"LinearScale\"},\"y_range\":{\"id\":\"1712\",\"type\":\"DataRange1d\"},\"y_scale\":{\"id\":\"1716\",\"type\":\"LinearScale\"}},\"id\":\"1708\",\"subtype\":\"Figure\",\"type\":\"Plot\"},{\"attributes\":{\"data_source\":{\"id\":\"1729\",\"type\":\"ColumnDataSource\"},\"glyph\":{\"id\":\"1730\",\"type\":\"Line\"},\"hover_glyph\":null,\"muted_glyph\":null,\"nonselection_glyph\":{\"id\":\"1731\",\"type\":\"Line\"},\"selection_glyph\":null,\"view\":{\"id\":\"1733\",\"type\":\"CDSView\"}},\"id\":\"1732\",\"type\":\"GlyphRenderer\"},{\"attributes\":{\"plot\":null,\"text\":\"Third Down Pass/Run Ratio by Yards to Go\"},\"id\":\"1707\",\"type\":\"Title\"},{\"attributes\":{},\"id\":\"1783\",\"type\":\"BasicTickFormatter\"},{\"attributes\":{},\"id\":\"1724\",\"type\":\"BasicTicker\"},{\"attributes\":{\"callback\":null,\"data\":{\"x\":[1,2,3,4,5,6,7,8,9,10,11,12,13,14,15,16,17,18,19,20,21,22,23,24],\"y\":[0.37357866446144306,1.9049716803020769,4.241258741258742,5.576319543509272,6.671009771986971,7.552783109404991,7.455823293172691,8.269879518072289,7.599476439790576,9.128846153846155,6.938524590163935,6.100961538461538,5.967032967032967,6.217391304347826,6.609589041095891,4.873949579831932,4.284552845528455,4.474747474747475,4.3604651162790695,5.10126582278481,2.7611940298507465,3.3488372093023258,3.121212121212121,3.5555555555555554]},\"selected\":{\"id\":\"1788\",\"type\":\"Selection\"},\"selection_policy\":{\"id\":\"1787\",\"type\":\"UnionRenderers\"}},\"id\":\"1729\",\"type\":\"ColumnDataSource\"},{\"attributes\":{},\"id\":\"1785\",\"type\":\"BasicTickFormatter\"},{\"attributes\":{\"callback\":null},\"id\":\"1710\",\"type\":\"DataRange1d\"},{\"attributes\":{\"axis_label\":\"Pass/Run Ratio\",\"formatter\":{\"id\":\"1785\",\"type\":\"BasicTickFormatter\"},\"plot\":{\"id\":\"1708\",\"subtype\":\"Figure\",\"type\":\"Plot\"},\"ticker\":{\"id\":\"1724\",\"type\":\"BasicTicker\"}},\"id\":\"1723\",\"type\":\"LinearAxis\"},{\"attributes\":{},\"id\":\"1719\",\"type\":\"BasicTicker\"},{\"attributes\":{\"source\":{\"id\":\"1729\",\"type\":\"ColumnDataSource\"}},\"id\":\"1733\",\"type\":\"CDSView\"},{\"attributes\":{\"callback\":null},\"id\":\"1712\",\"type\":\"DataRange1d\"},{\"attributes\":{\"axis_label\":\"Yards to Go\",\"formatter\":{\"id\":\"1783\",\"type\":\"BasicTickFormatter\"},\"plot\":{\"id\":\"1708\",\"subtype\":\"Figure\",\"type\":\"Plot\"},\"ticker\":{\"id\":\"1719\",\"type\":\"BasicTicker\"}},\"id\":\"1718\",\"type\":\"LinearAxis\"},{\"attributes\":{},\"id\":\"1788\",\"type\":\"Selection\"},{\"attributes\":{},\"id\":\"1716\",\"type\":\"LinearScale\"},{\"attributes\":{\"dimension\":1,\"plot\":{\"id\":\"1708\",\"subtype\":\"Figure\",\"type\":\"Plot\"},\"ticker\":{\"id\":\"1724\",\"type\":\"BasicTicker\"}},\"id\":\"1727\",\"type\":\"Grid\"},{\"attributes\":{\"line_color\":\"#2b83ba\",\"line_width\":4,\"x\":{\"field\":\"x\"},\"y\":{\"field\":\"y\"}},\"id\":\"1730\",\"type\":\"Line\"},{\"attributes\":{\"line_alpha\":0.1,\"line_color\":\"#1f77b4\",\"line_width\":4,\"x\":{\"field\":\"x\"},\"y\":{\"field\":\"y\"}},\"id\":\"1731\",\"type\":\"Line\"},{\"attributes\":{\"plot\":{\"id\":\"1708\",\"subtype\":\"Figure\",\"type\":\"Plot\"},\"ticker\":{\"id\":\"1719\",\"type\":\"BasicTicker\"}},\"id\":\"1722\",\"type\":\"Grid\"},{\"attributes\":{},\"id\":\"1787\",\"type\":\"UnionRenderers\"},{\"attributes\":{\"active_drag\":\"auto\",\"active_inspect\":\"auto\",\"active_multi\":null,\"active_scroll\":\"auto\",\"active_tap\":\"auto\"},\"id\":\"1728\",\"type\":\"Toolbar\"},{\"attributes\":{},\"id\":\"1714\",\"type\":\"LinearScale\"}],\"root_ids\":[\"1708\"]},\"title\":\"Bokeh Application\",\"version\":\"1.0.1\"}};\n",
       "  var render_items = [{\"docid\":\"6ad95d06-5519-4612-a841-d6f163217539\",\"roots\":{\"1708\":\"2f1af8b6-1358-496a-88b5-8eef7939f558\"}}];\n",
       "  root.Bokeh.embed.embed_items_notebook(docs_json, render_items);\n",
       "\n",
       "  }\n",
       "  if (root.Bokeh !== undefined) {\n",
       "    embed_document(root);\n",
       "  } else {\n",
       "    var attempts = 0;\n",
       "    var timer = setInterval(function(root) {\n",
       "      if (root.Bokeh !== undefined) {\n",
       "        embed_document(root);\n",
       "        clearInterval(timer);\n",
       "      }\n",
       "      attempts++;\n",
       "      if (attempts > 100) {\n",
       "        console.log(\"Bokeh: ERROR: Unable to run BokehJS code because BokehJS library is missing\");\n",
       "        clearInterval(timer);\n",
       "      }\n",
       "    }, 10, root)\n",
       "  }\n",
       "})(window);"
      ],
      "application/vnd.bokehjs_exec.v0+json": ""
     },
     "metadata": {
      "application/vnd.bokehjs_exec.v0+json": {
       "id": "1708"
      }
     },
     "output_type": "display_data"
    }
   ],
   "source": [
    "# looking at pass/run ratio on third down as a function of yards to go for a first down\n",
    "x = y2g\n",
    "y = [play['Pass']/play['Run'] for play in plays_on_d3]\n",
    "p = figure(title='Third Down Pass/Run Ratio by Yards to Go', toolbar_location=None, tools='',\n",
    "           plot_height=350, plot_width=750)\n",
    "p.line(x, y, color='#2b83ba', line_width=4)\n",
    "p.xaxis.axis_label = 'Yards to Go'\n",
    "p.yaxis.axis_label = 'Pass/Run Ratio'\n",
    "show(p)"
   ]
  },
  {
   "cell_type": "markdown",
   "metadata": {},
   "source": [
    "# Looking at plays as a fucntion of yard line"
   ]
  },
  {
   "cell_type": "code",
   "execution_count": 27,
   "metadata": {},
   "outputs": [],
   "source": [
    "yrdline = range(0,101)\n",
    "plays_on_yrd = [Counter(team_df.loc[team_df['yrdline100'] == yrd]['PlayType']) for yrd in yrdline]"
   ]
  },
  {
   "cell_type": "code",
   "execution_count": 28,
   "metadata": {},
   "outputs": [
    {
     "data": {
      "text/html": [
       "\n",
       "\n",
       "\n",
       "\n",
       "\n",
       "\n",
       "  <div class=\"bk-root\" id=\"08ba5b49-50db-4b3a-a584-25a28246a7fa\"></div>\n"
      ]
     },
     "metadata": {},
     "output_type": "display_data"
    },
    {
     "data": {
      "application/javascript": [
       "(function(root) {\n",
       "  function embed_document(root) {\n",
       "    \n",
       "  var docs_json = {\"72d4d370-3b91-4b15-bb41-9ec230a87b5e\":{\"roots\":{\"references\":[{\"attributes\":{\"below\":[{\"id\":\"1842\",\"type\":\"LinearAxis\"}],\"left\":[{\"id\":\"1847\",\"type\":\"LinearAxis\"}],\"plot_height\":350,\"plot_width\":750,\"renderers\":[{\"id\":\"1842\",\"type\":\"LinearAxis\"},{\"id\":\"1846\",\"type\":\"Grid\"},{\"id\":\"1847\",\"type\":\"LinearAxis\"},{\"id\":\"1851\",\"type\":\"Grid\"},{\"id\":\"1863\",\"type\":\"Legend\"},{\"id\":\"1856\",\"type\":\"GlyphRenderer\"},{\"id\":\"1868\",\"type\":\"GlyphRenderer\"},{\"id\":\"1881\",\"type\":\"GlyphRenderer\"},{\"id\":\"1896\",\"type\":\"GlyphRenderer\"}],\"title\":{\"id\":\"1831\",\"type\":\"Title\"},\"toolbar\":{\"id\":\"1852\",\"type\":\"Toolbar\"},\"toolbar_location\":null,\"x_range\":{\"id\":\"1834\",\"type\":\"Range1d\"},\"x_scale\":{\"id\":\"1838\",\"type\":\"LinearScale\"},\"y_range\":{\"id\":\"1836\",\"type\":\"DataRange1d\"},\"y_scale\":{\"id\":\"1840\",\"type\":\"LinearScale\"}},\"id\":\"1832\",\"subtype\":\"Figure\",\"type\":\"Plot\"},{\"attributes\":{\"line_alpha\":0.1,\"line_color\":\"#1f77b4\",\"line_width\":4,\"x\":{\"field\":\"x\"},\"y\":{\"field\":\"y\"}},\"id\":\"1867\",\"type\":\"Line\"},{\"attributes\":{\"source\":{\"id\":\"1893\",\"type\":\"ColumnDataSource\"}},\"id\":\"1897\",\"type\":\"CDSView\"},{\"attributes\":{\"data_source\":{\"id\":\"1865\",\"type\":\"ColumnDataSource\"},\"glyph\":{\"id\":\"1866\",\"type\":\"Line\"},\"hover_glyph\":null,\"muted_glyph\":null,\"nonselection_glyph\":{\"id\":\"1867\",\"type\":\"Line\"},\"selection_glyph\":null,\"view\":{\"id\":\"1869\",\"type\":\"CDSView\"}},\"id\":\"1868\",\"type\":\"GlyphRenderer\"},{\"attributes\":{},\"id\":\"1907\",\"type\":\"UnionRenderers\"},{\"attributes\":{\"plot\":{\"id\":\"1832\",\"subtype\":\"Figure\",\"type\":\"Plot\"},\"ticker\":{\"id\":\"1910\",\"type\":\"FixedTicker\"}},\"id\":\"1846\",\"type\":\"Grid\"},{\"attributes\":{\"source\":{\"id\":\"1865\",\"type\":\"ColumnDataSource\"}},\"id\":\"1869\",\"type\":\"CDSView\"},{\"attributes\":{},\"id\":\"1908\",\"type\":\"Selection\"},{\"attributes\":{\"axis_label\":\"Number of Plays\",\"formatter\":{\"id\":\"1861\",\"type\":\"BasicTickFormatter\"},\"plot\":{\"id\":\"1832\",\"subtype\":\"Figure\",\"type\":\"Plot\"},\"ticker\":{\"id\":\"1848\",\"type\":\"BasicTicker\"}},\"id\":\"1847\",\"type\":\"LinearAxis\"},{\"attributes\":{},\"id\":\"1875\",\"type\":\"UnionRenderers\"},{\"attributes\":{},\"id\":\"1848\",\"type\":\"BasicTicker\"},{\"attributes\":{},\"id\":\"1876\",\"type\":\"Selection\"},{\"attributes\":{\"dimension\":1,\"plot\":{\"id\":\"1832\",\"subtype\":\"Figure\",\"type\":\"Plot\"},\"ticker\":{\"id\":\"1848\",\"type\":\"BasicTicker\"}},\"id\":\"1851\",\"type\":\"Grid\"},{\"attributes\":{\"label\":{\"value\":\"Run\"},\"renderers\":[{\"id\":\"1868\",\"type\":\"GlyphRenderer\"}]},\"id\":\"1877\",\"type\":\"LegendItem\"},{\"attributes\":{},\"id\":\"1978\",\"type\":\"Selection\"},{\"attributes\":{\"active_drag\":\"auto\",\"active_inspect\":\"auto\",\"active_multi\":null,\"active_scroll\":\"auto\",\"active_tap\":\"auto\"},\"id\":\"1852\",\"type\":\"Toolbar\"},{\"attributes\":{\"callback\":null,\"data\":{\"x\":[0,1,2,3,4,5,6,7,8,9,10,11,12,13,14,15,16,17,18,19,20,21,22,23,24,25,26,27,28,29,30,31,32,33,34,35,36,37,38,39,40,41,42,43,44,45,46,47,48,49,50,51,52,53,54,55,56,57,58,59,60,61,62,63,64,65,66,67,68,69,70,71,72,73,74,75,76,77,78,79,80,81,82,83,84,85,86,87,88,89,90,91,92,93,94,95,96,97,98,99,100],\"y\":[0,113,194,198,224,270,205,235,218,241,258,246,244,242,259,285,251,239,261,259,316,243,280,253,246,286,239,261,253,263,324,271,232,225,200,204,120,97,46,33,28,13,12,15,4,11,3,1,4,1,1,0,0,0,0,0,0,0,0,0,0,0,0,0,0,0,0,0,0,0,0,0,0,0,0,0,0,0,0,0,0,0,0,0,0,0,0,0,0,0,0,0,0,0,0,0,0,0,0,0,0]},\"selected\":{\"id\":\"1978\",\"type\":\"Selection\"},\"selection_policy\":{\"id\":\"1977\",\"type\":\"UnionRenderers\"}},\"id\":\"1893\",\"type\":\"ColumnDataSource\"},{\"attributes\":{\"line_color\":\"#fdae61\",\"line_width\":4,\"x\":{\"field\":\"x\"},\"y\":{\"field\":\"y\"}},\"id\":\"1879\",\"type\":\"Line\"},{\"attributes\":{\"line_color\":\"#2b83ba\",\"line_width\":4,\"x\":{\"field\":\"x\"},\"y\":{\"field\":\"y\"}},\"id\":\"1854\",\"type\":\"Line\"},{\"attributes\":{\"line_alpha\":0.1,\"line_color\":\"#1f77b4\",\"line_width\":4,\"x\":{\"field\":\"x\"},\"y\":{\"field\":\"y\"}},\"id\":\"1880\",\"type\":\"Line\"},{\"attributes\":{\"line_alpha\":0.1,\"line_color\":\"#1f77b4\",\"line_width\":4,\"x\":{\"field\":\"x\"},\"y\":{\"field\":\"y\"}},\"id\":\"1855\",\"type\":\"Line\"},{\"attributes\":{},\"id\":\"1977\",\"type\":\"UnionRenderers\"},{\"attributes\":{\"data_source\":{\"id\":\"1878\",\"type\":\"ColumnDataSource\"},\"glyph\":{\"id\":\"1879\",\"type\":\"Line\"},\"hover_glyph\":null,\"muted_glyph\":null,\"nonselection_glyph\":{\"id\":\"1880\",\"type\":\"Line\"},\"selection_glyph\":null,\"view\":{\"id\":\"1882\",\"type\":\"CDSView\"}},\"id\":\"1881\",\"type\":\"GlyphRenderer\"},{\"attributes\":{\"data_source\":{\"id\":\"1853\",\"type\":\"ColumnDataSource\"},\"glyph\":{\"id\":\"1854\",\"type\":\"Line\"},\"hover_glyph\":null,\"muted_glyph\":null,\"nonselection_glyph\":{\"id\":\"1855\",\"type\":\"Line\"},\"selection_glyph\":null,\"view\":{\"id\":\"1857\",\"type\":\"CDSView\"}},\"id\":\"1856\",\"type\":\"GlyphRenderer\"},{\"attributes\":{\"label\":{\"value\":\"Field Goal\"},\"renderers\":[{\"id\":\"1896\",\"type\":\"GlyphRenderer\"}]},\"id\":\"1909\",\"type\":\"LegendItem\"},{\"attributes\":{\"source\":{\"id\":\"1878\",\"type\":\"ColumnDataSource\"}},\"id\":\"1882\",\"type\":\"CDSView\"},{\"attributes\":{\"ticks\":[0,5,10,15,20,25,30,35,40,45,50,55,60,65,70,75,80,85,90,95,100]},\"id\":\"1910\",\"type\":\"FixedTicker\"},{\"attributes\":{\"callback\":null,\"data\":{\"x\":[0,1,2,3,4,5,6,7,8,9,10,11,12,13,14,15,16,17,18,19,20,21,22,23,24,25,26,27,28,29,30,31,32,33,34,35,36,37,38,39,40,41,42,43,44,45,46,47,48,49,50,51,52,53,54,55,56,57,58,59,60,61,62,63,64,65,66,67,68,69,70,71,72,73,74,75,76,77,78,79,80,81,82,83,84,85,86,87,88,89,90,91,92,93,94,95,96,97,98,99,100],\"y\":[0,2222,912,823,776,860,843,785,796,853,836,855,858,848,907,947,837,839,868,902,1005,928,895,957,1009,1060,945,1008,947,1085,1135,1036,1094,1071,1161,1216,1156,1122,1115,1171,1338,1175,1185,1273,1303,1410,1336,1252,1310,1318,1465,1365,1352,1459,1498,1691,1443,1498,1477,1610,1883,1577,1618,1664,1710,1887,1839,1651,1672,1827,1809,1961,1621,1512,1605,3366,1587,1443,1464,1407,5925,1171,1059,940,989,1087,903,806,699,713,916,682,614,459,457,403,359,321,296,281,0]},\"selected\":{\"id\":\"1891\",\"type\":\"Selection\"},\"selection_policy\":{\"id\":\"1890\",\"type\":\"UnionRenderers\"}},\"id\":\"1865\",\"type\":\"ColumnDataSource\"},{\"attributes\":{},\"id\":\"1890\",\"type\":\"UnionRenderers\"},{\"attributes\":{\"source\":{\"id\":\"1853\",\"type\":\"ColumnDataSource\"}},\"id\":\"1857\",\"type\":\"CDSView\"},{\"attributes\":{\"callback\":null,\"data\":{\"x\":[0,1,2,3,4,5,6,7,8,9,10,11,12,13,14,15,16,17,18,19,20,21,22,23,24,25,26,27,28,29,30,31,32,33,34,35,36,37,38,39,40,41,42,43,44,45,46,47,48,49,50,51,52,53,54,55,56,57,58,59,60,61,62,63,64,65,66,67,68,69,70,71,72,73,74,75,76,77,78,79,80,81,82,83,84,85,86,87,88,89,90,91,92,93,94,95,96,97,98,99,100],\"y\":[0,847,804,831,918,1045,913,939,874,961,1107,1053,991,1024,1120,1208,1094,1102,1092,1177,1321,1102,1162,1252,1282,1362,1240,1257,1228,1322,1541,1353,1365,1452,1490,1698,1543,1483,1552,1629,1845,1600,1606,1680,1855,1947,1668,1786,1820,1896,2202,1911,1987,1955,2095,2459,2045,2079,2073,2311,2683,2300,2257,2398,2347,2673,2268,2346,2386,2593,2657,2252,2391,2501,2492,4480,2302,2362,2291,2068,7164,1709,1595,1434,1358,1534,1102,1041,940,854,1106,671,625,446,398,421,293,220,192,224,0]},\"selected\":{\"id\":\"1876\",\"type\":\"Selection\"},\"selection_policy\":{\"id\":\"1875\",\"type\":\"UnionRenderers\"}},\"id\":\"1853\",\"type\":\"ColumnDataSource\"},{\"attributes\":{},\"id\":\"1891\",\"type\":\"Selection\"},{\"attributes\":{},\"id\":\"1859\",\"type\":\"BasicTickFormatter\"},{\"attributes\":{\"label\":{\"value\":\"Punt\"},\"renderers\":[{\"id\":\"1881\",\"type\":\"GlyphRenderer\"}]},\"id\":\"1892\",\"type\":\"LegendItem\"},{\"attributes\":{},\"id\":\"1861\",\"type\":\"BasicTickFormatter\"},{\"attributes\":{\"plot\":null,\"text\":\"Plays by Yard Line\"},\"id\":\"1831\",\"type\":\"Title\"},{\"attributes\":{\"callback\":null,\"end\":99,\"start\":1},\"id\":\"1834\",\"type\":\"Range1d\"},{\"attributes\":{\"items\":[{\"id\":\"1864\",\"type\":\"LegendItem\"},{\"id\":\"1877\",\"type\":\"LegendItem\"},{\"id\":\"1892\",\"type\":\"LegendItem\"},{\"id\":\"1909\",\"type\":\"LegendItem\"}],\"plot\":{\"id\":\"1832\",\"subtype\":\"Figure\",\"type\":\"Plot\"}},\"id\":\"1863\",\"type\":\"Legend\"},{\"attributes\":{\"callback\":null},\"id\":\"1836\",\"type\":\"DataRange1d\"},{\"attributes\":{\"line_color\":\"#d7191c\",\"line_width\":4,\"x\":{\"field\":\"x\"},\"y\":{\"field\":\"y\"}},\"id\":\"1894\",\"type\":\"Line\"},{\"attributes\":{},\"id\":\"1838\",\"type\":\"LinearScale\"},{\"attributes\":{\"label\":{\"value\":\"Pass\"},\"renderers\":[{\"id\":\"1856\",\"type\":\"GlyphRenderer\"}]},\"id\":\"1864\",\"type\":\"LegendItem\"},{\"attributes\":{\"line_alpha\":0.1,\"line_color\":\"#1f77b4\",\"line_width\":4,\"x\":{\"field\":\"x\"},\"y\":{\"field\":\"y\"}},\"id\":\"1895\",\"type\":\"Line\"},{\"attributes\":{\"callback\":null,\"data\":{\"x\":[0,1,2,3,4,5,6,7,8,9,10,11,12,13,14,15,16,17,18,19,20,21,22,23,24,25,26,27,28,29,30,31,32,33,34,35,36,37,38,39,40,41,42,43,44,45,46,47,48,49,50,51,52,53,54,55,56,57,58,59,60,61,62,63,64,65,66,67,68,69,70,71,72,73,74,75,76,77,78,79,80,81,82,83,84,85,86,87,88,89,90,91,92,93,94,95,96,97,98,99,100],\"y\":[0,0,0,0,0,0,0,0,0,0,0,0,0,0,0,0,0,0,0,0,0,0,0,0,0,0,0,0,0,2,1,1,12,15,27,48,90,117,166,198,252,265,279,265,321,329,313,310,326,332,387,372,312,347,401,458,423,409,432,436,508,480,448,453,418,466,489,488,415,432,521,665,633,584,550,609,494,472,467,436,564,396,355,360,316,351,289,227,222,197,217,162,137,110,113,110,57,49,56,41,0]},\"selected\":{\"id\":\"1908\",\"type\":\"Selection\"},\"selection_policy\":{\"id\":\"1907\",\"type\":\"UnionRenderers\"}},\"id\":\"1878\",\"type\":\"ColumnDataSource\"},{\"attributes\":{},\"id\":\"1840\",\"type\":\"LinearScale\"},{\"attributes\":{\"data_source\":{\"id\":\"1893\",\"type\":\"ColumnDataSource\"},\"glyph\":{\"id\":\"1894\",\"type\":\"Line\"},\"hover_glyph\":null,\"muted_glyph\":null,\"nonselection_glyph\":{\"id\":\"1895\",\"type\":\"Line\"},\"selection_glyph\":null,\"view\":{\"id\":\"1897\",\"type\":\"CDSView\"}},\"id\":\"1896\",\"type\":\"GlyphRenderer\"},{\"attributes\":{\"line_color\":\"#abdda4\",\"line_width\":4,\"x\":{\"field\":\"x\"},\"y\":{\"field\":\"y\"}},\"id\":\"1866\",\"type\":\"Line\"},{\"attributes\":{\"axis_label\":\"Yard Line (100 is team's own goal line)\",\"formatter\":{\"id\":\"1859\",\"type\":\"BasicTickFormatter\"},\"plot\":{\"id\":\"1832\",\"subtype\":\"Figure\",\"type\":\"Plot\"},\"ticker\":{\"id\":\"1910\",\"type\":\"FixedTicker\"}},\"id\":\"1842\",\"type\":\"LinearAxis\"}],\"root_ids\":[\"1832\"]},\"title\":\"Bokeh Application\",\"version\":\"1.0.1\"}};\n",
       "  var render_items = [{\"docid\":\"72d4d370-3b91-4b15-bb41-9ec230a87b5e\",\"roots\":{\"1832\":\"08ba5b49-50db-4b3a-a584-25a28246a7fa\"}}];\n",
       "  root.Bokeh.embed.embed_items_notebook(docs_json, render_items);\n",
       "\n",
       "  }\n",
       "  if (root.Bokeh !== undefined) {\n",
       "    embed_document(root);\n",
       "  } else {\n",
       "    var attempts = 0;\n",
       "    var timer = setInterval(function(root) {\n",
       "      if (root.Bokeh !== undefined) {\n",
       "        embed_document(root);\n",
       "        clearInterval(timer);\n",
       "      }\n",
       "      attempts++;\n",
       "      if (attempts > 100) {\n",
       "        console.log(\"Bokeh: ERROR: Unable to run BokehJS code because BokehJS library is missing\");\n",
       "        clearInterval(timer);\n",
       "      }\n",
       "    }, 10, root)\n",
       "  }\n",
       "})(window);"
      ],
      "application/vnd.bokehjs_exec.v0+json": ""
     },
     "metadata": {
      "application/vnd.bokehjs_exec.v0+json": {
       "id": "1832"
      }
     },
     "output_type": "display_data"
    }
   ],
   "source": [
    "x = range(0,101)\n",
    "y_pass = [play['Pass'] for play in plays_on_yrd]\n",
    "y_runs = [play['Run'] for play in plays_on_yrd]\n",
    "y_punt = [play['Punt'] for play in plays_on_yrd]\n",
    "y_fg = [play['Field Goal'] for play in plays_on_yrd]\n",
    "p = figure(title='Plays by Yard Line', toolbar_location=None, tools='',\n",
    "           plot_height=350, plot_width=750, x_range=(1,99))\n",
    "p.line(x, y_pass, color='#2b83ba', legend='Pass', line_width=4)\n",
    "p.line(x, y_runs, color='#abdda4', legend='Run', line_width=4)\n",
    "p.line(x, y_punt, color='#fdae61', legend='Punt', line_width=4)\n",
    "p.line(x, y_fg, color='#d7191c', legend='Field Goal', line_width=4)\n",
    "p.legend.location = 'top_right'\n",
    "p.xaxis.axis_label = 'Yard Line (100 is team\\'s own goal line)'\n",
    "p.yaxis.axis_label = 'Number of Plays'\n",
    "p.xaxis.ticker = FixedTicker(ticks=list(range(0, 101, 5)))\n",
    "p.xgrid.ticker = p.xaxis[0].ticker\n",
    "show(p)"
   ]
  },
  {
   "cell_type": "markdown",
   "metadata": {},
   "source": [
    "## Normalizing the plays by the total number of plays at each yard line"
   ]
  },
  {
   "cell_type": "code",
   "execution_count": 30,
   "metadata": {},
   "outputs": [
    {
     "data": {
      "text/html": [
       "\n",
       "\n",
       "\n",
       "\n",
       "\n",
       "\n",
       "  <div class=\"bk-root\" id=\"430282aa-3ab5-4a84-b16b-d2ceaf0e238e\"></div>\n"
      ]
     },
     "metadata": {},
     "output_type": "display_data"
    },
    {
     "data": {
      "application/javascript": [
       "(function(root) {\n",
       "  function embed_document(root) {\n",
       "    \n",
       "  var docs_json = {\"5ba4e7e9-c05f-4545-a3f5-7415bed161f0\":{\"roots\":{\"references\":[{\"attributes\":{\"below\":[{\"id\":\"2108\",\"type\":\"LinearAxis\"}],\"left\":[{\"id\":\"2113\",\"type\":\"LinearAxis\"}],\"plot_height\":350,\"plot_width\":750,\"renderers\":[{\"id\":\"2108\",\"type\":\"LinearAxis\"},{\"id\":\"2112\",\"type\":\"Grid\"},{\"id\":\"2113\",\"type\":\"LinearAxis\"},{\"id\":\"2117\",\"type\":\"Grid\"},{\"id\":\"2124\",\"type\":\"GlyphRenderer\"},{\"id\":\"2129\",\"type\":\"GlyphRenderer\"},{\"id\":\"2134\",\"type\":\"GlyphRenderer\"},{\"id\":\"2139\",\"type\":\"GlyphRenderer\"},{\"id\":\"2143\",\"type\":\"Legend\"}],\"right\":[{\"id\":\"2143\",\"type\":\"Legend\"}],\"title\":{\"id\":\"2097\",\"type\":\"Title\"},\"toolbar\":{\"id\":\"2119\",\"type\":\"Toolbar\"},\"toolbar_location\":null,\"x_range\":{\"id\":\"2100\",\"type\":\"Range1d\"},\"x_scale\":{\"id\":\"2104\",\"type\":\"LinearScale\"},\"y_range\":{\"id\":\"2102\",\"type\":\"DataRange1d\"},\"y_scale\":{\"id\":\"2106\",\"type\":\"LinearScale\"}},\"id\":\"2098\",\"subtype\":\"Figure\",\"type\":\"Plot\"},{\"attributes\":{},\"id\":\"2217\",\"type\":\"BasicTickFormatter\"},{\"attributes\":{\"callback\":null,\"data\":{\"x\":[0,1,2,3,4,5,6,7,8,9,10,11,12,13,14,15,16,17,18,19,20,21,22,23,24,25,26,27,28,29,30,31,32,33,34,35,36,37,38,39,40,41,42,43,44,45,46,47,48,49,50,51,52,53,54,55,56,57,58,59,60,61,62,63,64,65,66,67,68,69,70,71,72,73,74,75,76,77,78,79,80,81,82,83,84,85,86,87,88,89,90,91,92,93,94,95,96,97,98,99,100],\"y\":[0.0,0.2661847894406034,0.42094240837696334,0.44870410367170627,0.4786235662148071,0.4804597701149425,0.4655787863335033,0.4793261868300153,0.4629237288135593,0.46763990267639904,0.5029532030895048,0.48885793871866295,0.47348303870043,0.48438978240302744,0.4899387576552931,0.49508196721311476,0.5013748854262144,0.5055045871559632,0.49167041873030165,0.5034217279726262,0.5,0.4848218213814342,0.4972186563970903,0.5085296506904955,0.5053212455656287,0.5029542097488922,0.5115511551155115,0.497624703087886,0.5057660626029654,0.49476047904191617,0.5134955014995002,0.5084554678692221,0.5049944506104328,0.5255157437567861,0.51772063933287,0.5363234365129501,0.5304228257133036,0.5260730755587087,0.5390760680791942,0.5374463873309139,0.5327750505342189,0.5240746806419915,0.5210902011680727,0.5196412001237241,0.5325868504163078,0.526643224235867,0.5024096385542168,0.5332935204538668,0.5260115606936416,0.5345362277981393,0.5430332922318126,0.5238486842105263,0.5442344563133388,0.5198085615527785,0.5245368052078118,0.5336371527777778,0.5228841728458195,0.5215755143000502,0.5205926670015067,0.5304108331420703,0.5287741426882144,0.5278861602019739,0.5220911404117511,0.5311184939091916,0.5244692737430168,0.5318344608038201,0.4934725848563969,0.5230769230769231,0.5334227587748714,0.5344187963726298,0.5327852416282334,0.4616646166461665,0.5147470398277718,0.5440504676963237,0.5362599526576286,0.5298639858072147,0.5252110426648414,0.552256254383914,0.5426338228327807,0.528765021733572,0.5247198417930126,0.5216727716727717,0.5300764373546029,0.5245062179956108,0.5099511828764551,0.5161507402422612,0.4803836094158675,0.5019286403085824,0.5051047823750672,0.48412698412698413,0.4939705225547119,0.4429042904290429,0.45421511627906974,0.43940886699507387,0.41115702479338845,0.45074946466809424,0.4132581100141044,0.3728813559322034,0.35294117647058826,0.41025641025641024,0.0]},\"selected\":{\"id\":\"2220\",\"type\":\"Selection\"},\"selection_policy\":{\"id\":\"2219\",\"type\":\"UnionRenderers\"}},\"id\":\"2121\",\"type\":\"ColumnDataSource\"},{\"attributes\":{\"source\":{\"id\":\"2121\",\"type\":\"ColumnDataSource\"}},\"id\":\"2125\",\"type\":\"CDSView\"},{\"attributes\":{\"label\":{\"value\":\"Pass\"},\"renderers\":[{\"id\":\"2124\",\"type\":\"GlyphRenderer\"}]},\"id\":\"2144\",\"type\":\"LegendItem\"},{\"attributes\":{\"plot\":null,\"text\":\"Plays by Yard Line (normalized by total number of plays by yard line)\"},\"id\":\"2097\",\"type\":\"Title\"},{\"attributes\":{\"line_color\":\"#abdda4\",\"line_width\":4,\"x\":{\"field\":\"x\"},\"y\":{\"field\":\"y\"}},\"id\":\"2127\",\"type\":\"Line\"},{\"attributes\":{\"label\":{\"value\":\"Run\"},\"renderers\":[{\"id\":\"2129\",\"type\":\"GlyphRenderer\"}]},\"id\":\"2145\",\"type\":\"LegendItem\"},{\"attributes\":{\"callback\":null,\"end\":99,\"start\":1},\"id\":\"2100\",\"type\":\"Range1d\"},{\"attributes\":{\"callback\":null,\"data\":{\"x\":[0,1,2,3,4,5,6,7,8,9,10,11,12,13,14,15,16,17,18,19,20,21,22,23,24,25,26,27,28,29,30,31,32,33,34,35,36,37,38,39,40,41,42,43,44,45,46,47,48,49,50,51,52,53,54,55,56,57,58,59,60,61,62,63,64,65,66,67,68,69,70,71,72,73,74,75,76,77,78,79,80,81,82,83,84,85,86,87,88,89,90,91,92,93,94,95,96,97,98,99,100],\"y\":[0.0,0.0,0.0,0.0,0.0,0.0,0.0,0.0,0.0,0.0,0.0,0.0,0.0,0.0,0.0,0.0,0.0,0.0,0.0,0.0,0.0,0.0,0.0,0.0,0.0,0.0,0.0,0.0,0.0,0.0007485029940119761,0.0003332222592469177,0.0003757985719654265,0.004439511653718091,0.0054288816503800215,0.009381514940931202,0.015161086544535692,0.030938466827088347,0.0415040794608017,0.05765890934352206,0.0653249752556912,0.0727692751949177,0.08679986898132984,0.09052563270603504,0.08196721311475409,0.0921619293712317,0.08899107384365702,0.09427710843373494,0.09256494475962974,0.09421965317919075,0.09360022554271215,0.09543773119605425,0.10197368421052631,0.08545603944124898,0.09226269609146504,0.10040060090135203,0.0993923611111111,0.10815648171823063,0.10260913196186654,0.10848819688598695,0.10006885471654808,0.10011824990145841,0.11016754647693366,0.10363173721952348,0.10033222591362126,0.09340782122905028,0.09271786709112614,0.10639686684073107,0.10880713489409141,0.09277889559579701,0.08903544929925804,0.10447162622819331,0.13632636326363265,0.13627556512378902,0.12703937350445943,0.11835592855605767,0.07202838557066825,0.11270819073693818,0.11035772737900397,0.11061108479393653,0.11148043978522117,0.04130960228521204,0.12087912087912088,0.11797939514788966,0.13167520117044623,0.11866316184754037,0.11810228802153432,0.12598081952920662,0.109450337512054,0.11929070392262224,0.1116780045351474,0.09691826708351943,0.10693069306930693,0.09956395348837209,0.10837438423645321,0.11673553719008264,0.11777301927194861,0.08039492242595205,0.08305084745762711,0.10294117647058823,0.07509157509157509,0.0]},\"selected\":{\"id\":\"2224\",\"type\":\"Selection\"},\"selection_policy\":{\"id\":\"2223\",\"type\":\"UnionRenderers\"}},\"id\":\"2131\",\"type\":\"ColumnDataSource\"},{\"attributes\":{\"label\":{\"value\":\"Punt\"},\"renderers\":[{\"id\":\"2134\",\"type\":\"GlyphRenderer\"}]},\"id\":\"2146\",\"type\":\"LegendItem\"},{\"attributes\":{\"callback\":null},\"id\":\"2102\",\"type\":\"DataRange1d\"},{\"attributes\":{\"line_alpha\":0.1,\"line_color\":\"#1f77b4\",\"line_width\":4,\"x\":{\"field\":\"x\"},\"y\":{\"field\":\"y\"}},\"id\":\"2128\",\"type\":\"Line\"},{\"attributes\":{\"label\":{\"value\":\"Field Goal\"},\"renderers\":[{\"id\":\"2139\",\"type\":\"GlyphRenderer\"}]},\"id\":\"2147\",\"type\":\"LegendItem\"},{\"attributes\":{},\"id\":\"2104\",\"type\":\"LinearScale\"},{\"attributes\":{\"data_source\":{\"id\":\"2126\",\"type\":\"ColumnDataSource\"},\"glyph\":{\"id\":\"2127\",\"type\":\"Line\"},\"hover_glyph\":null,\"muted_glyph\":null,\"nonselection_glyph\":{\"id\":\"2128\",\"type\":\"Line\"},\"selection_glyph\":null,\"view\":{\"id\":\"2130\",\"type\":\"CDSView\"}},\"id\":\"2129\",\"type\":\"GlyphRenderer\"},{\"attributes\":{},\"id\":\"2219\",\"type\":\"UnionRenderers\"},{\"attributes\":{},\"id\":\"2106\",\"type\":\"LinearScale\"},{\"attributes\":{\"source\":{\"id\":\"2126\",\"type\":\"ColumnDataSource\"}},\"id\":\"2130\",\"type\":\"CDSView\"},{\"attributes\":{},\"id\":\"2220\",\"type\":\"Selection\"},{\"attributes\":{\"axis_label\":\"Yard Line (100 is team's own goal line)\",\"formatter\":{\"id\":\"2216\",\"type\":\"BasicTickFormatter\"},\"plot\":{\"id\":\"2098\",\"subtype\":\"Figure\",\"type\":\"Plot\"},\"ticker\":{\"id\":\"2141\",\"type\":\"FixedTicker\"}},\"id\":\"2108\",\"type\":\"LinearAxis\"},{\"attributes\":{},\"id\":\"2221\",\"type\":\"UnionRenderers\"},{\"attributes\":{\"line_color\":\"#fdae61\",\"line_width\":4,\"x\":{\"field\":\"x\"},\"y\":{\"field\":\"y\"}},\"id\":\"2132\",\"type\":\"Line\"},{\"attributes\":{\"callback\":null,\"data\":{\"x\":[0,1,2,3,4,5,6,7,8,9,10,11,12,13,14,15,16,17,18,19,20,21,22,23,24,25,26,27,28,29,30,31,32,33,34,35,36,37,38,39,40,41,42,43,44,45,46,47,48,49,50,51,52,53,54,55,56,57,58,59,60,61,62,63,64,65,66,67,68,69,70,71,72,73,74,75,76,77,78,79,80,81,82,83,84,85,86,87,88,89,90,91,92,93,94,95,96,97,98,99,100],\"y\":[0.0,0.035512256442489,0.10157068062827225,0.10691144708423327,0.11678832116788321,0.12413793103448276,0.10453850076491586,0.11995916283818274,0.11546610169491525,0.11727493917274939,0.11721944570649705,0.11420612813370473,0.11657907310081222,0.11447492904446546,0.11329833770778652,0.1168032786885246,0.11503208065994501,0.10963302752293579,0.1175146330481765,0.11077844311377245,0.11960635881907646,0.10690717113946327,0.1198117244330338,0.10276198212835093,0.09696491919590067,0.10561299852289513,0.0985973597359736,0.10332541567695962,0.10420098846787479,0.09842814371257486,0.10796401199600134,0.1018414130026306,0.08583055863854976,0.08143322475570032,0.06949270326615706,0.06443461781427669,0.041251289102784465,0.034409365023057824,0.01597777005904828,0.010887495875948531,0.008085475021657523,0.004258106780216181,0.003893575600259572,0.0046396535725332505,0.0011484352569623888,0.0029753854476602653,0.0009036144578313253,0.00029859659599880563,0.0011560693641618498,0.000281928390188892,0.0002466091245376079,0.0,0.0,0.0,0.0,0.0,0.0,0.0,0.0,0.0,0.0,0.0,0.0,0.0,0.0,0.0,0.0,0.0,0.0,0.0,0.0,0.0,0.0,0.0,0.0,0.0,0.0,0.0,0.0,0.0,0.0,0.0,0.0,0.0,0.0,0.0,0.0,0.0,0.0,0.0,0.0,0.0,0.0,0.0,0.0,0.0,0.0,0.0,0.0,0.0,0.0]},\"selected\":{\"id\":\"2226\",\"type\":\"Selection\"},\"selection_policy\":{\"id\":\"2225\",\"type\":\"UnionRenderers\"}},\"id\":\"2136\",\"type\":\"ColumnDataSource\"},{\"attributes\":{},\"id\":\"2222\",\"type\":\"Selection\"},{\"attributes\":{\"plot\":{\"id\":\"2098\",\"subtype\":\"Figure\",\"type\":\"Plot\"},\"ticker\":{\"id\":\"2141\",\"type\":\"FixedTicker\"}},\"id\":\"2112\",\"type\":\"Grid\"},{\"attributes\":{\"line_alpha\":0.1,\"line_color\":\"#1f77b4\",\"line_width\":4,\"x\":{\"field\":\"x\"},\"y\":{\"field\":\"y\"}},\"id\":\"2133\",\"type\":\"Line\"},{\"attributes\":{},\"id\":\"2223\",\"type\":\"UnionRenderers\"},{\"attributes\":{\"axis_label\":\"Fraction of Plays\",\"formatter\":{\"id\":\"2217\",\"type\":\"BasicTickFormatter\"},\"plot\":{\"id\":\"2098\",\"subtype\":\"Figure\",\"type\":\"Plot\"},\"ticker\":{\"id\":\"2114\",\"type\":\"BasicTicker\"}},\"id\":\"2113\",\"type\":\"LinearAxis\"},{\"attributes\":{\"data_source\":{\"id\":\"2131\",\"type\":\"ColumnDataSource\"},\"glyph\":{\"id\":\"2132\",\"type\":\"Line\"},\"hover_glyph\":null,\"muted_glyph\":null,\"nonselection_glyph\":{\"id\":\"2133\",\"type\":\"Line\"},\"selection_glyph\":null,\"view\":{\"id\":\"2135\",\"type\":\"CDSView\"}},\"id\":\"2134\",\"type\":\"GlyphRenderer\"},{\"attributes\":{},\"id\":\"2224\",\"type\":\"Selection\"},{\"attributes\":{},\"id\":\"2114\",\"type\":\"BasicTicker\"},{\"attributes\":{\"source\":{\"id\":\"2131\",\"type\":\"ColumnDataSource\"}},\"id\":\"2135\",\"type\":\"CDSView\"},{\"attributes\":{},\"id\":\"2225\",\"type\":\"UnionRenderers\"},{\"attributes\":{\"dimension\":1,\"plot\":{\"id\":\"2098\",\"subtype\":\"Figure\",\"type\":\"Plot\"},\"ticker\":{\"id\":\"2114\",\"type\":\"BasicTicker\"}},\"id\":\"2117\",\"type\":\"Grid\"},{\"attributes\":{},\"id\":\"2226\",\"type\":\"Selection\"},{\"attributes\":{\"line_color\":\"#d7191c\",\"line_width\":4,\"x\":{\"field\":\"x\"},\"y\":{\"field\":\"y\"}},\"id\":\"2137\",\"type\":\"Line\"},{\"attributes\":{\"active_drag\":\"auto\",\"active_inspect\":\"auto\",\"active_multi\":null,\"active_scroll\":\"auto\",\"active_tap\":\"auto\",\"tools\":[{\"id\":\"2118\",\"type\":\"HoverTool\"}]},\"id\":\"2119\",\"type\":\"Toolbar\"},{\"attributes\":{\"ticks\":[0,5,10,15,20,25,30,35,40,45,50,55,60,65,70,75,80,85,90,95,100]},\"id\":\"2141\",\"type\":\"FixedTicker\"},{\"attributes\":{\"callback\":null,\"renderers\":\"auto\"},\"id\":\"2118\",\"type\":\"HoverTool\"},{\"attributes\":{},\"id\":\"2216\",\"type\":\"BasicTickFormatter\"},{\"attributes\":{\"line_alpha\":0.1,\"line_color\":\"#1f77b4\",\"line_width\":4,\"x\":{\"field\":\"x\"},\"y\":{\"field\":\"y\"}},\"id\":\"2138\",\"type\":\"Line\"},{\"attributes\":{\"data_source\":{\"id\":\"2136\",\"type\":\"ColumnDataSource\"},\"glyph\":{\"id\":\"2137\",\"type\":\"Line\"},\"hover_glyph\":null,\"muted_glyph\":null,\"nonselection_glyph\":{\"id\":\"2138\",\"type\":\"Line\"},\"selection_glyph\":null,\"view\":{\"id\":\"2140\",\"type\":\"CDSView\"}},\"id\":\"2139\",\"type\":\"GlyphRenderer\"},{\"attributes\":{\"callback\":null,\"data\":{\"x\":[0,1,2,3,4,5,6,7,8,9,10,11,12,13,14,15,16,17,18,19,20,21,22,23,24,25,26,27,28,29,30,31,32,33,34,35,36,37,38,39,40,41,42,43,44,45,46,47,48,49,50,51,52,53,54,55,56,57,58,59,60,61,62,63,64,65,66,67,68,69,70,71,72,73,74,75,76,77,78,79,80,81,82,83,84,85,86,87,88,89,90,91,92,93,94,95,96,97,98,99,100],\"y\":[0.0,0.6983029541169076,0.4774869109947644,0.44438444924406045,0.4045881126173097,0.3954022988505747,0.4298827129015808,0.4007146503318019,0.4216101694915254,0.41508515815085156,0.3798273512039982,0.3969359331476323,0.40993788819875776,0.4011352885525071,0.3967629046369204,0.38811475409836066,0.38359303391384053,0.3848623853211009,0.39081494822152185,0.3857998289136014,0.38039364118092356,0.4082710074791025,0.38296961916987593,0.38870836718115354,0.39771383523847065,0.3914327917282127,0.38985148514851486,0.3990498812351544,0.3900329489291598,0.406062874251497,0.3782072642452516,0.3893273205561819,0.4047354790972993,0.38762214983713356,0.4034051424600417,0.38408085912823753,0.3973874183568237,0.3980134799574317,0.3872872525182355,0.38634114153744636,0.3863701992492059,0.3848673435964625,0.3844905905256327,0.39375193318898855,0.37410278495549815,0.3813903164728158,0.40240963855421685,0.3738429381905046,0.3786127167630058,0.3715816182689597,0.36128236744759556,0.37417763157894735,0.3703095042454122,0.3879287423557565,0.37506259389083624,0.3669704861111111,0.3689593454359499,0.3758153537380833,0.37091913611250626,0.3695203121413817,0.37110760741032717,0.3619462933210925,0.3742771223687254,0.36854928017718713,0.38212290502793295,0.3754476721050537,0.40013054830287204,0.3681159420289855,0.37379834562933156,0.3765457543281121,0.3627431321435733,0.4020090200902009,0.34897739504843917,0.32891015879921687,0.34538411878631375,0.39810762862211707,0.3620807665982204,0.3373860182370821,0.3467550923732828,0.35975453848120686,0.4339705559217754,0.35744810744810745,0.35194416749750745,0.34381858083394295,0.37138565527600453,0.3657469717362046,0.3936355710549259,0.38862102217936356,0.37560451370231057,0.4041950113378685,0.4091112103617687,0.45016501650165014,0.44622093023255816,0.4522167487684729,0.47210743801652894,0.43147751605995716,0.5063469675599436,0.5440677966101695,0.5441176470588235,0.5146520146520146,0.0]},\"selected\":{\"id\":\"2222\",\"type\":\"Selection\"},\"selection_policy\":{\"id\":\"2221\",\"type\":\"UnionRenderers\"}},\"id\":\"2126\",\"type\":\"ColumnDataSource\"},{\"attributes\":{\"line_color\":\"#2b83ba\",\"line_width\":4,\"x\":{\"field\":\"x\"},\"y\":{\"field\":\"y\"}},\"id\":\"2122\",\"type\":\"Line\"},{\"attributes\":{\"source\":{\"id\":\"2136\",\"type\":\"ColumnDataSource\"}},\"id\":\"2140\",\"type\":\"CDSView\"},{\"attributes\":{\"line_alpha\":0.1,\"line_color\":\"#1f77b4\",\"line_width\":4,\"x\":{\"field\":\"x\"},\"y\":{\"field\":\"y\"}},\"id\":\"2123\",\"type\":\"Line\"},{\"attributes\":{\"data_source\":{\"id\":\"2121\",\"type\":\"ColumnDataSource\"},\"glyph\":{\"id\":\"2122\",\"type\":\"Line\"},\"hover_glyph\":null,\"muted_glyph\":null,\"nonselection_glyph\":{\"id\":\"2123\",\"type\":\"Line\"},\"selection_glyph\":null,\"view\":{\"id\":\"2125\",\"type\":\"CDSView\"}},\"id\":\"2124\",\"type\":\"GlyphRenderer\"},{\"attributes\":{\"items\":[{\"id\":\"2144\",\"type\":\"LegendItem\"},{\"id\":\"2145\",\"type\":\"LegendItem\"},{\"id\":\"2146\",\"type\":\"LegendItem\"},{\"id\":\"2147\",\"type\":\"LegendItem\"}],\"location\":[0,100],\"plot\":{\"id\":\"2098\",\"subtype\":\"Figure\",\"type\":\"Plot\"}},\"id\":\"2143\",\"type\":\"Legend\"}],\"root_ids\":[\"2098\"]},\"title\":\"Bokeh Application\",\"version\":\"1.0.1\"}};\n",
       "  var render_items = [{\"docid\":\"5ba4e7e9-c05f-4545-a3f5-7415bed161f0\",\"roots\":{\"2098\":\"430282aa-3ab5-4a84-b16b-d2ceaf0e238e\"}}];\n",
       "  root.Bokeh.embed.embed_items_notebook(docs_json, render_items);\n",
       "\n",
       "  }\n",
       "  if (root.Bokeh !== undefined) {\n",
       "    embed_document(root);\n",
       "  } else {\n",
       "    var attempts = 0;\n",
       "    var timer = setInterval(function(root) {\n",
       "      if (root.Bokeh !== undefined) {\n",
       "        embed_document(root);\n",
       "        clearInterval(timer);\n",
       "      }\n",
       "      attempts++;\n",
       "      if (attempts > 100) {\n",
       "        console.log(\"Bokeh: ERROR: Unable to run BokehJS code because BokehJS library is missing\");\n",
       "        clearInterval(timer);\n",
       "      }\n",
       "    }, 10, root)\n",
       "  }\n",
       "})(window);"
      ],
      "application/vnd.bokehjs_exec.v0+json": ""
     },
     "metadata": {
      "application/vnd.bokehjs_exec.v0+json": {
       "id": "2098"
      }
     },
     "output_type": "display_data"
    }
   ],
   "source": [
    "def total_plays(i, play, cou):\n",
    "    total_plays = sum([cou[i][play] for play in plays])\n",
    "    if total_plays == 0:\n",
    "        return 1\n",
    "    else:\n",
    "        return total_plays\n",
    "\n",
    "x = range(0,101)\n",
    "y_pass = [play['Pass']/total_plays(i, play, plays_on_yrd) for i, play in enumerate(plays_on_yrd)]\n",
    "y_runs = [play['Run']/total_plays(i, play, plays_on_yrd) for i, play in enumerate(plays_on_yrd)]\n",
    "y_punt = [play['Punt']/total_plays(i, play, plays_on_yrd) for i, play in enumerate(plays_on_yrd)]\n",
    "y_fg = [play['Field Goal']/total_plays(i, play, plays_on_yrd) for i, play in enumerate(plays_on_yrd)]\n",
    "p = figure(title='Plays by Yard Line (normalized by total number of plays by yard line)', toolbar_location=None, tools='hover',\n",
    "           plot_height=350, plot_width=750, x_range=(1,99))\n",
    "l1 = p.line(x, y_pass, color='#2b83ba', line_width=4)\n",
    "l2 = p.line(x, y_runs, color='#abdda4', line_width=4)\n",
    "l3 = p.line(x, y_punt, color='#fdae61', line_width=4)\n",
    "l4 = p.line(x, y_fg, color='#d7191c', line_width=4)\n",
    "p.xaxis.axis_label = 'Yard Line (100 is team\\'s own goal line)'\n",
    "p.yaxis.axis_label = 'Fraction of Plays'\n",
    "p.xaxis.ticker = FixedTicker(ticks=list(range(0, 101, 5)))\n",
    "p.xgrid.ticker = p.xaxis[0].ticker\n",
    "\n",
    "legend = Legend(items=[\n",
    "    ('Pass'   , [l1]),\n",
    "    ('Run' , [l2]),\n",
    "    ('Punt' , [l3]),\n",
    "    ('Field Goal', [l4]),\n",
    "], location=(0, +100))\n",
    "\n",
    "p.add_layout(legend, 'right')\n",
    "show(p)"
   ]
  },
  {
   "cell_type": "markdown",
   "metadata": {},
   "source": [
    "### First down only"
   ]
  },
  {
   "cell_type": "code",
   "execution_count": 31,
   "metadata": {
    "scrolled": false
   },
   "outputs": [
    {
     "data": {
      "text/html": [
       "\n",
       "\n",
       "\n",
       "\n",
       "\n",
       "\n",
       "  <div class=\"bk-root\" id=\"882b2996-049f-4e1e-9a02-2c1aa09dd7c0\"></div>\n"
      ]
     },
     "metadata": {},
     "output_type": "display_data"
    },
    {
     "data": {
      "application/javascript": [
       "(function(root) {\n",
       "  function embed_document(root) {\n",
       "    \n",
       "  var docs_json = {\"dc9ce33c-5210-444f-a43e-76bcd750d551\":{\"roots\":{\"references\":[{\"attributes\":{\"below\":[{\"id\":\"2310\",\"type\":\"LinearAxis\"}],\"left\":[{\"id\":\"2315\",\"type\":\"LinearAxis\"}],\"plot_height\":350,\"plot_width\":750,\"renderers\":[{\"id\":\"2310\",\"type\":\"LinearAxis\"},{\"id\":\"2314\",\"type\":\"Grid\"},{\"id\":\"2315\",\"type\":\"LinearAxis\"},{\"id\":\"2319\",\"type\":\"Grid\"},{\"id\":\"2326\",\"type\":\"GlyphRenderer\"},{\"id\":\"2331\",\"type\":\"GlyphRenderer\"},{\"id\":\"2336\",\"type\":\"GlyphRenderer\"},{\"id\":\"2341\",\"type\":\"GlyphRenderer\"},{\"id\":\"2345\",\"type\":\"Legend\"}],\"right\":[{\"id\":\"2345\",\"type\":\"Legend\"}],\"title\":{\"id\":\"2299\",\"type\":\"Title\"},\"toolbar\":{\"id\":\"2321\",\"type\":\"Toolbar\"},\"toolbar_location\":null,\"x_range\":{\"id\":\"2302\",\"type\":\"Range1d\"},\"x_scale\":{\"id\":\"2306\",\"type\":\"LinearScale\"},\"y_range\":{\"id\":\"2304\",\"type\":\"DataRange1d\"},\"y_scale\":{\"id\":\"2308\",\"type\":\"LinearScale\"}},\"id\":\"2300\",\"subtype\":\"Figure\",\"type\":\"Plot\"},{\"attributes\":{\"label\":{\"value\":\"Pass\"},\"renderers\":[{\"id\":\"2326\",\"type\":\"GlyphRenderer\"}]},\"id\":\"2346\",\"type\":\"LegendItem\"},{\"attributes\":{\"line_color\":\"#abdda4\",\"line_width\":4,\"x\":{\"field\":\"x\"},\"y\":{\"field\":\"y\"}},\"id\":\"2329\",\"type\":\"Line\"},{\"attributes\":{\"plot\":null,\"text\":\"Plays by Yard Line on First Down (normalized by total number of plays by yard line)\"},\"id\":\"2299\",\"type\":\"Title\"},{\"attributes\":{\"label\":{\"value\":\"Run\"},\"renderers\":[{\"id\":\"2331\",\"type\":\"GlyphRenderer\"}]},\"id\":\"2347\",\"type\":\"LegendItem\"},{\"attributes\":{\"callback\":null,\"end\":99,\"start\":1},\"id\":\"2302\",\"type\":\"Range1d\"},{\"attributes\":{\"callback\":null,\"data\":{\"x\":[0,1,2,3,4,5,6,7,8,9,10,11,12,13,14,15,16,17,18,19,20,21,22,23,24,25,26,27,28,29,30,31,32,33,34,35,36,37,38,39,40,41,42,43,44,45,46,47,48,49,50,51,52,53,54,55,56,57,58,59,60,61,62,63,64,65,66,67,68,69,70,71,72,73,74,75,76,77,78,79,80,81,82,83,84,85,86,87,88,89,90,91,92,93,94,95,96,97,98,99,100],\"y\":[0.0,0.0,0.0,0.0,0.0,0.0,0.0,0.0,0.0,0.0,0.0,0.0,0.0,0.0,0.0,0.0,0.0,0.0,0.0,0.0,0.0,0.0,0.0,0.0,0.0,0.0,0.0,0.0,0.0,0.0,0.0,0.0,0.0,0.0,0.0,0.0,0.0,0.0,0.0,0.0,0.0,0.0,0.0,0.0,0.0,0.0,0.0,0.0,0.0,0.0,0.0,0.0,0.0,0.0,0.0,0.0,0.0,0.0,0.0,0.0,0.0,0.0,0.0,0.0,0.0,0.0,0.0,0.0,0.0,0.0,0.0,0.0,0.0,0.0,0.0,0.0,0.0,0.0,0.0,0.0,0.0,0.0,0.0,0.0,0.0,0.0,0.0,0.0,0.0,0.001364256480218281,0.0,0.0,0.0,0.0,0.0,0.0,0.0,0.0,0.0,0.0,0.0]},\"selected\":{\"id\":\"2438\",\"type\":\"Selection\"},\"selection_policy\":{\"id\":\"2437\",\"type\":\"UnionRenderers\"}},\"id\":\"2333\",\"type\":\"ColumnDataSource\"},{\"attributes\":{\"label\":{\"value\":\"Punt\"},\"renderers\":[{\"id\":\"2336\",\"type\":\"GlyphRenderer\"}]},\"id\":\"2348\",\"type\":\"LegendItem\"},{\"attributes\":{\"callback\":null},\"id\":\"2304\",\"type\":\"DataRange1d\"},{\"attributes\":{\"line_alpha\":0.1,\"line_color\":\"#1f77b4\",\"line_width\":4,\"x\":{\"field\":\"x\"},\"y\":{\"field\":\"y\"}},\"id\":\"2330\",\"type\":\"Line\"},{\"attributes\":{\"label\":{\"value\":\"Field Goal\"},\"renderers\":[{\"id\":\"2341\",\"type\":\"GlyphRenderer\"}]},\"id\":\"2349\",\"type\":\"LegendItem\"},{\"attributes\":{},\"id\":\"2306\",\"type\":\"LinearScale\"},{\"attributes\":{\"data_source\":{\"id\":\"2328\",\"type\":\"ColumnDataSource\"},\"glyph\":{\"id\":\"2329\",\"type\":\"Line\"},\"hover_glyph\":null,\"muted_glyph\":null,\"nonselection_glyph\":{\"id\":\"2330\",\"type\":\"Line\"},\"selection_glyph\":null,\"view\":{\"id\":\"2332\",\"type\":\"CDSView\"}},\"id\":\"2331\",\"type\":\"GlyphRenderer\"},{\"attributes\":{},\"id\":\"2431\",\"type\":\"BasicTickFormatter\"},{\"attributes\":{},\"id\":\"2308\",\"type\":\"LinearScale\"},{\"attributes\":{\"source\":{\"id\":\"2328\",\"type\":\"ColumnDataSource\"}},\"id\":\"2332\",\"type\":\"CDSView\"},{\"attributes\":{},\"id\":\"2433\",\"type\":\"UnionRenderers\"},{\"attributes\":{\"axis_label\":\"Yard Line (100 is team's own goal line)\",\"formatter\":{\"id\":\"2430\",\"type\":\"BasicTickFormatter\"},\"plot\":{\"id\":\"2300\",\"subtype\":\"Figure\",\"type\":\"Plot\"},\"ticker\":{\"id\":\"2343\",\"type\":\"FixedTicker\"}},\"id\":\"2310\",\"type\":\"LinearAxis\"},{\"attributes\":{},\"id\":\"2434\",\"type\":\"Selection\"},{\"attributes\":{\"line_color\":\"#fdae61\",\"line_width\":4,\"x\":{\"field\":\"x\"},\"y\":{\"field\":\"y\"}},\"id\":\"2334\",\"type\":\"Line\"},{\"attributes\":{\"callback\":null,\"data\":{\"x\":[0,1,2,3,4,5,6,7,8,9,10,11,12,13,14,15,16,17,18,19,20,21,22,23,24,25,26,27,28,29,30,31,32,33,34,35,36,37,38,39,40,41,42,43,44,45,46,47,48,49,50,51,52,53,54,55,56,57,58,59,60,61,62,63,64,65,66,67,68,69,70,71,72,73,74,75,76,77,78,79,80,81,82,83,84,85,86,87,88,89,90,91,92,93,94,95,96,97,98,99,100],\"y\":[0.0,0.0024232633279483036,0.0031496062992125984,0.004601226993865031,0.007575757575757576,0.008645533141210375,0.00423728813559322,0.005970149253731343,0.0028735632183908046,0.0025806451612903226,0.004316546762589928,0.018137847642079808,0.009055627425614488,0.007662835249042145,0.009259259259259259,0.0031982942430703624,0.007662835249042145,0.0060901339829476245,0.005868544600938967,0.007847533632286996,0.00510204081632653,0.003355704697986577,0.007954545454545454,0.002068252326783868,0.00720164609053498,0.012392755004766444,0.006458557588805167,0.005905511811023622,0.009307135470527405,0.009354536950420954,0.011504424778761062,0.006091370558375634,0.008348794063079777,0.005529953917050691,0.004273504273504274,0.0065252854812398045,0.005333333333333333,0.008302583025830259,0.0026362038664323375,0.006562756357670222,0.0036443148688046646,0.0008613264427217916,0.0032679738562091504,0.003930817610062893,0.0,0.003465003465003465,0.0007434944237918215,0.0,0.0,0.0006901311249137336,0.0,0.0,0.0,0.0,0.0,0.0,0.0,0.0,0.0,0.0,0.0,0.0,0.0,0.0,0.0,0.0,0.0,0.0,0.0,0.0,0.0,0.0,0.0,0.0,0.0,0.0,0.0,0.0,0.0,0.0,0.0,0.0,0.0,0.0,0.0,0.0,0.0,0.0,0.0,0.0,0.0,0.0,0.0,0.0,0.0,0.0,0.0,0.0,0.0,0.0,0.0]},\"selected\":{\"id\":\"2440\",\"type\":\"Selection\"},\"selection_policy\":{\"id\":\"2439\",\"type\":\"UnionRenderers\"}},\"id\":\"2338\",\"type\":\"ColumnDataSource\"},{\"attributes\":{},\"id\":\"2435\",\"type\":\"UnionRenderers\"},{\"attributes\":{\"plot\":{\"id\":\"2300\",\"subtype\":\"Figure\",\"type\":\"Plot\"},\"ticker\":{\"id\":\"2343\",\"type\":\"FixedTicker\"}},\"id\":\"2314\",\"type\":\"Grid\"},{\"attributes\":{\"line_alpha\":0.1,\"line_color\":\"#1f77b4\",\"line_width\":4,\"x\":{\"field\":\"x\"},\"y\":{\"field\":\"y\"}},\"id\":\"2335\",\"type\":\"Line\"},{\"attributes\":{},\"id\":\"2436\",\"type\":\"Selection\"},{\"attributes\":{\"axis_label\":\"Fraction of Plays\",\"formatter\":{\"id\":\"2431\",\"type\":\"BasicTickFormatter\"},\"plot\":{\"id\":\"2300\",\"subtype\":\"Figure\",\"type\":\"Plot\"},\"ticker\":{\"id\":\"2316\",\"type\":\"BasicTicker\"}},\"id\":\"2315\",\"type\":\"LinearAxis\"},{\"attributes\":{\"data_source\":{\"id\":\"2333\",\"type\":\"ColumnDataSource\"},\"glyph\":{\"id\":\"2334\",\"type\":\"Line\"},\"hover_glyph\":null,\"muted_glyph\":null,\"nonselection_glyph\":{\"id\":\"2335\",\"type\":\"Line\"},\"selection_glyph\":null,\"view\":{\"id\":\"2337\",\"type\":\"CDSView\"}},\"id\":\"2336\",\"type\":\"GlyphRenderer\"},{\"attributes\":{},\"id\":\"2437\",\"type\":\"UnionRenderers\"},{\"attributes\":{},\"id\":\"2316\",\"type\":\"BasicTicker\"},{\"attributes\":{\"source\":{\"id\":\"2333\",\"type\":\"ColumnDataSource\"}},\"id\":\"2337\",\"type\":\"CDSView\"},{\"attributes\":{},\"id\":\"2438\",\"type\":\"Selection\"},{\"attributes\":{\"dimension\":1,\"plot\":{\"id\":\"2300\",\"subtype\":\"Figure\",\"type\":\"Plot\"},\"ticker\":{\"id\":\"2316\",\"type\":\"BasicTicker\"}},\"id\":\"2319\",\"type\":\"Grid\"},{\"attributes\":{},\"id\":\"2439\",\"type\":\"UnionRenderers\"},{\"attributes\":{\"line_color\":\"#d7191c\",\"line_width\":4,\"x\":{\"field\":\"x\"},\"y\":{\"field\":\"y\"}},\"id\":\"2339\",\"type\":\"Line\"},{\"attributes\":{\"active_drag\":\"auto\",\"active_inspect\":\"auto\",\"active_multi\":null,\"active_scroll\":\"auto\",\"active_tap\":\"auto\",\"tools\":[{\"id\":\"2320\",\"type\":\"HoverTool\"}]},\"id\":\"2321\",\"type\":\"Toolbar\"},{\"attributes\":{\"ticks\":[0,5,10,15,20,25,30,35,40,45,50,55,60,65,70,75,80,85,90,95,100]},\"id\":\"2343\",\"type\":\"FixedTicker\"},{\"attributes\":{\"callback\":null,\"renderers\":\"auto\"},\"id\":\"2320\",\"type\":\"HoverTool\"},{\"attributes\":{},\"id\":\"2440\",\"type\":\"Selection\"},{\"attributes\":{\"line_alpha\":0.1,\"line_color\":\"#1f77b4\",\"line_width\":4,\"x\":{\"field\":\"x\"},\"y\":{\"field\":\"y\"}},\"id\":\"2340\",\"type\":\"Line\"},{\"attributes\":{\"data_source\":{\"id\":\"2338\",\"type\":\"ColumnDataSource\"},\"glyph\":{\"id\":\"2339\",\"type\":\"Line\"},\"hover_glyph\":null,\"muted_glyph\":null,\"nonselection_glyph\":{\"id\":\"2340\",\"type\":\"Line\"},\"selection_glyph\":null,\"view\":{\"id\":\"2342\",\"type\":\"CDSView\"}},\"id\":\"2341\",\"type\":\"GlyphRenderer\"},{\"attributes\":{\"callback\":null,\"data\":{\"x\":[0,1,2,3,4,5,6,7,8,9,10,11,12,13,14,15,16,17,18,19,20,21,22,23,24,25,26,27,28,29,30,31,32,33,34,35,36,37,38,39,40,41,42,43,44,45,46,47,48,49,50,51,52,53,54,55,56,57,58,59,60,61,62,63,64,65,66,67,68,69,70,71,72,73,74,75,76,77,78,79,80,81,82,83,84,85,86,87,88,89,90,91,92,93,94,95,96,97,98,99,100],\"y\":[0.0,0.7617124394184168,0.6425196850393701,0.6242331288343558,0.6181818181818182,0.5951008645533141,0.6257062146892656,0.5955223880597015,0.6293103448275862,0.6038709677419355,0.581294964028777,0.5900846432889963,0.5886157826649417,0.5913154533844189,0.5833333333333334,0.5692963752665245,0.5466155810983397,0.5420219244823387,0.5692488262910798,0.5213004484304933,0.5520408163265306,0.5492170022371364,0.5193181818181818,0.5408479834539814,0.5185185185185185,0.550047664442326,0.5263724434876211,0.5295275590551181,0.5284384694932782,0.5463049579045838,0.531858407079646,0.516751269035533,0.5426716141001855,0.5078341013824885,0.5273504273504274,0.4967373572593801,0.5315555555555556,0.5055350553505535,0.5043936731107206,0.4856439704675964,0.5182215743440233,0.5030146425495263,0.5171568627450981,0.5125786163522013,0.5003636363636363,0.5107415107415108,0.5338289962825279,0.520940484937546,0.5223443223443224,0.5100069013112492,0.4751102709514808,0.5068198133524767,0.49074708704592185,0.4983520105471325,0.5022566086395873,0.49493243243243246,0.5152957171991842,0.512540192926045,0.4925187032418953,0.48519362186788156,0.5093411996066863,0.4979496192149971,0.5002912055911474,0.4997289972899729,0.5058643549209587,0.5070285991274842,0.5011402508551881,0.5055991041433371,0.5015690376569037,0.48611743286299497,0.5,0.5060757684060043,0.4951590594744122,0.501453488372093,0.4884640738299275,0.48570131638674535,0.49784791965566716,0.5007022471910112,0.5014025245441796,0.5107758620689655,0.48805567095970087,0.511164274322169,0.5241864555848724,0.501008064516129,0.5417867435158501,0.5237704918032787,0.556390977443609,0.5477941176470589,0.5788005578800558,0.5852660300136425,0.5395348837209303,0.6206896551724138,0.6043956043956044,0.6519916142557652,0.6712962962962963,0.6062176165803109,0.6824925816023739,0.7237762237762237,0.7195945945945946,0.6352583586626139,0.0]},\"selected\":{\"id\":\"2436\",\"type\":\"Selection\"},\"selection_policy\":{\"id\":\"2435\",\"type\":\"UnionRenderers\"}},\"id\":\"2328\",\"type\":\"ColumnDataSource\"},{\"attributes\":{\"line_color\":\"#2b83ba\",\"line_width\":4,\"x\":{\"field\":\"x\"},\"y\":{\"field\":\"y\"}},\"id\":\"2324\",\"type\":\"Line\"},{\"attributes\":{\"source\":{\"id\":\"2338\",\"type\":\"ColumnDataSource\"}},\"id\":\"2342\",\"type\":\"CDSView\"},{\"attributes\":{\"line_alpha\":0.1,\"line_color\":\"#1f77b4\",\"line_width\":4,\"x\":{\"field\":\"x\"},\"y\":{\"field\":\"y\"}},\"id\":\"2325\",\"type\":\"Line\"},{\"attributes\":{\"data_source\":{\"id\":\"2323\",\"type\":\"ColumnDataSource\"},\"glyph\":{\"id\":\"2324\",\"type\":\"Line\"},\"hover_glyph\":null,\"muted_glyph\":null,\"nonselection_glyph\":{\"id\":\"2325\",\"type\":\"Line\"},\"selection_glyph\":null,\"view\":{\"id\":\"2327\",\"type\":\"CDSView\"}},\"id\":\"2326\",\"type\":\"GlyphRenderer\"},{\"attributes\":{\"items\":[{\"id\":\"2346\",\"type\":\"LegendItem\"},{\"id\":\"2347\",\"type\":\"LegendItem\"},{\"id\":\"2348\",\"type\":\"LegendItem\"},{\"id\":\"2349\",\"type\":\"LegendItem\"}],\"location\":[0,100],\"plot\":{\"id\":\"2300\",\"subtype\":\"Figure\",\"type\":\"Plot\"}},\"id\":\"2345\",\"type\":\"Legend\"},{\"attributes\":{},\"id\":\"2430\",\"type\":\"BasicTickFormatter\"},{\"attributes\":{\"source\":{\"id\":\"2323\",\"type\":\"ColumnDataSource\"}},\"id\":\"2327\",\"type\":\"CDSView\"},{\"attributes\":{\"callback\":null,\"data\":{\"x\":[0,1,2,3,4,5,6,7,8,9,10,11,12,13,14,15,16,17,18,19,20,21,22,23,24,25,26,27,28,29,30,31,32,33,34,35,36,37,38,39,40,41,42,43,44,45,46,47,48,49,50,51,52,53,54,55,56,57,58,59,60,61,62,63,64,65,66,67,68,69,70,71,72,73,74,75,76,77,78,79,80,81,82,83,84,85,86,87,88,89,90,91,92,93,94,95,96,97,98,99,100],\"y\":[0.0,0.2358642972536349,0.3543307086614173,0.37116564417177916,0.37424242424242427,0.3962536023054755,0.3700564971751412,0.39850746268656717,0.367816091954023,0.3935483870967742,0.4143884892086331,0.39177750906892383,0.4023285899094437,0.40102171136653897,0.4074074074074074,0.4275053304904051,0.44572158365261816,0.4518879415347138,0.42488262910798125,0.47085201793721976,0.44285714285714284,0.44742729306487694,0.4727272727272727,0.45708376421923474,0.4742798353909465,0.43755958055290756,0.4671689989235737,0.4645669291338583,0.4622543950361944,0.44434050514499535,0.45663716814159294,0.47715736040609136,0.4489795918367347,0.48663594470046084,0.4683760683760684,0.4967373572593801,0.4631111111111111,0.48616236162361626,0.4929701230228471,0.5077932731747334,0.478134110787172,0.49612403100775193,0.4795751633986928,0.4834905660377358,0.49963636363636366,0.4857934857934858,0.4654275092936803,0.4790595150624541,0.4776556776556777,0.4893029675638371,0.5248897290485193,0.49318018664752333,0.5092529129540782,0.5016479894528675,0.4977433913604126,0.5050675675675675,0.4847042828008158,0.487459807073955,0.5074812967581047,0.5148063781321185,0.49065880039331367,0.502050380785003,0.49970879440885263,0.5002710027100271,0.4941356450790413,0.49297140087251573,0.49885974914481185,0.4944008958566629,0.49843096234309625,0.513882567137005,0.5,0.49392423159399573,0.5048409405255878,0.498546511627907,0.5115359261700725,0.5142986836132547,0.5021520803443329,0.49929775280898875,0.49859747545582045,0.4892241379310345,0.5119443290402991,0.48883572567783096,0.4758135444151275,0.49899193548387094,0.45821325648414984,0.47622950819672133,0.44360902255639095,0.4522058823529412,0.4211994421199442,0.41336971350613916,0.4604651162790698,0.3793103448275862,0.3956043956043956,0.3480083857442348,0.3287037037037037,0.39378238341968913,0.31750741839762614,0.2762237762237762,0.28040540540540543,0.364741641337386,0.0]},\"selected\":{\"id\":\"2434\",\"type\":\"Selection\"},\"selection_policy\":{\"id\":\"2433\",\"type\":\"UnionRenderers\"}},\"id\":\"2323\",\"type\":\"ColumnDataSource\"}],\"root_ids\":[\"2300\"]},\"title\":\"Bokeh Application\",\"version\":\"1.0.1\"}};\n",
       "  var render_items = [{\"docid\":\"dc9ce33c-5210-444f-a43e-76bcd750d551\",\"roots\":{\"2300\":\"882b2996-049f-4e1e-9a02-2c1aa09dd7c0\"}}];\n",
       "  root.Bokeh.embed.embed_items_notebook(docs_json, render_items);\n",
       "\n",
       "  }\n",
       "  if (root.Bokeh !== undefined) {\n",
       "    embed_document(root);\n",
       "  } else {\n",
       "    var attempts = 0;\n",
       "    var timer = setInterval(function(root) {\n",
       "      if (root.Bokeh !== undefined) {\n",
       "        embed_document(root);\n",
       "        clearInterval(timer);\n",
       "      }\n",
       "      attempts++;\n",
       "      if (attempts > 100) {\n",
       "        console.log(\"Bokeh: ERROR: Unable to run BokehJS code because BokehJS library is missing\");\n",
       "        clearInterval(timer);\n",
       "      }\n",
       "    }, 10, root)\n",
       "  }\n",
       "})(window);"
      ],
      "application/vnd.bokehjs_exec.v0+json": ""
     },
     "metadata": {
      "application/vnd.bokehjs_exec.v0+json": {
       "id": "2300"
      }
     },
     "output_type": "display_data"
    }
   ],
   "source": [
    "from bokeh.models import Legend\n",
    "def total_plays(i, play, cou):\n",
    "    total_plays = sum([cou[i][play] for play in plays])\n",
    "    if total_plays == 0:\n",
    "        return 1\n",
    "    else:\n",
    "        return total_plays\n",
    "\n",
    "x = range(0,101)\n",
    "team_df_d1 = team_df.loc[team_df['down'] == 1]\n",
    "plays_on_yrd = [Counter(team_df_d1.loc[team_df_d1['yrdline100'] == yrd]['PlayType']) for yrd in x]\n",
    "y_pass = [play['Pass']/total_plays(i, play, plays_on_yrd) for i, play in enumerate(plays_on_yrd)]\n",
    "y_runs = [play['Run']/total_plays(i, play, plays_on_yrd) for i, play in enumerate(plays_on_yrd)]\n",
    "y_punt = [play['Punt']/total_plays(i, play, plays_on_yrd) for i, play in enumerate(plays_on_yrd)]\n",
    "y_fg = [play['Field Goal']/total_plays(i, play, plays_on_yrd) for i, play in enumerate(plays_on_yrd)]\n",
    "p = figure(title='Plays by Yard Line on First Down (normalized by total number of plays by yard line)', toolbar_location=None, tools='hover',\n",
    "           plot_height=350, plot_width=750, x_range=(1,99))\n",
    "l1 = p.line(x, y_pass, color='#2b83ba', line_width=4)\n",
    "l2 = p.line(x, y_runs, color='#abdda4', line_width=4)\n",
    "l3 = p.line(x, y_punt, color='#fdae61', line_width=4)\n",
    "l4 = p.line(x, y_fg, color='#d7191c', line_width=4)\n",
    "p.xaxis.axis_label = 'Yard Line (100 is team\\'s own goal line)'\n",
    "p.yaxis.axis_label = 'Fraction of Plays'\n",
    "p.xaxis.ticker = FixedTicker(ticks=list(range(0, 101, 5)))\n",
    "p.xgrid.ticker = p.xaxis[0].ticker\n",
    "\n",
    "legend = Legend(items=[\n",
    "    ('Pass'   , [l1]),\n",
    "    ('Run' , [l2]),\n",
    "    ('Punt' , [l3]),\n",
    "    ('Field Goal', [l4]),\n",
    "], location=(0, +100))\n",
    "\n",
    "p.add_layout(legend, 'right')\n",
    "show(p)"
   ]
  },
  {
   "cell_type": "markdown",
   "metadata": {},
   "source": [
    "### Second down only"
   ]
  },
  {
   "cell_type": "code",
   "execution_count": 33,
   "metadata": {},
   "outputs": [
    {
     "data": {
      "text/html": [
       "\n",
       "\n",
       "\n",
       "\n",
       "\n",
       "\n",
       "  <div class=\"bk-root\" id=\"d7c3c094-4534-4443-be92-d075562af14f\"></div>\n"
      ]
     },
     "metadata": {},
     "output_type": "display_data"
    },
    {
     "data": {
      "application/javascript": [
       "(function(root) {\n",
       "  function embed_document(root) {\n",
       "    \n",
       "  var docs_json = {\"9b695460-1e65-4961-a646-2af4c366cd3a\":{\"roots\":{\"references\":[{\"attributes\":{\"below\":[{\"id\":\"2859\",\"type\":\"LinearAxis\"}],\"left\":[{\"id\":\"2864\",\"type\":\"LinearAxis\"}],\"plot_height\":350,\"plot_width\":750,\"renderers\":[{\"id\":\"2859\",\"type\":\"LinearAxis\"},{\"id\":\"2863\",\"type\":\"Grid\"},{\"id\":\"2864\",\"type\":\"LinearAxis\"},{\"id\":\"2868\",\"type\":\"Grid\"},{\"id\":\"2875\",\"type\":\"GlyphRenderer\"},{\"id\":\"2880\",\"type\":\"GlyphRenderer\"},{\"id\":\"2885\",\"type\":\"GlyphRenderer\"},{\"id\":\"2890\",\"type\":\"GlyphRenderer\"},{\"id\":\"2894\",\"type\":\"Legend\"}],\"right\":[{\"id\":\"2894\",\"type\":\"Legend\"}],\"title\":{\"id\":\"2848\",\"type\":\"Title\"},\"toolbar\":{\"id\":\"2870\",\"type\":\"Toolbar\"},\"toolbar_location\":null,\"x_range\":{\"id\":\"2851\",\"type\":\"Range1d\"},\"x_scale\":{\"id\":\"2855\",\"type\":\"LinearScale\"},\"y_range\":{\"id\":\"2853\",\"type\":\"DataRange1d\"},\"y_scale\":{\"id\":\"2857\",\"type\":\"LinearScale\"}},\"id\":\"2849\",\"subtype\":\"Figure\",\"type\":\"Plot\"},{\"attributes\":{},\"id\":\"2857\",\"type\":\"LinearScale\"},{\"attributes\":{\"line_color\":\"#2b83ba\",\"line_width\":4,\"x\":{\"field\":\"x\"},\"y\":{\"field\":\"y\"}},\"id\":\"2873\",\"type\":\"Line\"},{\"attributes\":{\"data_source\":{\"id\":\"2887\",\"type\":\"ColumnDataSource\"},\"glyph\":{\"id\":\"2888\",\"type\":\"Line\"},\"hover_glyph\":null,\"muted_glyph\":null,\"nonselection_glyph\":{\"id\":\"2889\",\"type\":\"Line\"},\"selection_glyph\":null,\"view\":{\"id\":\"2891\",\"type\":\"CDSView\"}},\"id\":\"2890\",\"type\":\"GlyphRenderer\"},{\"attributes\":{\"axis_label\":\"Yard Line (100 is team's own goal line)\",\"formatter\":{\"id\":\"3003\",\"type\":\"BasicTickFormatter\"},\"plot\":{\"id\":\"2849\",\"subtype\":\"Figure\",\"type\":\"Plot\"},\"ticker\":{\"id\":\"2892\",\"type\":\"FixedTicker\"}},\"id\":\"2859\",\"type\":\"LinearAxis\"},{\"attributes\":{\"source\":{\"id\":\"2872\",\"type\":\"ColumnDataSource\"}},\"id\":\"2876\",\"type\":\"CDSView\"},{\"attributes\":{\"source\":{\"id\":\"2887\",\"type\":\"ColumnDataSource\"}},\"id\":\"2891\",\"type\":\"CDSView\"},{\"attributes\":{\"line_alpha\":0.1,\"line_color\":\"#1f77b4\",\"line_width\":4,\"x\":{\"field\":\"x\"},\"y\":{\"field\":\"y\"}},\"id\":\"2874\",\"type\":\"Line\"},{\"attributes\":{\"callback\":null,\"end\":99,\"start\":1},\"id\":\"2851\",\"type\":\"Range1d\"},{\"attributes\":{\"data_source\":{\"id\":\"2872\",\"type\":\"ColumnDataSource\"},\"glyph\":{\"id\":\"2873\",\"type\":\"Line\"},\"hover_glyph\":null,\"muted_glyph\":null,\"nonselection_glyph\":{\"id\":\"2874\",\"type\":\"Line\"},\"selection_glyph\":null,\"view\":{\"id\":\"2876\",\"type\":\"CDSView\"}},\"id\":\"2875\",\"type\":\"GlyphRenderer\"},{\"attributes\":{\"callback\":null,\"data\":{\"x\":[0,1,2,3,4,5,6,7,8,9,10,11,12,13,14,15,16,17,18,19,20,21,22,23,24,25,26,27,28,29,30,31,32,33,34,35,36,37,38,39,40,41,42,43,44,45,46,47,48,49,50,51,52,53,54,55,56,57,58,59,60,61,62,63,64,65,66,67,68,69,70,71,72,73,74,75,76,77,78,79,80,81,82,83,84,85,86,87,88,89,90,91,92,93,94,95,96,97,98,99,100],\"y\":[0.0,0.7402464065708418,0.5691768826619965,0.5099099099099099,0.42474916387959866,0.4596541786743516,0.4388609715242881,0.44462540716612375,0.4444444444444444,0.4336,0.41388888888888886,0.4219001610305958,0.4548335974643423,0.4292527821939587,0.4152046783625731,0.40771349862258954,0.41142020497803805,0.4230769230769231,0.40601503759398494,0.44337016574585636,0.4219948849104859,0.4667697063369397,0.4490934449093445,0.42346938775510207,0.43451652386780903,0.40024183796856105,0.42023346303501946,0.42428198433420367,0.4152777777777778,0.4308641975308642,0.4132762312633833,0.4409148665819568,0.436670687575392,0.43483412322274884,0.43135011441647597,0.42244897959183675,0.40979955456570155,0.4459613196814562,0.4370208105147864,0.44012605042016806,0.4119318181818182,0.4444444444444444,0.4431202600216685,0.4510595358224016,0.4200913242009132,0.40696686491079015,0.4405241935483871,0.40279162512462613,0.41438032166508987,0.4097914777878513,0.4220985691573927,0.4163732394366197,0.4076655052264808,0.4576561163387511,0.4373983739837398,0.41672522839072385,0.3954434499593165,0.4441727791361043,0.43714517437145173,0.4299625468164794,0.4189723320158103,0.41964965727341963,0.4332833583208396,0.42491103202846975,0.43275732531930877,0.4212548015364917,0.4548002803083392,0.4345588235294118,0.4132231404958678,0.4427645788336933,0.4288563829787234,0.48282323547782635,0.46210596914822266,0.4230769230769231,0.45065996228786925,0.4553886925795053,0.4565896314803248,0.3996023856858847,0.4084600132187707,0.42689199118295373,0.4398541919805589,0.41116751269035534,0.3961456102783726,0.4043528064146621,0.411619283065513,0.40418118466898956,0.4427710843373494,0.4437299035369775,0.39893617021276595,0.4389763779527559,0.41914191419141916,0.4707259953161593,0.4538653366583541,0.4074074074074074,0.4943820224719101,0.4755244755244755,0.44,0.5095541401273885,0.5039370078740157,0.47368421052631576,0.0]},\"selected\":{\"id\":\"3009\",\"type\":\"Selection\"},\"selection_policy\":{\"id\":\"3008\",\"type\":\"UnionRenderers\"}},\"id\":\"2877\",\"type\":\"ColumnDataSource\"},{\"attributes\":{\"data_source\":{\"id\":\"2877\",\"type\":\"ColumnDataSource\"},\"glyph\":{\"id\":\"2878\",\"type\":\"Line\"},\"hover_glyph\":null,\"muted_glyph\":null,\"nonselection_glyph\":{\"id\":\"2879\",\"type\":\"Line\"},\"selection_glyph\":null,\"view\":{\"id\":\"2881\",\"type\":\"CDSView\"}},\"id\":\"2880\",\"type\":\"GlyphRenderer\"},{\"attributes\":{},\"id\":\"3003\",\"type\":\"BasicTickFormatter\"},{\"attributes\":{\"label\":{\"value\":\"Pass\"},\"renderers\":[{\"id\":\"2875\",\"type\":\"GlyphRenderer\"}]},\"id\":\"2895\",\"type\":\"LegendItem\"},{\"attributes\":{\"source\":{\"id\":\"2877\",\"type\":\"ColumnDataSource\"}},\"id\":\"2881\",\"type\":\"CDSView\"},{\"attributes\":{\"line_color\":\"#abdda4\",\"line_width\":4,\"x\":{\"field\":\"x\"},\"y\":{\"field\":\"y\"}},\"id\":\"2878\",\"type\":\"Line\"},{\"attributes\":{\"label\":{\"value\":\"Run\"},\"renderers\":[{\"id\":\"2880\",\"type\":\"GlyphRenderer\"}]},\"id\":\"2896\",\"type\":\"LegendItem\"},{\"attributes\":{\"line_alpha\":0.1,\"line_color\":\"#1f77b4\",\"line_width\":4,\"x\":{\"field\":\"x\"},\"y\":{\"field\":\"y\"}},\"id\":\"2889\",\"type\":\"Line\"},{\"attributes\":{\"line_alpha\":0.1,\"line_color\":\"#1f77b4\",\"line_width\":4,\"x\":{\"field\":\"x\"},\"y\":{\"field\":\"y\"}},\"id\":\"2879\",\"type\":\"Line\"},{\"attributes\":{\"label\":{\"value\":\"Punt\"},\"renderers\":[{\"id\":\"2885\",\"type\":\"GlyphRenderer\"}]},\"id\":\"2897\",\"type\":\"LegendItem\"},{\"attributes\":{\"callback\":null,\"data\":{\"x\":[0,1,2,3,4,5,6,7,8,9,10,11,12,13,14,15,16,17,18,19,20,21,22,23,24,25,26,27,28,29,30,31,32,33,34,35,36,37,38,39,40,41,42,43,44,45,46,47,48,49,50,51,52,53,54,55,56,57,58,59,60,61,62,63,64,65,66,67,68,69,70,71,72,73,74,75,76,77,78,79,80,81,82,83,84,85,86,87,88,89,90,91,92,93,94,95,96,97,98,99,100],\"y\":[0.0,0.0,0.0,0.0,0.0,0.0,0.0,0.0,0.0,0.0,0.0,0.0,0.0,0.0,0.0,0.0,0.0,0.0,0.0,0.0,0.0,0.0,0.0,0.0,0.0,0.0,0.0,0.0,0.0,0.0,0.0,0.0,0.0,0.0,0.0,0.0,0.0,0.0,0.0,0.0,0.0,0.0,0.0,0.0,0.0,0.0,0.0,0.0,0.0,0.0,0.0,0.0,0.0,0.0,0.0,0.0,0.0,0.0,0.0,0.0,0.0,0.0,0.0,0.0,0.0,0.0,0.0,0.0,0.0,0.0,0.0,0.0,0.0,0.0,0.0,0.0,0.0,0.0,0.0,0.0,0.0,0.0,0.0,0.0,0.0,0.0,0.0,0.0,0.0,0.0,0.0,0.0,0.0,0.0,0.0,0.0,0.0,0.0,0.0,0.0,0.0]},\"selected\":{\"id\":\"3011\",\"type\":\"Selection\"},\"selection_policy\":{\"id\":\"3010\",\"type\":\"UnionRenderers\"}},\"id\":\"2882\",\"type\":\"ColumnDataSource\"},{\"attributes\":{\"label\":{\"value\":\"Field Goal\"},\"renderers\":[{\"id\":\"2890\",\"type\":\"GlyphRenderer\"}]},\"id\":\"2898\",\"type\":\"LegendItem\"},{\"attributes\":{},\"id\":\"3004\",\"type\":\"BasicTickFormatter\"},{\"attributes\":{\"callback\":null,\"data\":{\"x\":[0,1,2,3,4,5,6,7,8,9,10,11,12,13,14,15,16,17,18,19,20,21,22,23,24,25,26,27,28,29,30,31,32,33,34,35,36,37,38,39,40,41,42,43,44,45,46,47,48,49,50,51,52,53,54,55,56,57,58,59,60,61,62,63,64,65,66,67,68,69,70,71,72,73,74,75,76,77,78,79,80,81,82,83,84,85,86,87,88,89,90,91,92,93,94,95,96,97,98,99,100],\"y\":[0.0,0.25564681724845995,0.4290718038528897,0.4846846846846847,0.5668896321070234,0.5360230547550432,0.5561139028475712,0.5504885993485342,0.5503472222222222,0.5488,0.5805555555555556,0.5748792270531401,0.5404120443740095,0.5659777424483307,0.5730994152046783,0.5826446280991735,0.5871156661786238,0.5753846153846154,0.5819548872180451,0.5497237569060773,0.5677749360613811,0.5255023183925811,0.5355648535564853,0.5688775510204082,0.5520195838433293,0.5876662636033857,0.5719844357976653,0.566579634464752,0.5638888888888889,0.5580246913580247,0.5835117773019272,0.5514612452350699,0.5524728588661038,0.5556872037914692,0.562929061784897,0.5663265306122449,0.5868596881959911,0.5460750853242321,0.5596933187294633,0.5577731092436975,0.5823863636363636,0.5534591194968553,0.5557963163596966,0.5479313824419778,0.5789954337899543,0.5913338997451147,0.5594758064516129,0.5972083748753739,0.5837275307473982,0.5902085222121487,0.5779014308426074,0.5836267605633803,0.5923344947735192,0.542343883661249,0.5626016260162602,0.5832747716092762,0.6045565500406835,0.5558272208638957,0.5628548256285483,0.5700374531835206,0.5810276679841897,0.5803503427265804,0.5667166416791605,0.5750889679715302,0.5672426746806912,0.5787451984635084,0.5451997196916608,0.5654411764705882,0.5867768595041323,0.5572354211663066,0.5711436170212766,0.5171767645221736,0.5378940308517773,0.5769230769230769,0.5493400377121307,0.5446113074204947,0.5434103685196752,0.6003976143141153,0.5915399867812293,0.5731080088170463,0.560145808019441,0.5888324873096447,0.6038543897216274,0.5956471935853379,0.588380716934487,0.5958188153310104,0.5572289156626506,0.5562700964630225,0.601063829787234,0.5610236220472441,0.5808580858085809,0.5292740046838408,0.5461346633416458,0.5925925925925926,0.5056179775280899,0.5244755244755245,0.56,0.49044585987261147,0.49606299212598426,0.5263157894736842,0.0]},\"selected\":{\"id\":\"3007\",\"type\":\"Selection\"},\"selection_policy\":{\"id\":\"3006\",\"type\":\"UnionRenderers\"}},\"id\":\"2872\",\"type\":\"ColumnDataSource\"},{\"attributes\":{\"ticks\":[0,5,10,15,20,25,30,35,40,45,50,55,60,65,70,75,80,85,90,95,100]},\"id\":\"2892\",\"type\":\"FixedTicker\"},{\"attributes\":{},\"id\":\"3006\",\"type\":\"UnionRenderers\"},{\"attributes\":{\"line_color\":\"#fdae61\",\"line_width\":4,\"x\":{\"field\":\"x\"},\"y\":{\"field\":\"y\"}},\"id\":\"2883\",\"type\":\"Line\"},{\"attributes\":{\"line_alpha\":0.1,\"line_color\":\"#1f77b4\",\"line_width\":4,\"x\":{\"field\":\"x\"},\"y\":{\"field\":\"y\"}},\"id\":\"2884\",\"type\":\"Line\"},{\"attributes\":{},\"id\":\"3007\",\"type\":\"Selection\"},{\"attributes\":{\"axis_label\":\"Fraction of Plays\",\"formatter\":{\"id\":\"3004\",\"type\":\"BasicTickFormatter\"},\"plot\":{\"id\":\"2849\",\"subtype\":\"Figure\",\"type\":\"Plot\"},\"ticker\":{\"id\":\"2865\",\"type\":\"BasicTicker\"}},\"id\":\"2864\",\"type\":\"LinearAxis\"},{\"attributes\":{\"callback\":null,\"data\":{\"x\":[0,1,2,3,4,5,6,7,8,9,10,11,12,13,14,15,16,17,18,19,20,21,22,23,24,25,26,27,28,29,30,31,32,33,34,35,36,37,38,39,40,41,42,43,44,45,46,47,48,49,50,51,52,53,54,55,56,57,58,59,60,61,62,63,64,65,66,67,68,69,70,71,72,73,74,75,76,77,78,79,80,81,82,83,84,85,86,87,88,89,90,91,92,93,94,95,96,97,98,99,100],\"y\":[0.0,0.004106776180698152,0.0017513134851138354,0.005405405405405406,0.008361204013377926,0.004322766570605188,0.005025125628140704,0.004885993485342019,0.005208333333333333,0.0176,0.005555555555555556,0.00322061191626409,0.004754358161648178,0.0047694753577106515,0.011695906432748537,0.009641873278236915,0.0014641288433382138,0.0015384615384615385,0.012030075187969926,0.006906077348066298,0.010230179028132993,0.0077279752704791345,0.015341701534170154,0.007653061224489796,0.01346389228886169,0.012091898428053204,0.007782101167315175,0.009138381201044387,0.020833333333333332,0.011111111111111112,0.0032119914346895075,0.007623888182973317,0.010856453558504222,0.009478672985781991,0.005720823798627002,0.011224489795918367,0.0033407572383073497,0.007963594994311717,0.0032858707557502738,0.0021008403361344537,0.005681818181818182,0.0020964360587002098,0.0010834236186348862,0.0010090817356205853,0.0009132420091324201,0.0016992353440951572,0.0,0.0,0.001892147587511826,0.0,0.0,0.0,0.0,0.0,0.0,0.0,0.0,0.0,0.0,0.0,0.0,0.0,0.0,0.0,0.0,0.0,0.0,0.0,0.0,0.0,0.0,0.0,0.0,0.0,0.0,0.0,0.0,0.0,0.0,0.0,0.0,0.0,0.0,0.0,0.0,0.0,0.0,0.0,0.0,0.0,0.0,0.0,0.0,0.0,0.0,0.0,0.0,0.0,0.0,0.0,0.0]},\"selected\":{\"id\":\"3013\",\"type\":\"Selection\"},\"selection_policy\":{\"id\":\"3012\",\"type\":\"UnionRenderers\"}},\"id\":\"2887\",\"type\":\"ColumnDataSource\"},{\"attributes\":{},\"id\":\"3008\",\"type\":\"UnionRenderers\"},{\"attributes\":{\"data_source\":{\"id\":\"2882\",\"type\":\"ColumnDataSource\"},\"glyph\":{\"id\":\"2883\",\"type\":\"Line\"},\"hover_glyph\":null,\"muted_glyph\":null,\"nonselection_glyph\":{\"id\":\"2884\",\"type\":\"Line\"},\"selection_glyph\":null,\"view\":{\"id\":\"2886\",\"type\":\"CDSView\"}},\"id\":\"2885\",\"type\":\"GlyphRenderer\"},{\"attributes\":{},\"id\":\"3009\",\"type\":\"Selection\"},{\"attributes\":{},\"id\":\"2865\",\"type\":\"BasicTicker\"},{\"attributes\":{\"plot\":{\"id\":\"2849\",\"subtype\":\"Figure\",\"type\":\"Plot\"},\"ticker\":{\"id\":\"2892\",\"type\":\"FixedTicker\"}},\"id\":\"2863\",\"type\":\"Grid\"},{\"attributes\":{\"items\":[{\"id\":\"2895\",\"type\":\"LegendItem\"},{\"id\":\"2896\",\"type\":\"LegendItem\"},{\"id\":\"2897\",\"type\":\"LegendItem\"},{\"id\":\"2898\",\"type\":\"LegendItem\"}],\"location\":[0,100],\"plot\":{\"id\":\"2849\",\"subtype\":\"Figure\",\"type\":\"Plot\"}},\"id\":\"2894\",\"type\":\"Legend\"},{\"attributes\":{},\"id\":\"3010\",\"type\":\"UnionRenderers\"},{\"attributes\":{\"source\":{\"id\":\"2882\",\"type\":\"ColumnDataSource\"}},\"id\":\"2886\",\"type\":\"CDSView\"},{\"attributes\":{\"callback\":null,\"renderers\":\"auto\"},\"id\":\"2869\",\"type\":\"HoverTool\"},{\"attributes\":{\"callback\":null},\"id\":\"2853\",\"type\":\"DataRange1d\"},{\"attributes\":{\"line_color\":\"#d7191c\",\"line_width\":4,\"x\":{\"field\":\"x\"},\"y\":{\"field\":\"y\"}},\"id\":\"2888\",\"type\":\"Line\"},{\"attributes\":{\"active_drag\":\"auto\",\"active_inspect\":\"auto\",\"active_multi\":null,\"active_scroll\":\"auto\",\"active_tap\":\"auto\",\"tools\":[{\"id\":\"2869\",\"type\":\"HoverTool\"}]},\"id\":\"2870\",\"type\":\"Toolbar\"},{\"attributes\":{},\"id\":\"3011\",\"type\":\"Selection\"},{\"attributes\":{\"plot\":null,\"text\":\"Plays by Yard Line on Second Down (normalized by total number of plays by yard line)\"},\"id\":\"2848\",\"type\":\"Title\"},{\"attributes\":{},\"id\":\"3012\",\"type\":\"UnionRenderers\"},{\"attributes\":{\"dimension\":1,\"plot\":{\"id\":\"2849\",\"subtype\":\"Figure\",\"type\":\"Plot\"},\"ticker\":{\"id\":\"2865\",\"type\":\"BasicTicker\"}},\"id\":\"2868\",\"type\":\"Grid\"},{\"attributes\":{},\"id\":\"2855\",\"type\":\"LinearScale\"},{\"attributes\":{},\"id\":\"3013\",\"type\":\"Selection\"}],\"root_ids\":[\"2849\"]},\"title\":\"Bokeh Application\",\"version\":\"1.0.1\"}};\n",
       "  var render_items = [{\"docid\":\"9b695460-1e65-4961-a646-2af4c366cd3a\",\"roots\":{\"2849\":\"d7c3c094-4534-4443-be92-d075562af14f\"}}];\n",
       "  root.Bokeh.embed.embed_items_notebook(docs_json, render_items);\n",
       "\n",
       "  }\n",
       "  if (root.Bokeh !== undefined) {\n",
       "    embed_document(root);\n",
       "  } else {\n",
       "    var attempts = 0;\n",
       "    var timer = setInterval(function(root) {\n",
       "      if (root.Bokeh !== undefined) {\n",
       "        embed_document(root);\n",
       "        clearInterval(timer);\n",
       "      }\n",
       "      attempts++;\n",
       "      if (attempts > 100) {\n",
       "        console.log(\"Bokeh: ERROR: Unable to run BokehJS code because BokehJS library is missing\");\n",
       "        clearInterval(timer);\n",
       "      }\n",
       "    }, 10, root)\n",
       "  }\n",
       "})(window);"
      ],
      "application/vnd.bokehjs_exec.v0+json": ""
     },
     "metadata": {
      "application/vnd.bokehjs_exec.v0+json": {
       "id": "2849"
      }
     },
     "output_type": "display_data"
    }
   ],
   "source": [
    "def total_plays(i, play, cou):\n",
    "    total_plays = sum([cou[i][play] for play in plays])\n",
    "    if total_plays == 0:\n",
    "        return 1\n",
    "    else:\n",
    "        return total_plays\n",
    "\n",
    "x = range(0,101)\n",
    "team_df_d2 = team_df.loc[team_df['down'] == 2]\n",
    "plays_on_yrd = [Counter(team_df_d2.loc[team_df_d2['yrdline100'] == yrd]['PlayType']) for yrd in x]\n",
    "y_pass = [play['Pass']/total_plays(i, play, plays_on_yrd) for i, play in enumerate(plays_on_yrd)]\n",
    "y_runs = [play['Run']/total_plays(i, play, plays_on_yrd) for i, play in enumerate(plays_on_yrd)]\n",
    "y_punt = [play['Punt']/total_plays(i, play, plays_on_yrd) for i, play in enumerate(plays_on_yrd)]\n",
    "y_fg = [play['Field Goal']/total_plays(i, play, plays_on_yrd) for i, play in enumerate(plays_on_yrd)]\n",
    "p = figure(title='Plays by Yard Line on Second Down (normalized by total number of plays by yard line)', toolbar_location=None, tools='hover',\n",
    "           plot_height=350, plot_width=750, x_range=(1,99))\n",
    "l1 = p.line(x, y_pass, color='#2b83ba', line_width=4)\n",
    "l2 = p.line(x, y_runs, color='#abdda4', line_width=4)\n",
    "l3 = p.line(x, y_punt, color='#fdae61', line_width=4)\n",
    "l4 = p.line(x, y_fg, color='#d7191c', line_width=4)\n",
    "p.xaxis.axis_label = 'Yard Line (100 is team\\'s own goal line)'\n",
    "p.yaxis.axis_label = 'Fraction of Plays'\n",
    "p.xaxis.ticker = FixedTicker(ticks=list(range(0, 101, 5)))\n",
    "p.xgrid.ticker = p.xaxis[0].ticker\n",
    "\n",
    "legend = Legend(items=[\n",
    "    ('Pass'   , [l1]),\n",
    "    ('Run' , [l2]),\n",
    "    ('Punt' , [l3]),\n",
    "    ('Field Goal', [l4]),\n",
    "], location=(0, +100))\n",
    "\n",
    "p.add_layout(legend, 'right')\n",
    "show(p)"
   ]
  },
  {
   "cell_type": "markdown",
   "metadata": {},
   "source": [
    "### Third down only"
   ]
  },
  {
   "cell_type": "code",
   "execution_count": 34,
   "metadata": {},
   "outputs": [
    {
     "data": {
      "text/html": [
       "\n",
       "\n",
       "\n",
       "\n",
       "\n",
       "\n",
       "  <div class=\"bk-root\" id=\"64af31bb-673e-4db3-a2b8-f75d69a7e667\"></div>\n"
      ]
     },
     "metadata": {},
     "output_type": "display_data"
    },
    {
     "data": {
      "application/javascript": [
       "(function(root) {\n",
       "  function embed_document(root) {\n",
       "    \n",
       "  var docs_json = {\"38a35cdc-d1c0-4de7-9240-2888badfef83\":{\"roots\":{\"references\":[{\"attributes\":{\"below\":[{\"id\":\"3097\",\"type\":\"LinearAxis\"}],\"left\":[{\"id\":\"3102\",\"type\":\"LinearAxis\"}],\"plot_height\":350,\"plot_width\":750,\"renderers\":[{\"id\":\"3097\",\"type\":\"LinearAxis\"},{\"id\":\"3101\",\"type\":\"Grid\"},{\"id\":\"3102\",\"type\":\"LinearAxis\"},{\"id\":\"3106\",\"type\":\"Grid\"},{\"id\":\"3113\",\"type\":\"GlyphRenderer\"},{\"id\":\"3118\",\"type\":\"GlyphRenderer\"},{\"id\":\"3123\",\"type\":\"GlyphRenderer\"},{\"id\":\"3128\",\"type\":\"GlyphRenderer\"},{\"id\":\"3132\",\"type\":\"Legend\"}],\"right\":[{\"id\":\"3132\",\"type\":\"Legend\"}],\"title\":{\"id\":\"3086\",\"type\":\"Title\"},\"toolbar\":{\"id\":\"3108\",\"type\":\"Toolbar\"},\"toolbar_location\":null,\"x_range\":{\"id\":\"3089\",\"type\":\"Range1d\"},\"x_scale\":{\"id\":\"3093\",\"type\":\"LinearScale\"},\"y_range\":{\"id\":\"3091\",\"type\":\"DataRange1d\"},\"y_scale\":{\"id\":\"3095\",\"type\":\"LinearScale\"}},\"id\":\"3087\",\"subtype\":\"Figure\",\"type\":\"Plot\"},{\"attributes\":{\"line_alpha\":0.1,\"line_color\":\"#1f77b4\",\"line_width\":4,\"x\":{\"field\":\"x\"},\"y\":{\"field\":\"y\"}},\"id\":\"3112\",\"type\":\"Line\"},{\"attributes\":{\"callback\":null,\"end\":99,\"start\":1},\"id\":\"3089\",\"type\":\"Range1d\"},{\"attributes\":{\"items\":[{\"id\":\"3133\",\"type\":\"LegendItem\"},{\"id\":\"3134\",\"type\":\"LegendItem\"},{\"id\":\"3135\",\"type\":\"LegendItem\"},{\"id\":\"3136\",\"type\":\"LegendItem\"}],\"location\":[0,100],\"plot\":{\"id\":\"3087\",\"subtype\":\"Figure\",\"type\":\"Plot\"}},\"id\":\"3132\",\"type\":\"Legend\"},{\"attributes\":{\"data_source\":{\"id\":\"3110\",\"type\":\"ColumnDataSource\"},\"glyph\":{\"id\":\"3111\",\"type\":\"Line\"},\"hover_glyph\":null,\"muted_glyph\":null,\"nonselection_glyph\":{\"id\":\"3112\",\"type\":\"Line\"},\"selection_glyph\":null,\"view\":{\"id\":\"3114\",\"type\":\"CDSView\"}},\"id\":\"3113\",\"type\":\"GlyphRenderer\"},{\"attributes\":{},\"id\":\"3253\",\"type\":\"BasicTickFormatter\"},{\"attributes\":{\"source\":{\"id\":\"3110\",\"type\":\"ColumnDataSource\"}},\"id\":\"3114\",\"type\":\"CDSView\"},{\"attributes\":{\"label\":{\"value\":\"Pass\"},\"renderers\":[{\"id\":\"3113\",\"type\":\"GlyphRenderer\"}]},\"id\":\"3133\",\"type\":\"LegendItem\"},{\"attributes\":{\"line_color\":\"#abdda4\",\"line_width\":4,\"x\":{\"field\":\"x\"},\"y\":{\"field\":\"y\"}},\"id\":\"3116\",\"type\":\"Line\"},{\"attributes\":{\"label\":{\"value\":\"Run\"},\"renderers\":[{\"id\":\"3118\",\"type\":\"GlyphRenderer\"}]},\"id\":\"3134\",\"type\":\"LegendItem\"},{\"attributes\":{\"callback\":null,\"data\":{\"x\":[0,1,2,3,4,5,6,7,8,9,10,11,12,13,14,15,16,17,18,19,20,21,22,23,24,25,26,27,28,29,30,31,32,33,34,35,36,37,38,39,40,41,42,43,44,45,46,47,48,49,50,51,52,53,54,55,56,57,58,59,60,61,62,63,64,65,66,67,68,69,70,71,72,73,74,75,76,77,78,79,80,81,82,83,84,85,86,87,88,89,90,91,92,93,94,95,96,97,98,99,100],\"y\":[0.0,0.34890965732087226,0.6453089244851259,0.7243107769423559,0.7587939698492462,0.7690721649484537,0.6982968369829684,0.7524752475247525,0.7671957671957672,0.7417721518987341,0.7628865979381443,0.7876712328767124,0.7546728971962616,0.7585421412300684,0.7510822510822511,0.7724288840262582,0.7203579418344519,0.7494199535962877,0.7630331753554502,0.768348623853211,0.7713754646840149,0.7511111111111111,0.7594654788418709,0.7780269058295964,0.7257383966244726,0.7214953271028037,0.7352297592997812,0.7194570135746606,0.7425531914893617,0.722,0.7695035460992907,0.7304189435336976,0.7590361445783133,0.75,0.7373358348968105,0.7566666666666667,0.7364864864864865,0.7293906810035843,0.7865168539325843,0.7549909255898367,0.7616191904047976,0.7589743589743589,0.7989601386481803,0.7648,0.7965299684542587,0.7522255192878339,0.7300319488817891,0.7971698113207547,0.7914110429447853,0.8167202572347267,0.7860824742268041,0.7681365576102418,0.7768115942028986,0.7713458755426917,0.783748361730013,0.7776536312849162,0.762982689747004,0.8071808510638298,0.7988422575976846,0.7875,0.7965056526207606,0.7990255785627284,0.7931034482758621,0.8286445012787724,0.819918144611187,0.8081587651598677,0.671541057367829,0.8153098420413123,0.8022670025188917,0.8267813267813268,0.8331550802139037,0.6091370558375635,0.8,0.8490028490028491,0.850669412976313,0.8359375,0.8244013683010262,0.8571428571428571,0.8416458852867831,0.8445378151260504,0.8641078838174274,0.802547770700637,0.8400702987697716,0.8249496981891348,0.8139059304703476,0.8143939393939394,0.7797029702970297,0.7960199004975125,0.8352272727272727,0.8142414860681114,0.7537537537537538,0.7831858407079646,0.7638190954773869,0.7564102564102564,0.7806451612903226,0.7814569536423841,0.6306306306306306,0.65625,0.7076923076923077,0.7413793103448276,0.0]},\"selected\":{\"id\":\"3257\",\"type\":\"Selection\"},\"selection_policy\":{\"id\":\"3256\",\"type\":\"UnionRenderers\"}},\"id\":\"3110\",\"type\":\"ColumnDataSource\"},{\"attributes\":{\"callback\":null,\"data\":{\"x\":[0,1,2,3,4,5,6,7,8,9,10,11,12,13,14,15,16,17,18,19,20,21,22,23,24,25,26,27,28,29,30,31,32,33,34,35,36,37,38,39,40,41,42,43,44,45,46,47,48,49,50,51,52,53,54,55,56,57,58,59,60,61,62,63,64,65,66,67,68,69,70,71,72,73,74,75,76,77,78,79,80,81,82,83,84,85,86,87,88,89,90,91,92,93,94,95,96,97,98,99,100],\"y\":[0.0,0.0,0.0,0.0,0.0,0.0,0.0,0.0,0.0,0.0,0.0,0.0,0.0,0.0,0.0,0.0,0.0,0.0,0.0,0.0,0.0,0.0,0.0,0.0,0.0,0.0,0.0,0.0,0.0,0.0,0.0,0.0,0.0,0.0,0.001876172607879925,0.0,0.0016891891891891893,0.0,0.0,0.0,0.0,0.0,0.0,0.0,0.0,0.0,0.0,0.0,0.0,0.0,0.0,0.0,0.0,0.001447178002894356,0.001310615989515072,0.0,0.0,0.0,0.0,0.0,0.0,0.0,0.0,0.0,0.0,0.0,0.0,0.0,0.0,0.0,0.0,0.0,0.0,0.0,0.0,0.0,0.0,0.0,0.0012468827930174563,0.0,0.0,0.0,0.0,0.0,0.0,0.0,0.0,0.0,0.0,0.0,0.0,0.0,0.0,0.0,0.0,0.0,0.0,0.0,0.0,0.0,0.0]},\"selected\":{\"id\":\"3261\",\"type\":\"Selection\"},\"selection_policy\":{\"id\":\"3260\",\"type\":\"UnionRenderers\"}},\"id\":\"3120\",\"type\":\"ColumnDataSource\"},{\"attributes\":{\"active_drag\":\"auto\",\"active_inspect\":\"auto\",\"active_multi\":null,\"active_scroll\":\"auto\",\"active_tap\":\"auto\",\"tools\":[{\"id\":\"3107\",\"type\":\"HoverTool\"}]},\"id\":\"3108\",\"type\":\"Toolbar\"},{\"attributes\":{\"label\":{\"value\":\"Punt\"},\"renderers\":[{\"id\":\"3123\",\"type\":\"GlyphRenderer\"}]},\"id\":\"3135\",\"type\":\"LegendItem\"},{\"attributes\":{\"line_alpha\":0.1,\"line_color\":\"#1f77b4\",\"line_width\":4,\"x\":{\"field\":\"x\"},\"y\":{\"field\":\"y\"}},\"id\":\"3117\",\"type\":\"Line\"},{\"attributes\":{\"label\":{\"value\":\"Field Goal\"},\"renderers\":[{\"id\":\"3128\",\"type\":\"GlyphRenderer\"}]},\"id\":\"3136\",\"type\":\"LegendItem\"},{\"attributes\":{\"callback\":null,\"renderers\":\"auto\"},\"id\":\"3107\",\"type\":\"HoverTool\"},{\"attributes\":{\"data_source\":{\"id\":\"3115\",\"type\":\"ColumnDataSource\"},\"glyph\":{\"id\":\"3116\",\"type\":\"Line\"},\"hover_glyph\":null,\"muted_glyph\":null,\"nonselection_glyph\":{\"id\":\"3117\",\"type\":\"Line\"},\"selection_glyph\":null,\"view\":{\"id\":\"3119\",\"type\":\"CDSView\"}},\"id\":\"3118\",\"type\":\"GlyphRenderer\"},{\"attributes\":{},\"id\":\"3254\",\"type\":\"BasicTickFormatter\"},{\"attributes\":{\"callback\":null,\"data\":{\"x\":[0,1,2,3,4,5,6,7,8,9,10,11,12,13,14,15,16,17,18,19,20,21,22,23,24,25,26,27,28,29,30,31,32,33,34,35,36,37,38,39,40,41,42,43,44,45,46,47,48,49,50,51,52,53,54,55,56,57,58,59,60,61,62,63,64,65,66,67,68,69,70,71,72,73,74,75,76,77,78,79,80,81,82,83,84,85,86,87,88,89,90,91,92,93,94,95,96,97,98,99,100],\"y\":[0.0,0.6417445482866043,0.3501144164759725,0.2681704260651629,0.23366834170854273,0.22474226804123712,0.2944038929440389,0.24257425742574257,0.2328042328042328,0.2481012658227848,0.2288659793814433,0.2054794520547945,0.22897196261682243,0.22323462414578588,0.23376623376623376,0.21444201312910285,0.2550335570469799,0.23433874709976799,0.22748815165876776,0.22477064220183487,0.21561338289962825,0.23777777777777778,0.22939866369710468,0.19955156950672645,0.2616033755274262,0.2467289719626168,0.24507658643326038,0.27149321266968324,0.24893617021276596,0.266,0.21808510638297873,0.2659380692167577,0.23493975903614459,0.2388888888888889,0.25140712945590993,0.23833333333333334,0.25675675675675674,0.25806451612903225,0.20599250936329588,0.23774954627949182,0.23088455772113944,0.2341880341880342,0.1975736568457539,0.2304,0.20189274447949526,0.24629080118694363,0.268370607028754,0.2028301886792453,0.20705521472392638,0.1832797427652733,0.21262886597938144,0.23186344238975817,0.22318840579710145,0.2272069464544139,0.21494102228047182,0.2223463687150838,0.237017310252996,0.19281914893617022,0.2011577424023155,0.2125,0.20349434737923947,0.20097442143727162,0.20689655172413793,0.17135549872122763,0.1800818553888131,0.1918412348401323,0.32845894263217096,0.18469015795868773,0.1977329974811083,0.1732186732186732,0.16684491978609625,0.39086294416243655,0.2,0.150997150997151,0.14933058702368693,0.1640625,0.17559863169897377,0.14285714285714285,0.1571072319201995,0.15546218487394958,0.1358921161825726,0.19745222929936307,0.15992970123022848,0.1750503018108652,0.18609406952965235,0.1856060606060606,0.2202970297029703,0.20398009950248755,0.16477272727272727,0.18575851393188855,0.24624624624624625,0.2168141592920354,0.23618090452261306,0.24358974358974358,0.21935483870967742,0.2185430463576159,0.36936936936936937,0.34375,0.2923076923076923,0.25862068965517243,0.0]},\"selected\":{\"id\":\"3259\",\"type\":\"Selection\"},\"selection_policy\":{\"id\":\"3258\",\"type\":\"UnionRenderers\"}},\"id\":\"3115\",\"type\":\"ColumnDataSource\"},{\"attributes\":{\"axis_label\":\"Yard Line (100 is team's own goal line)\",\"formatter\":{\"id\":\"3253\",\"type\":\"BasicTickFormatter\"},\"plot\":{\"id\":\"3087\",\"subtype\":\"Figure\",\"type\":\"Plot\"},\"ticker\":{\"id\":\"3130\",\"type\":\"FixedTicker\"}},\"id\":\"3097\",\"type\":\"LinearAxis\"},{\"attributes\":{\"source\":{\"id\":\"3115\",\"type\":\"ColumnDataSource\"}},\"id\":\"3119\",\"type\":\"CDSView\"},{\"attributes\":{},\"id\":\"3256\",\"type\":\"UnionRenderers\"},{\"attributes\":{},\"id\":\"3257\",\"type\":\"Selection\"},{\"attributes\":{\"line_color\":\"#fdae61\",\"line_width\":4,\"x\":{\"field\":\"x\"},\"y\":{\"field\":\"y\"}},\"id\":\"3121\",\"type\":\"Line\"},{\"attributes\":{\"callback\":null,\"data\":{\"x\":[0,1,2,3,4,5,6,7,8,9,10,11,12,13,14,15,16,17,18,19,20,21,22,23,24,25,26,27,28,29,30,31,32,33,34,35,36,37,38,39,40,41,42,43,44,45,46,47,48,49,50,51,52,53,54,55,56,57,58,59,60,61,62,63,64,65,66,67,68,69,70,71,72,73,74,75,76,77,78,79,80,81,82,83,84,85,86,87,88,89,90,91,92,93,94,95,96,97,98,99,100],\"y\":[0.0,0.009345794392523364,0.004576659038901602,0.007518796992481203,0.007537688442211055,0.006185567010309278,0.0072992700729927005,0.0049504950495049506,0.0,0.010126582278481013,0.008247422680412371,0.00684931506849315,0.016355140186915886,0.018223234624145785,0.015151515151515152,0.01312910284463895,0.024608501118568233,0.016241299303944315,0.009478672985781991,0.006880733944954129,0.013011152416356878,0.011111111111111112,0.011135857461024499,0.02242152466367713,0.012658227848101266,0.03177570093457944,0.019693654266958426,0.00904977375565611,0.00851063829787234,0.012,0.012411347517730497,0.0036429872495446266,0.006024096385542169,0.011111111111111112,0.009380863039399626,0.005,0.005067567567567568,0.012544802867383513,0.00749063670411985,0.007259528130671506,0.0074962518740629685,0.006837606837606838,0.0034662045060658577,0.0048,0.0015772870662460567,0.001483679525222552,0.001597444089456869,0.0,0.0015337423312883436,0.0,0.001288659793814433,0.0,0.0,0.0,0.0,0.0,0.0,0.0,0.0,0.0,0.0,0.0,0.0,0.0,0.0,0.0,0.0,0.0,0.0,0.0,0.0,0.0,0.0,0.0,0.0,0.0,0.0,0.0,0.0,0.0,0.0,0.0,0.0,0.0,0.0,0.0,0.0,0.0,0.0,0.0,0.0,0.0,0.0,0.0,0.0,0.0,0.0,0.0,0.0,0.0,0.0]},\"selected\":{\"id\":\"3263\",\"type\":\"Selection\"},\"selection_policy\":{\"id\":\"3262\",\"type\":\"UnionRenderers\"}},\"id\":\"3125\",\"type\":\"ColumnDataSource\"},{\"attributes\":{\"plot\":{\"id\":\"3087\",\"subtype\":\"Figure\",\"type\":\"Plot\"},\"ticker\":{\"id\":\"3130\",\"type\":\"FixedTicker\"}},\"id\":\"3101\",\"type\":\"Grid\"},{\"attributes\":{},\"id\":\"3258\",\"type\":\"UnionRenderers\"},{\"attributes\":{\"axis_label\":\"Fraction of Plays\",\"formatter\":{\"id\":\"3254\",\"type\":\"BasicTickFormatter\"},\"plot\":{\"id\":\"3087\",\"subtype\":\"Figure\",\"type\":\"Plot\"},\"ticker\":{\"id\":\"3103\",\"type\":\"BasicTicker\"}},\"id\":\"3102\",\"type\":\"LinearAxis\"},{\"attributes\":{\"line_alpha\":0.1,\"line_color\":\"#1f77b4\",\"line_width\":4,\"x\":{\"field\":\"x\"},\"y\":{\"field\":\"y\"}},\"id\":\"3122\",\"type\":\"Line\"},{\"attributes\":{},\"id\":\"3259\",\"type\":\"Selection\"},{\"attributes\":{},\"id\":\"3103\",\"type\":\"BasicTicker\"},{\"attributes\":{\"data_source\":{\"id\":\"3120\",\"type\":\"ColumnDataSource\"},\"glyph\":{\"id\":\"3121\",\"type\":\"Line\"},\"hover_glyph\":null,\"muted_glyph\":null,\"nonselection_glyph\":{\"id\":\"3122\",\"type\":\"Line\"},\"selection_glyph\":null,\"view\":{\"id\":\"3124\",\"type\":\"CDSView\"}},\"id\":\"3123\",\"type\":\"GlyphRenderer\"},{\"attributes\":{},\"id\":\"3260\",\"type\":\"UnionRenderers\"},{\"attributes\":{\"plot\":null,\"text\":\"Plays by Yard Line on Third Down (normalized by total number of plays by yard line)\"},\"id\":\"3086\",\"type\":\"Title\"},{\"attributes\":{\"source\":{\"id\":\"3120\",\"type\":\"ColumnDataSource\"}},\"id\":\"3124\",\"type\":\"CDSView\"},{\"attributes\":{\"dimension\":1,\"plot\":{\"id\":\"3087\",\"subtype\":\"Figure\",\"type\":\"Plot\"},\"ticker\":{\"id\":\"3103\",\"type\":\"BasicTicker\"}},\"id\":\"3106\",\"type\":\"Grid\"},{\"attributes\":{},\"id\":\"3261\",\"type\":\"Selection\"},{\"attributes\":{},\"id\":\"3095\",\"type\":\"LinearScale\"},{\"attributes\":{},\"id\":\"3262\",\"type\":\"UnionRenderers\"},{\"attributes\":{\"line_color\":\"#d7191c\",\"line_width\":4,\"x\":{\"field\":\"x\"},\"y\":{\"field\":\"y\"}},\"id\":\"3126\",\"type\":\"Line\"},{\"attributes\":{\"ticks\":[0,5,10,15,20,25,30,35,40,45,50,55,60,65,70,75,80,85,90,95,100]},\"id\":\"3130\",\"type\":\"FixedTicker\"},{\"attributes\":{},\"id\":\"3263\",\"type\":\"Selection\"},{\"attributes\":{},\"id\":\"3093\",\"type\":\"LinearScale\"},{\"attributes\":{\"line_alpha\":0.1,\"line_color\":\"#1f77b4\",\"line_width\":4,\"x\":{\"field\":\"x\"},\"y\":{\"field\":\"y\"}},\"id\":\"3127\",\"type\":\"Line\"},{\"attributes\":{\"callback\":null},\"id\":\"3091\",\"type\":\"DataRange1d\"},{\"attributes\":{\"data_source\":{\"id\":\"3125\",\"type\":\"ColumnDataSource\"},\"glyph\":{\"id\":\"3126\",\"type\":\"Line\"},\"hover_glyph\":null,\"muted_glyph\":null,\"nonselection_glyph\":{\"id\":\"3127\",\"type\":\"Line\"},\"selection_glyph\":null,\"view\":{\"id\":\"3129\",\"type\":\"CDSView\"}},\"id\":\"3128\",\"type\":\"GlyphRenderer\"},{\"attributes\":{\"line_color\":\"#2b83ba\",\"line_width\":4,\"x\":{\"field\":\"x\"},\"y\":{\"field\":\"y\"}},\"id\":\"3111\",\"type\":\"Line\"},{\"attributes\":{\"source\":{\"id\":\"3125\",\"type\":\"ColumnDataSource\"}},\"id\":\"3129\",\"type\":\"CDSView\"}],\"root_ids\":[\"3087\"]},\"title\":\"Bokeh Application\",\"version\":\"1.0.1\"}};\n",
       "  var render_items = [{\"docid\":\"38a35cdc-d1c0-4de7-9240-2888badfef83\",\"roots\":{\"3087\":\"64af31bb-673e-4db3-a2b8-f75d69a7e667\"}}];\n",
       "  root.Bokeh.embed.embed_items_notebook(docs_json, render_items);\n",
       "\n",
       "  }\n",
       "  if (root.Bokeh !== undefined) {\n",
       "    embed_document(root);\n",
       "  } else {\n",
       "    var attempts = 0;\n",
       "    var timer = setInterval(function(root) {\n",
       "      if (root.Bokeh !== undefined) {\n",
       "        embed_document(root);\n",
       "        clearInterval(timer);\n",
       "      }\n",
       "      attempts++;\n",
       "      if (attempts > 100) {\n",
       "        console.log(\"Bokeh: ERROR: Unable to run BokehJS code because BokehJS library is missing\");\n",
       "        clearInterval(timer);\n",
       "      }\n",
       "    }, 10, root)\n",
       "  }\n",
       "})(window);"
      ],
      "application/vnd.bokehjs_exec.v0+json": ""
     },
     "metadata": {
      "application/vnd.bokehjs_exec.v0+json": {
       "id": "3087"
      }
     },
     "output_type": "display_data"
    }
   ],
   "source": [
    "def total_plays(i, play, cou):\n",
    "    total_plays = sum([cou[i][play] for play in plays])\n",
    "    if total_plays == 0:\n",
    "        return 1\n",
    "    else:\n",
    "        return total_plays\n",
    "\n",
    "x = range(0,101)\n",
    "team_df_d3 = team_df.loc[team_df['down'] == 3]\n",
    "plays_on_yrd = [Counter(team_df_d3.loc[team_df_d3['yrdline100'] == yrd]['PlayType']) for yrd in x]\n",
    "y_pass = [play['Pass']/total_plays(i, play, plays_on_yrd) for i, play in enumerate(plays_on_yrd)]\n",
    "y_runs = [play['Run']/total_plays(i, play, plays_on_yrd) for i, play in enumerate(plays_on_yrd)]\n",
    "y_punt = [play['Punt']/total_plays(i, play, plays_on_yrd) for i, play in enumerate(plays_on_yrd)]\n",
    "y_fg = [play['Field Goal']/total_plays(i, play, plays_on_yrd) for i, play in enumerate(plays_on_yrd)]\n",
    "p = figure(title='Plays by Yard Line on Third Down (normalized by total number of plays by yard line)', toolbar_location=None, tools='hover',\n",
    "           plot_height=350, plot_width=750, x_range=(1,99))\n",
    "l1 = p.line(x, y_pass, color='#2b83ba', line_width=4)\n",
    "l2 = p.line(x, y_runs, color='#abdda4', line_width=4)\n",
    "l3 = p.line(x, y_punt, color='#fdae61', line_width=4)\n",
    "l4 = p.line(x, y_fg, color='#d7191c', line_width=4)\n",
    "p.xaxis.axis_label = 'Yard Line (100 is team\\'s own goal line)'\n",
    "p.yaxis.axis_label = 'Fraction of Plays'\n",
    "p.xaxis.ticker = FixedTicker(ticks=list(range(0, 101, 5)))\n",
    "p.xgrid.ticker = p.xaxis[0].ticker\n",
    "\n",
    "legend = Legend(items=[\n",
    "    ('Pass'   , [l1]),\n",
    "    ('Run' , [l2]),\n",
    "    ('Punt' , [l3]),\n",
    "    ('Field Goal', [l4]),\n",
    "], location=(0, +100))\n",
    "\n",
    "p.add_layout(legend, 'right')\n",
    "show(p)"
   ]
  },
  {
   "cell_type": "markdown",
   "metadata": {},
   "source": [
    "### Fourth down only"
   ]
  },
  {
   "cell_type": "code",
   "execution_count": 35,
   "metadata": {},
   "outputs": [
    {
     "data": {
      "text/html": [
       "\n",
       "\n",
       "\n",
       "\n",
       "\n",
       "\n",
       "  <div class=\"bk-root\" id=\"ad689335-ce45-45a0-9fff-d59a303a3406\"></div>\n"
      ]
     },
     "metadata": {},
     "output_type": "display_data"
    },
    {
     "data": {
      "application/javascript": [
       "(function(root) {\n",
       "  function embed_document(root) {\n",
       "    \n",
       "  var docs_json = {\"b9da8a48-55b4-4777-a5dd-b64650eea784\":{\"roots\":{\"references\":[{\"attributes\":{\"below\":[{\"id\":\"3347\",\"type\":\"LinearAxis\"}],\"left\":[{\"id\":\"3352\",\"type\":\"LinearAxis\"}],\"plot_height\":350,\"plot_width\":750,\"renderers\":[{\"id\":\"3347\",\"type\":\"LinearAxis\"},{\"id\":\"3351\",\"type\":\"Grid\"},{\"id\":\"3352\",\"type\":\"LinearAxis\"},{\"id\":\"3356\",\"type\":\"Grid\"},{\"id\":\"3363\",\"type\":\"GlyphRenderer\"},{\"id\":\"3368\",\"type\":\"GlyphRenderer\"},{\"id\":\"3373\",\"type\":\"GlyphRenderer\"},{\"id\":\"3378\",\"type\":\"GlyphRenderer\"},{\"id\":\"3382\",\"type\":\"Legend\"}],\"right\":[{\"id\":\"3382\",\"type\":\"Legend\"}],\"title\":{\"id\":\"3336\",\"type\":\"Title\"},\"toolbar\":{\"id\":\"3358\",\"type\":\"Toolbar\"},\"toolbar_location\":null,\"x_range\":{\"id\":\"3339\",\"type\":\"Range1d\"},\"x_scale\":{\"id\":\"3343\",\"type\":\"LinearScale\"},\"y_range\":{\"id\":\"3341\",\"type\":\"DataRange1d\"},\"y_scale\":{\"id\":\"3345\",\"type\":\"LinearScale\"}},\"id\":\"3337\",\"subtype\":\"Figure\",\"type\":\"Plot\"},{\"attributes\":{\"data_source\":{\"id\":\"3360\",\"type\":\"ColumnDataSource\"},\"glyph\":{\"id\":\"3361\",\"type\":\"Line\"},\"hover_glyph\":null,\"muted_glyph\":null,\"nonselection_glyph\":{\"id\":\"3362\",\"type\":\"Line\"},\"selection_glyph\":null,\"view\":{\"id\":\"3364\",\"type\":\"CDSView\"}},\"id\":\"3363\",\"type\":\"GlyphRenderer\"},{\"attributes\":{},\"id\":\"3515\",\"type\":\"BasicTickFormatter\"},{\"attributes\":{\"source\":{\"id\":\"3360\",\"type\":\"ColumnDataSource\"}},\"id\":\"3364\",\"type\":\"CDSView\"},{\"attributes\":{\"plot\":null,\"text\":\"Plays by Yard Line on Fourth Down (normalized by total number of plays by yard line)\"},\"id\":\"3336\",\"type\":\"Title\"},{\"attributes\":{\"label\":{\"value\":\"Pass\"},\"renderers\":[{\"id\":\"3363\",\"type\":\"GlyphRenderer\"}]},\"id\":\"3383\",\"type\":\"LegendItem\"},{\"attributes\":{\"line_color\":\"#abdda4\",\"line_width\":4,\"x\":{\"field\":\"x\"},\"y\":{\"field\":\"y\"}},\"id\":\"3366\",\"type\":\"Line\"},{\"attributes\":{\"callback\":null,\"end\":99,\"start\":1},\"id\":\"3339\",\"type\":\"Range1d\"},{\"attributes\":{\"label\":{\"value\":\"Run\"},\"renderers\":[{\"id\":\"3368\",\"type\":\"GlyphRenderer\"}]},\"id\":\"3384\",\"type\":\"LegendItem\"},{\"attributes\":{\"callback\":null,\"data\":{\"x\":[0,1,2,3,4,5,6,7,8,9,10,11,12,13,14,15,16,17,18,19,20,21,22,23,24,25,26,27,28,29,30,31,32,33,34,35,36,37,38,39,40,41,42,43,44,45,46,47,48,49,50,51,52,53,54,55,56,57,58,59,60,61,62,63,64,65,66,67,68,69,70,71,72,73,74,75,76,77,78,79,80,81,82,83,84,85,86,87,88,89,90,91,92,93,94,95,96,97,98,99,100],\"y\":[0.0,0.0,0.0,0.0,0.0,0.0,0.0,0.0,0.0,0.0,0.0,0.0,0.0,0.0,0.0,0.0,0.0,0.0,0.0,0.0,0.0,0.0,0.0,0.0,0.0,0.0,0.0,0.0,0.0,0.006825938566552901,0.002680965147453083,0.0029411764705882353,0.040268456375838924,0.05102040816326531,0.08637873754152824,0.13333333333333333,0.30272108843537415,0.3926174496644295,0.564625850340136,0.6407766990291263,0.6847826086956522,0.7507082152974505,0.7793296089385475,0.7681159420289855,0.8469656992084432,0.8163771712158809,0.876750700280112,0.8882521489971347,0.844559585492228,0.8900804289544236,0.8917050691244239,0.8942307692307693,0.8813559322033898,0.9010416666666666,0.8888888888888888,0.8910505836575876,0.9195652173913044,0.9048672566371682,0.9515418502202643,0.9356223175965666,0.9253187613843351,0.9302325581395349,0.9161554192229039,0.937888198757764,0.9288888888888889,0.9433198380566802,0.9296577946768061,0.9457364341085271,0.9518348623853211,0.9557522123893806,0.9612546125461254,0.9554597701149425,0.9547511312217195,0.9605263157894737,0.9683098591549296,0.9620853080568721,0.9667318982387475,0.963265306122449,0.9688149688149689,0.9819819819819819,0.9527027027027027,0.9682151589242054,0.962059620596206,0.967741935483871,0.9753086419753086,0.9669421487603306,0.9796610169491525,0.9700854700854701,0.9736842105263158,0.98,0.9644444444444444,0.9759036144578314,0.9856115107913669,0.9821428571428571,0.9912280701754386,0.990990990990991,0.9344262295081968,0.9607843137254902,1.0,0.9111111111111111,0.0]},\"selected\":{\"id\":\"3523\",\"type\":\"Selection\"},\"selection_policy\":{\"id\":\"3522\",\"type\":\"UnionRenderers\"}},\"id\":\"3370\",\"type\":\"ColumnDataSource\"},{\"attributes\":{\"callback\":null},\"id\":\"3341\",\"type\":\"DataRange1d\"},{\"attributes\":{\"label\":{\"value\":\"Punt\"},\"renderers\":[{\"id\":\"3373\",\"type\":\"GlyphRenderer\"}]},\"id\":\"3385\",\"type\":\"LegendItem\"},{\"attributes\":{\"line_alpha\":0.1,\"line_color\":\"#1f77b4\",\"line_width\":4,\"x\":{\"field\":\"x\"},\"y\":{\"field\":\"y\"}},\"id\":\"3367\",\"type\":\"Line\"},{\"attributes\":{\"label\":{\"value\":\"Field Goal\"},\"renderers\":[{\"id\":\"3378\",\"type\":\"GlyphRenderer\"}]},\"id\":\"3386\",\"type\":\"LegendItem\"},{\"attributes\":{\"data_source\":{\"id\":\"3365\",\"type\":\"ColumnDataSource\"},\"glyph\":{\"id\":\"3366\",\"type\":\"Line\"},\"hover_glyph\":null,\"muted_glyph\":null,\"nonselection_glyph\":{\"id\":\"3367\",\"type\":\"Line\"},\"selection_glyph\":null,\"view\":{\"id\":\"3369\",\"type\":\"CDSView\"}},\"id\":\"3368\",\"type\":\"GlyphRenderer\"},{\"attributes\":{},\"id\":\"3343\",\"type\":\"LinearScale\"},{\"attributes\":{},\"id\":\"3516\",\"type\":\"BasicTickFormatter\"},{\"attributes\":{\"source\":{\"id\":\"3365\",\"type\":\"ColumnDataSource\"}},\"id\":\"3369\",\"type\":\"CDSView\"},{\"attributes\":{},\"id\":\"3345\",\"type\":\"LinearScale\"},{\"attributes\":{},\"id\":\"3518\",\"type\":\"UnionRenderers\"},{\"attributes\":{\"axis_label\":\"Yard Line (100 is team's own goal line)\",\"formatter\":{\"id\":\"3515\",\"type\":\"BasicTickFormatter\"},\"plot\":{\"id\":\"3337\",\"subtype\":\"Figure\",\"type\":\"Plot\"},\"ticker\":{\"id\":\"3380\",\"type\":\"FixedTicker\"}},\"id\":\"3347\",\"type\":\"LinearAxis\"},{\"attributes\":{\"line_color\":\"#fdae61\",\"line_width\":4,\"x\":{\"field\":\"x\"},\"y\":{\"field\":\"y\"}},\"id\":\"3371\",\"type\":\"Line\"},{\"attributes\":{},\"id\":\"3519\",\"type\":\"Selection\"},{\"attributes\":{\"callback\":null,\"data\":{\"x\":[0,1,2,3,4,5,6,7,8,9,10,11,12,13,14,15,16,17,18,19,20,21,22,23,24,25,26,27,28,29,30,31,32,33,34,35,36,37,38,39,40,41,42,43,44,45,46,47,48,49,50,51,52,53,54,55,56,57,58,59,60,61,62,63,64,65,66,67,68,69,70,71,72,73,74,75,76,77,78,79,80,81,82,83,84,85,86,87,88,89,90,91,92,93,94,95,96,97,98,99,100],\"y\":[0.0,0.3048780487804878,0.7078651685393258,0.7682926829268293,0.8053435114503816,0.8543046357615894,0.8,0.8339483394833949,0.8949579831932774,0.8615384615384616,0.8205980066445183,0.8432835820895522,0.8697318007662835,0.8555133079847909,0.855072463768116,0.8432601880877743,0.8661710037174721,0.8129496402877698,0.8652482269503546,0.8531468531468531,0.8654970760233918,0.8156028368794326,0.8831615120274914,0.8867924528301887,0.8102189781021898,0.8282828282828283,0.8164794007490637,0.8079470198675497,0.8302583025830258,0.8122866894197952,0.806970509383378,0.7558823529411764,0.7080536912751678,0.6972789115646258,0.6146179401993356,0.5055555555555555,0.3673469387755102,0.2483221476510067,0.12244897959183673,0.061488673139158574,0.03260869565217391,0.0169971671388102,0.013966480446927373,0.017391304347826087,0.005277044854881266,0.007444168734491315,0.0028011204481792717,0.0028653295128939827,0.0025906735751295338,0.0,0.0,0.0,0.0,0.0,0.0,0.0,0.0,0.0,0.0,0.0,0.0,0.0,0.0,0.0,0.0,0.0,0.0,0.0,0.0,0.0,0.0,0.0,0.0,0.0,0.0,0.0,0.0,0.0,0.0,0.0,0.0,0.0,0.0,0.0,0.0,0.0,0.0,0.0,0.0,0.0,0.0,0.0,0.0,0.0,0.0,0.0,0.0,0.0,0.0,0.0,0.0]},\"selected\":{\"id\":\"3525\",\"type\":\"Selection\"},\"selection_policy\":{\"id\":\"3524\",\"type\":\"UnionRenderers\"}},\"id\":\"3375\",\"type\":\"ColumnDataSource\"},{\"attributes\":{\"items\":[{\"id\":\"3383\",\"type\":\"LegendItem\"},{\"id\":\"3384\",\"type\":\"LegendItem\"},{\"id\":\"3385\",\"type\":\"LegendItem\"},{\"id\":\"3386\",\"type\":\"LegendItem\"}],\"location\":[0,100],\"plot\":{\"id\":\"3337\",\"subtype\":\"Figure\",\"type\":\"Plot\"}},\"id\":\"3382\",\"type\":\"Legend\"},{\"attributes\":{},\"id\":\"3520\",\"type\":\"UnionRenderers\"},{\"attributes\":{\"line_alpha\":0.1,\"line_color\":\"#1f77b4\",\"line_width\":4,\"x\":{\"field\":\"x\"},\"y\":{\"field\":\"y\"}},\"id\":\"3372\",\"type\":\"Line\"},{\"attributes\":{\"plot\":{\"id\":\"3337\",\"subtype\":\"Figure\",\"type\":\"Plot\"},\"ticker\":{\"id\":\"3380\",\"type\":\"FixedTicker\"}},\"id\":\"3351\",\"type\":\"Grid\"},{\"attributes\":{},\"id\":\"3521\",\"type\":\"Selection\"},{\"attributes\":{\"data_source\":{\"id\":\"3370\",\"type\":\"ColumnDataSource\"},\"glyph\":{\"id\":\"3371\",\"type\":\"Line\"},\"hover_glyph\":null,\"muted_glyph\":null,\"nonselection_glyph\":{\"id\":\"3372\",\"type\":\"Line\"},\"selection_glyph\":null,\"view\":{\"id\":\"3374\",\"type\":\"CDSView\"}},\"id\":\"3373\",\"type\":\"GlyphRenderer\"},{\"attributes\":{\"axis_label\":\"Fraction of Plays\",\"formatter\":{\"id\":\"3516\",\"type\":\"BasicTickFormatter\"},\"plot\":{\"id\":\"3337\",\"subtype\":\"Figure\",\"type\":\"Plot\"},\"ticker\":{\"id\":\"3353\",\"type\":\"BasicTicker\"}},\"id\":\"3352\",\"type\":\"LinearAxis\"},{\"attributes\":{},\"id\":\"3522\",\"type\":\"UnionRenderers\"},{\"attributes\":{\"source\":{\"id\":\"3370\",\"type\":\"ColumnDataSource\"}},\"id\":\"3374\",\"type\":\"CDSView\"},{\"attributes\":{},\"id\":\"3353\",\"type\":\"BasicTicker\"},{\"attributes\":{},\"id\":\"3523\",\"type\":\"Selection\"},{\"attributes\":{\"dimension\":1,\"plot\":{\"id\":\"3337\",\"subtype\":\"Figure\",\"type\":\"Plot\"},\"ticker\":{\"id\":\"3353\",\"type\":\"BasicTicker\"}},\"id\":\"3356\",\"type\":\"Grid\"},{\"attributes\":{\"line_color\":\"#d7191c\",\"line_width\":4,\"x\":{\"field\":\"x\"},\"y\":{\"field\":\"y\"}},\"id\":\"3376\",\"type\":\"Line\"},{\"attributes\":{},\"id\":\"3524\",\"type\":\"UnionRenderers\"},{\"attributes\":{\"ticks\":[0,5,10,15,20,25,30,35,40,45,50,55,60,65,70,75,80,85,90,95,100]},\"id\":\"3380\",\"type\":\"FixedTicker\"},{\"attributes\":{\"active_drag\":\"auto\",\"active_inspect\":\"auto\",\"active_multi\":null,\"active_scroll\":\"auto\",\"active_tap\":\"auto\",\"tools\":[{\"id\":\"3357\",\"type\":\"HoverTool\"}]},\"id\":\"3358\",\"type\":\"Toolbar\"},{\"attributes\":{\"callback\":null,\"renderers\":\"auto\"},\"id\":\"3357\",\"type\":\"HoverTool\"},{\"attributes\":{},\"id\":\"3525\",\"type\":\"Selection\"},{\"attributes\":{\"line_alpha\":0.1,\"line_color\":\"#1f77b4\",\"line_width\":4,\"x\":{\"field\":\"x\"},\"y\":{\"field\":\"y\"}},\"id\":\"3377\",\"type\":\"Line\"},{\"attributes\":{\"data_source\":{\"id\":\"3375\",\"type\":\"ColumnDataSource\"},\"glyph\":{\"id\":\"3376\",\"type\":\"Line\"},\"hover_glyph\":null,\"muted_glyph\":null,\"nonselection_glyph\":{\"id\":\"3377\",\"type\":\"Line\"},\"selection_glyph\":null,\"view\":{\"id\":\"3379\",\"type\":\"CDSView\"}},\"id\":\"3378\",\"type\":\"GlyphRenderer\"},{\"attributes\":{\"callback\":null,\"data\":{\"x\":[0,1,2,3,4,5,6,7,8,9,10,11,12,13,14,15,16,17,18,19,20,21,22,23,24,25,26,27,28,29,30,31,32,33,34,35,36,37,38,39,40,41,42,43,44,45,46,47,48,49,50,51,52,53,54,55,56,57,58,59,60,61,62,63,64,65,66,67,68,69,70,71,72,73,74,75,76,77,78,79,80,81,82,83,84,85,86,87,88,89,90,91,92,93,94,95,96,97,98,99,100],\"y\":[0.0,0.25,0.1947565543071161,0.12601626016260162,0.11450381679389313,0.08278145695364239,0.1306122448979592,0.11070110701107011,0.046218487394957986,0.07692307692307693,0.10299003322259136,0.10074626865671642,0.06130268199233716,0.07984790874524715,0.10507246376811594,0.09717868338557993,0.08178438661710037,0.1223021582733813,0.07446808510638298,0.08391608391608392,0.08187134502923976,0.0851063829787234,0.07216494845360824,0.06415094339622641,0.0948905109489051,0.10437710437710437,0.10861423220973783,0.10927152317880795,0.0959409594095941,0.11604095563139932,0.12332439678284182,0.1411764705882353,0.15100671140939598,0.17006802721088435,0.1893687707641196,0.2222222222222222,0.20068027210884354,0.23154362416107382,0.20408163265306123,0.20388349514563106,0.1793478260869565,0.14730878186968838,0.12569832402234637,0.12753623188405797,0.07651715039577836,0.10669975186104218,0.08403361344537816,0.08022922636103152,0.09067357512953368,0.07506702412868632,0.07373271889400922,0.05048076923076923,0.07909604519774012,0.0703125,0.07333333333333333,0.07003891050583658,0.034782608695652174,0.07079646017699115,0.028634361233480177,0.034334763948497854,0.051001821493624776,0.04844961240310078,0.044989775051124746,0.039337474120082816,0.04888888888888889,0.038461538461538464,0.034220532319391636,0.044573643410852716,0.034403669724770644,0.03761061946902655,0.02952029520295203,0.01867816091954023,0.03469079939668175,0.03453947368421053,0.028169014084507043,0.02843601895734597,0.01761252446183953,0.026530612244897958,0.02079002079002079,0.009009009009009009,0.03209459459459459,0.029339853300733496,0.032520325203252036,0.024193548387096774,0.021604938271604937,0.027548209366391185,0.013559322033898305,0.02564102564102564,0.021929824561403508,0.015,0.035555555555555556,0.024096385542168676,0.014388489208633094,0.017857142857142856,0.0,0.009009009009009009,0.06557377049180328,0.0196078431372549,0.0,0.022222222222222223,0.0]},\"selected\":{\"id\":\"3519\",\"type\":\"Selection\"},\"selection_policy\":{\"id\":\"3518\",\"type\":\"UnionRenderers\"}},\"id\":\"3360\",\"type\":\"ColumnDataSource\"},{\"attributes\":{\"callback\":null,\"data\":{\"x\":[0,1,2,3,4,5,6,7,8,9,10,11,12,13,14,15,16,17,18,19,20,21,22,23,24,25,26,27,28,29,30,31,32,33,34,35,36,37,38,39,40,41,42,43,44,45,46,47,48,49,50,51,52,53,54,55,56,57,58,59,60,61,62,63,64,65,66,67,68,69,70,71,72,73,74,75,76,77,78,79,80,81,82,83,84,85,86,87,88,89,90,91,92,93,94,95,96,97,98,99,100],\"y\":[0.0,0.4451219512195122,0.09737827715355805,0.10569105691056911,0.08015267175572519,0.06291390728476821,0.06938775510204082,0.055350553505535055,0.058823529411764705,0.06153846153846154,0.07641196013289037,0.055970149253731345,0.06896551724137931,0.06463878326996197,0.03985507246376811,0.05956112852664577,0.05204460966542751,0.06474820143884892,0.06028368794326241,0.06293706293706294,0.05263157894736842,0.09929078014184398,0.044673539518900345,0.04905660377358491,0.0948905109489051,0.06734006734006734,0.0749063670411985,0.08278145695364239,0.07380073800738007,0.06484641638225255,0.06702412868632708,0.1,0.10067114093959731,0.08163265306122448,0.10963455149501661,0.1388888888888889,0.1292517006802721,0.12751677852348994,0.10884353741496598,0.09385113268608414,0.10326086956521739,0.08498583569405099,0.08100558659217877,0.08695652173913043,0.0712401055408971,0.06947890818858561,0.036414565826330535,0.02865329512893983,0.06217616580310881,0.03485254691689008,0.03456221198156682,0.055288461538461536,0.03954802259887006,0.028645833333333332,0.03777777777777778,0.038910505836575876,0.04565217391304348,0.024336283185840708,0.019823788546255508,0.030042918454935622,0.023679417122040074,0.02131782945736434,0.03885480572597137,0.022774327122153208,0.022222222222222223,0.018218623481781375,0.03612167300380228,0.009689922480620155,0.013761467889908258,0.00663716814159292,0.00922509225092251,0.02586206896551724,0.010558069381598794,0.004934210526315789,0.0035211267605633804,0.009478672985781991,0.015655577299412915,0.01020408163265306,0.010395010395010396,0.009009009009009009,0.015202702702702704,0.0024449877750611247,0.005420054200542005,0.008064516129032258,0.0030864197530864196,0.005509641873278237,0.006779661016949152,0.004273504273504274,0.0043859649122807015,0.005,0.0,0.0,0.0,0.0,0.008771929824561403,0.0,0.0,0.0196078431372549,0.0,0.06666666666666667,0.0]},\"selected\":{\"id\":\"3521\",\"type\":\"Selection\"},\"selection_policy\":{\"id\":\"3520\",\"type\":\"UnionRenderers\"}},\"id\":\"3365\",\"type\":\"ColumnDataSource\"},{\"attributes\":{\"source\":{\"id\":\"3375\",\"type\":\"ColumnDataSource\"}},\"id\":\"3379\",\"type\":\"CDSView\"},{\"attributes\":{\"line_color\":\"#2b83ba\",\"line_width\":4,\"x\":{\"field\":\"x\"},\"y\":{\"field\":\"y\"}},\"id\":\"3361\",\"type\":\"Line\"},{\"attributes\":{\"line_alpha\":0.1,\"line_color\":\"#1f77b4\",\"line_width\":4,\"x\":{\"field\":\"x\"},\"y\":{\"field\":\"y\"}},\"id\":\"3362\",\"type\":\"Line\"}],\"root_ids\":[\"3337\"]},\"title\":\"Bokeh Application\",\"version\":\"1.0.1\"}};\n",
       "  var render_items = [{\"docid\":\"b9da8a48-55b4-4777-a5dd-b64650eea784\",\"roots\":{\"3337\":\"ad689335-ce45-45a0-9fff-d59a303a3406\"}}];\n",
       "  root.Bokeh.embed.embed_items_notebook(docs_json, render_items);\n",
       "\n",
       "  }\n",
       "  if (root.Bokeh !== undefined) {\n",
       "    embed_document(root);\n",
       "  } else {\n",
       "    var attempts = 0;\n",
       "    var timer = setInterval(function(root) {\n",
       "      if (root.Bokeh !== undefined) {\n",
       "        embed_document(root);\n",
       "        clearInterval(timer);\n",
       "      }\n",
       "      attempts++;\n",
       "      if (attempts > 100) {\n",
       "        console.log(\"Bokeh: ERROR: Unable to run BokehJS code because BokehJS library is missing\");\n",
       "        clearInterval(timer);\n",
       "      }\n",
       "    }, 10, root)\n",
       "  }\n",
       "})(window);"
      ],
      "application/vnd.bokehjs_exec.v0+json": ""
     },
     "metadata": {
      "application/vnd.bokehjs_exec.v0+json": {
       "id": "3337"
      }
     },
     "output_type": "display_data"
    }
   ],
   "source": [
    "def total_plays(i, play, cou):\n",
    "    total_plays = sum([cou[i][play] for play in plays])\n",
    "    if total_plays == 0:\n",
    "        return 1\n",
    "    else:\n",
    "        return total_plays\n",
    "\n",
    "x = range(0,101)\n",
    "team_df_d4 = team_df.loc[team_df['down'] == 4]\n",
    "plays_on_yrd = [Counter(team_df_d4.loc[team_df_d4['yrdline100'] == yrd]['PlayType']) for yrd in x]\n",
    "y_pass = [play['Pass']/total_plays(i, play, plays_on_yrd) for i, play in enumerate(plays_on_yrd)]\n",
    "y_runs = [play['Run']/total_plays(i, play, plays_on_yrd) for i, play in enumerate(plays_on_yrd)]\n",
    "y_punt = [play['Punt']/total_plays(i, play, plays_on_yrd) for i, play in enumerate(plays_on_yrd)]\n",
    "y_fg = [play['Field Goal']/total_plays(i, play, plays_on_yrd) for i, play in enumerate(plays_on_yrd)]\n",
    "p = figure(title='Plays by Yard Line on Fourth Down (normalized by total number of plays by yard line)', toolbar_location=None, tools='hover',\n",
    "           plot_height=350, plot_width=750, x_range=(1,99))\n",
    "l1 = p.line(x, y_pass, color='#2b83ba', line_width=4)\n",
    "l2 = p.line(x, y_runs, color='#abdda4', line_width=4)\n",
    "l3 = p.line(x, y_punt, color='#fdae61', line_width=4)\n",
    "l4 = p.line(x, y_fg, color='#d7191c', line_width=4)\n",
    "p.xaxis.axis_label = 'Yard Line (100 is team\\'s own goal line)'\n",
    "p.yaxis.axis_label = 'Fraction of Plays'\n",
    "p.xaxis.ticker = FixedTicker(ticks=list(range(0, 101, 5)))\n",
    "p.xgrid.ticker = p.xaxis[0].ticker\n",
    "\n",
    "legend = Legend(items=[\n",
    "    ('Pass'   , [l1]),\n",
    "    ('Run' , [l2]),\n",
    "    ('Punt' , [l3]),\n",
    "    ('Field Goal', [l4]),\n",
    "], location=(0, +100))\n",
    "\n",
    "p.add_layout(legend, 'right')\n",
    "show(p)"
   ]
  },
  {
   "cell_type": "markdown",
   "metadata": {},
   "source": [
    "## Normalizing by the total plays of a given type"
   ]
  },
  {
   "cell_type": "code",
   "execution_count": 36,
   "metadata": {},
   "outputs": [
    {
     "data": {
      "text/html": [
       "\n",
       "\n",
       "\n",
       "\n",
       "\n",
       "\n",
       "  <div class=\"bk-root\" id=\"4217116c-87da-46b5-a099-568d34d4c5c9\"></div>\n"
      ]
     },
     "metadata": {},
     "output_type": "display_data"
    },
    {
     "data": {
      "application/javascript": [
       "(function(root) {\n",
       "  function embed_document(root) {\n",
       "    \n",
       "  var docs_json = {\"c03a98da-2dad-4b4c-a33a-0d20d58ef2f9\":{\"roots\":{\"references\":[{\"attributes\":{\"below\":[{\"id\":\"3609\",\"type\":\"LinearAxis\"}],\"left\":[{\"id\":\"3614\",\"type\":\"LinearAxis\"}],\"plot_height\":350,\"plot_width\":750,\"renderers\":[{\"id\":\"3609\",\"type\":\"LinearAxis\"},{\"id\":\"3613\",\"type\":\"Grid\"},{\"id\":\"3614\",\"type\":\"LinearAxis\"},{\"id\":\"3618\",\"type\":\"Grid\"},{\"id\":\"3625\",\"type\":\"GlyphRenderer\"},{\"id\":\"3630\",\"type\":\"GlyphRenderer\"},{\"id\":\"3635\",\"type\":\"GlyphRenderer\"},{\"id\":\"3640\",\"type\":\"GlyphRenderer\"},{\"id\":\"3644\",\"type\":\"Legend\"}],\"right\":[{\"id\":\"3644\",\"type\":\"Legend\"}],\"title\":{\"id\":\"3598\",\"type\":\"Title\"},\"toolbar\":{\"id\":\"3620\",\"type\":\"Toolbar\"},\"toolbar_location\":null,\"x_range\":{\"id\":\"3601\",\"type\":\"Range1d\"},\"x_scale\":{\"id\":\"3605\",\"type\":\"LinearScale\"},\"y_range\":{\"id\":\"3603\",\"type\":\"DataRange1d\"},\"y_scale\":{\"id\":\"3607\",\"type\":\"LinearScale\"}},\"id\":\"3599\",\"subtype\":\"Figure\",\"type\":\"Plot\"},{\"attributes\":{\"label\":{\"value\":\"Field Goal\"},\"renderers\":[{\"id\":\"3640\",\"type\":\"GlyphRenderer\"}]},\"id\":\"3648\",\"type\":\"LegendItem\"},{\"attributes\":{\"data_source\":{\"id\":\"3627\",\"type\":\"ColumnDataSource\"},\"glyph\":{\"id\":\"3628\",\"type\":\"Line\"},\"hover_glyph\":null,\"muted_glyph\":null,\"nonselection_glyph\":{\"id\":\"3629\",\"type\":\"Line\"},\"selection_glyph\":null,\"view\":{\"id\":\"3631\",\"type\":\"CDSView\"}},\"id\":\"3630\",\"type\":\"GlyphRenderer\"},{\"attributes\":{},\"id\":\"3790\",\"type\":\"BasicTickFormatter\"},{\"attributes\":{\"source\":{\"id\":\"3627\",\"type\":\"ColumnDataSource\"}},\"id\":\"3631\",\"type\":\"CDSView\"},{\"attributes\":{\"line_color\":\"#2b83ba\",\"line_width\":4,\"x\":{\"field\":\"x\"},\"y\":{\"field\":\"y\"}},\"id\":\"3623\",\"type\":\"Line\"},{\"attributes\":{},\"id\":\"3792\",\"type\":\"UnionRenderers\"},{\"attributes\":{\"source\":{\"id\":\"3622\",\"type\":\"ColumnDataSource\"}},\"id\":\"3626\",\"type\":\"CDSView\"},{\"attributes\":{\"callback\":null,\"data\":{\"x\":[0,1,2,3,4,5,6,7,8,9,10,11,12,13,14,15,16,17,18,19,20,21,22,23,24,25,26,27,28,29,30,31,32,33,34,35,36,37,38,39,40,41,42,43,44,45,46,47,48,49,50,51,52,53,54,55,56,57,58,59,60,61,62,63,64,65,66,67,68,69,70,71,72,73,74,75,76,77,78,79,80,81,82,83,84,85,86,87,88,89,90,91,92,93,94,95,96,97,98,99,100],\"y\":[0.0,0.01842087810054384,0.007560684440907282,0.00682285448998541,0.006433213954105319,0.0071295927841888845,0.006988658973338639,0.006507825971614273,0.0065990184374585485,0.007071561215015254,0.006930627404165009,0.007088141663350577,0.007113012335853561,0.007030110094176947,0.007519233320068975,0.007850842286775435,0.00693891762833267,0.006955498076667993,0.007195914577530177,0.007477782199230667,0.0083316752884998,0.007693328027589866,0.007419750630057037,0.007933744528452049,0.008364836185170447,0.008787637617721182,0.007834261838440111,0.008356545961002786,0.007850842286775435,0.008994893221912721,0.009409404430295795,0.008588672237697307,0.009069505239421674,0.008878830083565459,0.009624950258654993,0.010080912587876377,0.009583499137816687,0.009301631516116196,0.009243599946942566,0.009707852500331609,0.011092319936331078,0.009741013397002255,0.00982391563867887,0.010553455365433081,0.010802162090462926,0.011689216076402706,0.011075739487995756,0.01037936065791219,0.010860193659636556,0.01092651545297785,0.012145178405624088,0.011316155988857938,0.011208383074678339,0.012095437060618119,0.012418755803156918,0.014018769067515586,0.011962793473935536,0.012418755803156918,0.012244661095636026,0.013347260909935005,0.015610492107706592,0.013073683512402175,0.013413582703276297,0.013794933014988726,0.014176283326701154,0.01564365300437724,0.015245722244329487,0.013687160100809125,0.013861254808330017,0.015146239554317549,0.014997015519299642,0.01625712959278419,0.01343845337577928,0.012534818941504178,0.013305809789096698,0.02790489454834859,0.013156585754078791,0.011962793473935536,0.012136888181456426,0.011664345403899722,0.049119578193394346,0.009707852500331609,0.008779347393553521,0.007792810717601804,0.008199031701817218,0.009011473670248044,0.007486072423398328,0.006681920679135164,0.005794866693195384,0.005910929831542645,0.007593845337577928,0.005653932882345138,0.005090197638944157,0.0038052128929566254,0.0037886324446213026,0.003340960339567582,0.002976190476190476,0.0026611619578193395,0.002453906353627802,0.0023295529911128796,0.0]},\"selected\":{\"id\":\"3795\",\"type\":\"Selection\"},\"selection_policy\":{\"id\":\"3794\",\"type\":\"UnionRenderers\"}},\"id\":\"3627\",\"type\":\"ColumnDataSource\"},{\"attributes\":{},\"id\":\"3793\",\"type\":\"Selection\"},{\"attributes\":{\"line_color\":\"#fdae61\",\"line_width\":4,\"x\":{\"field\":\"x\"},\"y\":{\"field\":\"y\"}},\"id\":\"3633\",\"type\":\"Line\"},{\"attributes\":{\"callback\":null,\"data\":{\"x\":[0,1,2,3,4,5,6,7,8,9,10,11,12,13,14,15,16,17,18,19,20,21,22,23,24,25,26,27,28,29,30,31,32,33,34,35,36,37,38,39,40,41,42,43,44,45,46,47,48,49,50,51,52,53,54,55,56,57,58,59,60,61,62,63,64,65,66,67,68,69,70,71,72,73,74,75,76,77,78,79,80,81,82,83,84,85,86,87,88,89,90,91,92,93,94,95,96,97,98,99,100],\"y\":[0.0,0.012658227848101266,0.021731824801165006,0.022179903663044696,0.025092416265262686,0.03024532317687913,0.022964041671334156,0.026324633135431836,0.02442029797244315,0.02699675142825137,0.02890108659124006,0.027556850005600986,0.02733281057466114,0.027108771143721296,0.02901310630670998,0.03192561890892797,0.0281169485829506,0.026772711997311526,0.029237145737649826,0.02901310630670998,0.035398230088495575,0.027220790859191216,0.031365520331578356,0.028340988013890445,0.027556850005600986,0.032037638624397895,0.026772711997311526,0.029237145737649826,0.028340988013890445,0.02946118516858967,0.036294387812254955,0.030357342892349055,0.025988573989022067,0.02520443598073261,0.02240394309398454,0.02285202195586423,0.013442365856390725,0.010865912400582503,0.005152906911616444,0.0036966506105074494,0.0031365520331578358,0.0014562563011089951,0.0013442365856390726,0.0016802957320488407,0.0004480788618796908,0.0012322168701691498,0.00033605914640976814,0.0001120197154699227,0.0004480788618796908,0.0001120197154699227,0.0001120197154699227,0.0,0.0,0.0,0.0,0.0,0.0,0.0,0.0,0.0,0.0,0.0,0.0,0.0,0.0,0.0,0.0,0.0,0.0,0.0,0.0,0.0,0.0,0.0,0.0,0.0,0.0,0.0,0.0,0.0,0.0,0.0,0.0,0.0,0.0,0.0,0.0,0.0,0.0,0.0,0.0,0.0,0.0,0.0,0.0,0.0,0.0,0.0,0.0,0.0,0.0]},\"selected\":{\"id\":\"3799\",\"type\":\"Selection\"},\"selection_policy\":{\"id\":\"3798\",\"type\":\"UnionRenderers\"}},\"id\":\"3637\",\"type\":\"ColumnDataSource\"},{\"attributes\":{\"data_source\":{\"id\":\"3622\",\"type\":\"ColumnDataSource\"},\"glyph\":{\"id\":\"3623\",\"type\":\"Line\"},\"hover_glyph\":null,\"muted_glyph\":null,\"nonselection_glyph\":{\"id\":\"3624\",\"type\":\"Line\"},\"selection_glyph\":null,\"view\":{\"id\":\"3626\",\"type\":\"CDSView\"}},\"id\":\"3625\",\"type\":\"GlyphRenderer\"},{\"attributes\":{\"plot\":{\"id\":\"3599\",\"subtype\":\"Figure\",\"type\":\"Plot\"},\"ticker\":{\"id\":\"3642\",\"type\":\"FixedTicker\"}},\"id\":\"3613\",\"type\":\"Grid\"},{\"attributes\":{},\"id\":\"3794\",\"type\":\"UnionRenderers\"},{\"attributes\":{\"axis_label\":\"Fraction of Plays\",\"formatter\":{\"id\":\"3790\",\"type\":\"BasicTickFormatter\"},\"plot\":{\"id\":\"3599\",\"subtype\":\"Figure\",\"type\":\"Plot\"},\"ticker\":{\"id\":\"3615\",\"type\":\"BasicTicker\"}},\"id\":\"3614\",\"type\":\"LinearAxis\"},{\"attributes\":{\"line_alpha\":0.1,\"line_color\":\"#1f77b4\",\"line_width\":4,\"x\":{\"field\":\"x\"},\"y\":{\"field\":\"y\"}},\"id\":\"3634\",\"type\":\"Line\"},{\"attributes\":{},\"id\":\"3795\",\"type\":\"Selection\"},{\"attributes\":{\"callback\":null,\"data\":{\"x\":[0,1,2,3,4,5,6,7,8,9,10,11,12,13,14,15,16,17,18,19,20,21,22,23,24,25,26,27,28,29,30,31,32,33,34,35,36,37,38,39,40,41,42,43,44,45,46,47,48,49,50,51,52,53,54,55,56,57,58,59,60,61,62,63,64,65,66,67,68,69,70,71,72,73,74,75,76,77,78,79,80,81,82,83,84,85,86,87,88,89,90,91,92,93,94,95,96,97,98,99,100],\"y\":[0.0,0.0,0.0,0.0,0.0,0.0,0.0,0.0,0.0,0.0,0.0,0.0,0.0,0.0,0.0,0.0,0.0,0.0,0.0,0.0,0.0,0.0,0.0,0.0,0.0,0.0,0.0,0.0,0.0,9.089669590510385e-05,4.5448347952551926e-05,4.5448347952551926e-05,0.0005453801754306231,0.0006817252192882788,0.001227105394718902,0.0021815207017224923,0.004090351315729673,0.005317456710448575,0.00754442576012362,0.00899877289460528,0.011452983684043084,0.01204381220742626,0.012680089078761987,0.01204381220742626,0.014588919692769167,0.014952506476389583,0.014225332909148753,0.014088987865291096,0.014816161432531928,0.01508885152024724,0.017588510657637595,0.016906785438349316,0.0141798845611962,0.015770576739535518,0.018224787528973323,0.02081534336226878,0.019224651183929464,0.018588374312593737,0.01963368631550243,0.01981547970731264,0.023087760759896377,0.021815207017224923,0.020360859882743262,0.020588101622506023,0.018997409444166703,0.0211789301458892,0.022224242148797892,0.02217879380084534,0.01886106440030905,0.01963368631550243,0.023678589283279552,0.03022315138844703,0.028768804253965368,0.026541835204290324,0.02499659137390356,0.027678043903104122,0.02245148388856065,0.02145162023360451,0.021224378493841747,0.01981547970731264,0.025632868245239287,0.01799754578921056,0.016134163523155932,0.016361405262918693,0.014361677953006408,0.015952370131345726,0.013134572558287507,0.010316774985229286,0.010089533245466527,0.008953324546652729,0.009862291505703768,0.007362632368313412,0.006226423669499614,0.004999318274780712,0.005135663318638368,0.004999318274780712,0.0025905558332954596,0.002226969049675044,0.002545107485342908,0.0018633822660546289,0.0]},\"selected\":{\"id\":\"3797\",\"type\":\"Selection\"},\"selection_policy\":{\"id\":\"3796\",\"type\":\"UnionRenderers\"}},\"id\":\"3632\",\"type\":\"ColumnDataSource\"},{\"attributes\":{\"data_source\":{\"id\":\"3632\",\"type\":\"ColumnDataSource\"},\"glyph\":{\"id\":\"3633\",\"type\":\"Line\"},\"hover_glyph\":null,\"muted_glyph\":null,\"nonselection_glyph\":{\"id\":\"3634\",\"type\":\"Line\"},\"selection_glyph\":null,\"view\":{\"id\":\"3636\",\"type\":\"CDSView\"}},\"id\":\"3635\",\"type\":\"GlyphRenderer\"},{\"attributes\":{},\"id\":\"3796\",\"type\":\"UnionRenderers\"},{\"attributes\":{},\"id\":\"3615\",\"type\":\"BasicTicker\"},{\"attributes\":{\"line_color\":\"#abdda4\",\"line_width\":4,\"x\":{\"field\":\"x\"},\"y\":{\"field\":\"y\"}},\"id\":\"3628\",\"type\":\"Line\"},{\"attributes\":{\"source\":{\"id\":\"3632\",\"type\":\"ColumnDataSource\"}},\"id\":\"3636\",\"type\":\"CDSView\"},{\"attributes\":{\"dimension\":1,\"plot\":{\"id\":\"3599\",\"subtype\":\"Figure\",\"type\":\"Plot\"},\"ticker\":{\"id\":\"3615\",\"type\":\"BasicTicker\"}},\"id\":\"3618\",\"type\":\"Grid\"},{\"attributes\":{},\"id\":\"3797\",\"type\":\"Selection\"},{\"attributes\":{\"line_alpha\":0.1,\"line_color\":\"#1f77b4\",\"line_width\":4,\"x\":{\"field\":\"x\"},\"y\":{\"field\":\"y\"}},\"id\":\"3629\",\"type\":\"Line\"},{\"attributes\":{\"active_drag\":\"auto\",\"active_inspect\":\"auto\",\"active_multi\":null,\"active_scroll\":\"auto\",\"active_tap\":\"auto\",\"tools\":[{\"id\":\"3619\",\"type\":\"HoverTool\"}]},\"id\":\"3620\",\"type\":\"Toolbar\"},{\"attributes\":{},\"id\":\"3798\",\"type\":\"UnionRenderers\"},{\"attributes\":{\"line_color\":\"#d7191c\",\"line_width\":4,\"x\":{\"field\":\"x\"},\"y\":{\"field\":\"y\"}},\"id\":\"3638\",\"type\":\"Line\"},{\"attributes\":{\"callback\":null,\"renderers\":\"auto\"},\"id\":\"3619\",\"type\":\"HoverTool\"},{\"attributes\":{\"ticks\":[0,5,10,15,20,25,30,35,40,45,50,55,60,65,70,75,80,85,90,95,100]},\"id\":\"3642\",\"type\":\"FixedTicker\"},{\"attributes\":{},\"id\":\"3799\",\"type\":\"Selection\"},{\"attributes\":{\"line_alpha\":0.1,\"line_color\":\"#1f77b4\",\"line_width\":4,\"x\":{\"field\":\"x\"},\"y\":{\"field\":\"y\"}},\"id\":\"3639\",\"type\":\"Line\"},{\"attributes\":{\"data_source\":{\"id\":\"3637\",\"type\":\"ColumnDataSource\"},\"glyph\":{\"id\":\"3638\",\"type\":\"Line\"},\"hover_glyph\":null,\"muted_glyph\":null,\"nonselection_glyph\":{\"id\":\"3639\",\"type\":\"Line\"},\"selection_glyph\":null,\"view\":{\"id\":\"3641\",\"type\":\"CDSView\"}},\"id\":\"3640\",\"type\":\"GlyphRenderer\"},{\"attributes\":{\"source\":{\"id\":\"3637\",\"type\":\"ColumnDataSource\"}},\"id\":\"3641\",\"type\":\"CDSView\"},{\"attributes\":{\"axis_label\":\"Yard Line (100 is team's own goal line)\",\"formatter\":{\"id\":\"3789\",\"type\":\"BasicTickFormatter\"},\"plot\":{\"id\":\"3599\",\"subtype\":\"Figure\",\"type\":\"Plot\"},\"ticker\":{\"id\":\"3642\",\"type\":\"FixedTicker\"}},\"id\":\"3609\",\"type\":\"LinearAxis\"},{\"attributes\":{\"plot\":null,\"text\":\"Plays by Yard Line (normalized by total number of plays of given type)\"},\"id\":\"3598\",\"type\":\"Title\"},{\"attributes\":{},\"id\":\"3607\",\"type\":\"LinearScale\"},{\"attributes\":{\"items\":[{\"id\":\"3645\",\"type\":\"LegendItem\"},{\"id\":\"3646\",\"type\":\"LegendItem\"},{\"id\":\"3647\",\"type\":\"LegendItem\"},{\"id\":\"3648\",\"type\":\"LegendItem\"}],\"location\":[0,100],\"plot\":{\"id\":\"3599\",\"subtype\":\"Figure\",\"type\":\"Plot\"}},\"id\":\"3644\",\"type\":\"Legend\"},{\"attributes\":{},\"id\":\"3605\",\"type\":\"LinearScale\"},{\"attributes\":{\"callback\":null,\"data\":{\"x\":[0,1,2,3,4,5,6,7,8,9,10,11,12,13,14,15,16,17,18,19,20,21,22,23,24,25,26,27,28,29,30,31,32,33,34,35,36,37,38,39,40,41,42,43,44,45,46,47,48,49,50,51,52,53,54,55,56,57,58,59,60,61,62,63,64,65,66,67,68,69,70,71,72,73,74,75,76,77,78,79,80,81,82,83,84,85,86,87,88,89,90,91,92,93,94,95,96,97,98,99,100],\"y\":[0.0,0.005329457364341085,0.005058894593778315,0.005228782845061915,0.005776200543642404,0.00657530454042082,0.005744739756367663,0.005908335850196315,0.005499345615624685,0.006046763314205175,0.0069654183026276045,0.006625641800060405,0.006235528037853619,0.006443169233866908,0.007047216349541931,0.0076009262055773685,0.006883620255713279,0.006933957515352864,0.006871035940803382,0.007405869324473975,0.00831193999798651,0.006933957515352864,0.007311486962649753,0.007877781133595087,0.008066545857243531,0.008569918453639384,0.007802275244135709,0.007909241920869827,0.007726769354676331,0.008318232155441458,0.009696214638075103,0.00851328903654485,0.008588794926004228,0.009136212624584718,0.009375314607872748,0.010684083358501963,0.009708798952985,0.00933126950568811,0.009765428370079533,0.010249924494110541,0.011609030504379341,0.010067451927917043,0.010105204872646734,0.010570824524312896,0.011671952078928823,0.012250830564784054,0.010495318634853519,0.011237793214537401,0.011451726568005638,0.011929930534581697,0.013855330715795831,0.01202431289640592,0.01250251686298198,0.012301167824423639,0.01318206986811638,0.015472415181717507,0.012867461995368971,0.01308139534883721,0.013043642404107521,0.01454117587838518,0.016881858451625893,0.014471962146380751,0.014201399375817981,0.01508859357696567,0.014767693546763314,0.01681893687707641,0.01427061310782241,0.014761401389308365,0.015013087687506293,0.01631556428068056,0.01671826235779724,0.01416993858854324,0.015044548474781034,0.01573668579482533,0.015680056377730796,0.028188865398167725,0.014484546461290647,0.014862075908587536,0.014415332729286218,0.01301218161683278,0.04507701600724857,0.010753297090506393,0.010035991140642303,0.00902295379039565,0.008544749823819591,0.009652169535890466,0.006933957515352864,0.006550135910601027,0.005914628007651263,0.005373502466525722,0.006959126145172656,0.004222037652270211,0.003932598409342595,0.002806302224906876,0.0025042786670693646,0.0026489982885331722,0.0018436021342998086,0.0013842746400885937,0.0012080942313500453,0.0014094432699083862,0.0]},\"selected\":{\"id\":\"3793\",\"type\":\"Selection\"},\"selection_policy\":{\"id\":\"3792\",\"type\":\"UnionRenderers\"}},\"id\":\"3622\",\"type\":\"ColumnDataSource\"},{\"attributes\":{},\"id\":\"3789\",\"type\":\"BasicTickFormatter\"},{\"attributes\":{\"label\":{\"value\":\"Pass\"},\"renderers\":[{\"id\":\"3625\",\"type\":\"GlyphRenderer\"}]},\"id\":\"3645\",\"type\":\"LegendItem\"},{\"attributes\":{\"callback\":null},\"id\":\"3603\",\"type\":\"DataRange1d\"},{\"attributes\":{\"label\":{\"value\":\"Run\"},\"renderers\":[{\"id\":\"3630\",\"type\":\"GlyphRenderer\"}]},\"id\":\"3646\",\"type\":\"LegendItem\"},{\"attributes\":{\"line_alpha\":0.1,\"line_color\":\"#1f77b4\",\"line_width\":4,\"x\":{\"field\":\"x\"},\"y\":{\"field\":\"y\"}},\"id\":\"3624\",\"type\":\"Line\"},{\"attributes\":{\"callback\":null,\"end\":99,\"start\":1},\"id\":\"3601\",\"type\":\"Range1d\"},{\"attributes\":{\"label\":{\"value\":\"Punt\"},\"renderers\":[{\"id\":\"3635\",\"type\":\"GlyphRenderer\"}]},\"id\":\"3647\",\"type\":\"LegendItem\"}],\"root_ids\":[\"3599\"]},\"title\":\"Bokeh Application\",\"version\":\"1.0.1\"}};\n",
       "  var render_items = [{\"docid\":\"c03a98da-2dad-4b4c-a33a-0d20d58ef2f9\",\"roots\":{\"3599\":\"4217116c-87da-46b5-a099-568d34d4c5c9\"}}];\n",
       "  root.Bokeh.embed.embed_items_notebook(docs_json, render_items);\n",
       "\n",
       "  }\n",
       "  if (root.Bokeh !== undefined) {\n",
       "    embed_document(root);\n",
       "  } else {\n",
       "    var attempts = 0;\n",
       "    var timer = setInterval(function(root) {\n",
       "      if (root.Bokeh !== undefined) {\n",
       "        embed_document(root);\n",
       "        clearInterval(timer);\n",
       "      }\n",
       "      attempts++;\n",
       "      if (attempts > 100) {\n",
       "        console.log(\"Bokeh: ERROR: Unable to run BokehJS code because BokehJS library is missing\");\n",
       "        clearInterval(timer);\n",
       "      }\n",
       "    }, 10, root)\n",
       "  }\n",
       "})(window);"
      ],
      "application/vnd.bokehjs_exec.v0+json": ""
     },
     "metadata": {
      "application/vnd.bokehjs_exec.v0+json": {
       "id": "3599"
      }
     },
     "output_type": "display_data"
    }
   ],
   "source": [
    "def total_plays(i, play, cou):\n",
    "    total_plays = sum([p[play] for p in cou])\n",
    "    if total_plays == 0:\n",
    "        return 1\n",
    "    else:\n",
    "        return total_plays\n",
    "\n",
    "x = range(0,101)\n",
    "plays_on_yrd = [Counter(team_df.loc[team_df['yrdline100'] == yrd]['PlayType']) for yrd in x]\n",
    "y_pass = [play['Pass']/total_plays(i, 'Pass', plays_on_yrd) for i, play in enumerate(plays_on_yrd)]\n",
    "y_runs = [play['Run']/total_plays(i, 'Run', plays_on_yrd) for i, play in enumerate(plays_on_yrd)]\n",
    "y_punt = [play['Punt']/total_plays(i, 'Punt', plays_on_yrd) for i, play in enumerate(plays_on_yrd)]\n",
    "y_fg = [play['Field Goal']/total_plays(i, 'Field Goal', plays_on_yrd) for i, play in enumerate(plays_on_yrd)]\n",
    "p = figure(title='Plays by Yard Line (normalized by total number of plays of given type)', toolbar_location=None, tools='hover',\n",
    "           plot_height=350, plot_width=750, x_range=(1,99))\n",
    "l1 = p.line(x, y_pass, color='#2b83ba', line_width=4)\n",
    "l2 = p.line(x, y_runs, color='#abdda4', line_width=4)\n",
    "l3 = p.line(x, y_punt, color='#fdae61', line_width=4)\n",
    "l4 = p.line(x, y_fg, color='#d7191c', line_width=4)\n",
    "p.xaxis.axis_label = 'Yard Line (100 is team\\'s own goal line)'\n",
    "p.yaxis.axis_label = 'Fraction of Plays'\n",
    "p.xaxis.ticker = FixedTicker(ticks=list(range(0, 101, 5)))\n",
    "p.xgrid.ticker = p.xaxis[0].ticker\n",
    "\n",
    "legend = Legend(items=[\n",
    "    ('Pass'   , [l1]),\n",
    "    ('Run' , [l2]),\n",
    "    ('Punt' , [l3]),\n",
    "    ('Field Goal', [l4]),\n",
    "], location=(0, +100))\n",
    "\n",
    "p.add_layout(legend, 'right')\n",
    "show(p)"
   ]
  },
  {
   "cell_type": "markdown",
   "metadata": {},
   "source": [
    "### First down only"
   ]
  },
  {
   "cell_type": "code",
   "execution_count": 37,
   "metadata": {},
   "outputs": [
    {
     "data": {
      "text/html": [
       "\n",
       "\n",
       "\n",
       "\n",
       "\n",
       "\n",
       "  <div class=\"bk-root\" id=\"afc80a49-44bc-4830-b575-23e58d29b737\"></div>\n"
      ]
     },
     "metadata": {},
     "output_type": "display_data"
    },
    {
     "data": {
      "application/javascript": [
       "(function(root) {\n",
       "  function embed_document(root) {\n",
       "    \n",
       "  var docs_json = {\"d579b120-a71e-4fc7-9a24-bd985f6044fe\":{\"roots\":{\"references\":[{\"attributes\":{\"below\":[{\"id\":\"3883\",\"type\":\"LinearAxis\"}],\"left\":[{\"id\":\"3888\",\"type\":\"LinearAxis\"}],\"plot_height\":350,\"plot_width\":750,\"renderers\":[{\"id\":\"3883\",\"type\":\"LinearAxis\"},{\"id\":\"3887\",\"type\":\"Grid\"},{\"id\":\"3888\",\"type\":\"LinearAxis\"},{\"id\":\"3892\",\"type\":\"Grid\"},{\"id\":\"3899\",\"type\":\"GlyphRenderer\"},{\"id\":\"3904\",\"type\":\"GlyphRenderer\"},{\"id\":\"3909\",\"type\":\"GlyphRenderer\"},{\"id\":\"3914\",\"type\":\"GlyphRenderer\"},{\"id\":\"3918\",\"type\":\"Legend\"}],\"right\":[{\"id\":\"3918\",\"type\":\"Legend\"}],\"title\":{\"id\":\"3872\",\"type\":\"Title\"},\"toolbar\":{\"id\":\"3894\",\"type\":\"Toolbar\"},\"toolbar_location\":null,\"x_range\":{\"id\":\"3875\",\"type\":\"Range1d\"},\"x_scale\":{\"id\":\"3879\",\"type\":\"LinearScale\"},\"y_range\":{\"id\":\"3877\",\"type\":\"Range1d\"},\"y_scale\":{\"id\":\"3881\",\"type\":\"LinearScale\"}},\"id\":\"3873\",\"subtype\":\"Figure\",\"type\":\"Plot\"},{\"attributes\":{\"line_alpha\":0.1,\"line_color\":\"#1f77b4\",\"line_width\":4,\"x\":{\"field\":\"x\"},\"y\":{\"field\":\"y\"}},\"id\":\"3913\",\"type\":\"Line\"},{\"attributes\":{\"data_source\":{\"id\":\"3911\",\"type\":\"ColumnDataSource\"},\"glyph\":{\"id\":\"3912\",\"type\":\"Line\"},\"hover_glyph\":null,\"muted_glyph\":null,\"nonselection_glyph\":{\"id\":\"3913\",\"type\":\"Line\"},\"selection_glyph\":null,\"view\":{\"id\":\"3915\",\"type\":\"CDSView\"}},\"id\":\"3914\",\"type\":\"GlyphRenderer\"},{\"attributes\":{\"line_color\":\"#2b83ba\",\"line_width\":4,\"x\":{\"field\":\"x\"},\"y\":{\"field\":\"y\"}},\"id\":\"3897\",\"type\":\"Line\"},{\"attributes\":{\"source\":{\"id\":\"3911\",\"type\":\"ColumnDataSource\"}},\"id\":\"3915\",\"type\":\"CDSView\"},{\"attributes\":{\"line_alpha\":0.1,\"line_color\":\"#1f77b4\",\"line_width\":4,\"x\":{\"field\":\"x\"},\"y\":{\"field\":\"y\"}},\"id\":\"3898\",\"type\":\"Line\"},{\"attributes\":{\"data_source\":{\"id\":\"3896\",\"type\":\"ColumnDataSource\"},\"glyph\":{\"id\":\"3897\",\"type\":\"Line\"},\"hover_glyph\":null,\"muted_glyph\":null,\"nonselection_glyph\":{\"id\":\"3898\",\"type\":\"Line\"},\"selection_glyph\":null,\"view\":{\"id\":\"3900\",\"type\":\"CDSView\"}},\"id\":\"3899\",\"type\":\"GlyphRenderer\"},{\"attributes\":{},\"id\":\"4075\",\"type\":\"BasicTickFormatter\"},{\"attributes\":{\"source\":{\"id\":\"3896\",\"type\":\"ColumnDataSource\"}},\"id\":\"3900\",\"type\":\"CDSView\"},{\"attributes\":{\"label\":{\"value\":\"Pass\"},\"renderers\":[{\"id\":\"3899\",\"type\":\"GlyphRenderer\"}]},\"id\":\"3919\",\"type\":\"LegendItem\"},{\"attributes\":{\"line_color\":\"#abdda4\",\"line_width\":4,\"x\":{\"field\":\"x\"},\"y\":{\"field\":\"y\"}},\"id\":\"3902\",\"type\":\"Line\"},{\"attributes\":{\"callback\":null,\"end\":99,\"start\":1},\"id\":\"3875\",\"type\":\"Range1d\"},{\"attributes\":{\"label\":{\"value\":\"Run\"},\"renderers\":[{\"id\":\"3904\",\"type\":\"GlyphRenderer\"}]},\"id\":\"3920\",\"type\":\"LegendItem\"},{\"attributes\":{\"callback\":null,\"data\":{\"x\":[0,1,2,3,4,5,6,7,8,9,10,11,12,13,14,15,16,17,18,19,20,21,22,23,24,25,26,27,28,29,30,31,32,33,34,35,36,37,38,39,40,41,42,43,44,45,46,47,48,49,50,51,52,53,54,55,56,57,58,59,60,61,62,63,64,65,66,67,68,69,70,71,72,73,74,75,76,77,78,79,80,81,82,83,84,85,86,87,88,89,90,91,92,93,94,95,96,97,98,99,100],\"y\":[0.0,0.0,0.0,0.0,0.0,0.0,0.0,0.0,0.0,0.0,0.0,0.0,0.0,0.0,0.0,0.0,0.0,0.0,0.0,0.0,0.0,0.0,0.0,0.0,0.0,0.0,0.0,0.0,0.0,0.0,0.0,0.0,0.0,0.0,0.0,0.0,0.0,0.0,0.0,0.0,0.0,0.0,0.0,0.0,0.0,0.0,0.0,0.0,0.0,0.0,0.0,0.0,0.0,0.0,0.0,0.0,0.0,0.0,0.0,0.0,0.0,0.0,0.0,0.0,0.0,0.0,0.0,0.0,0.0,0.0,0.0,0.0,0.0,0.0,0.0,0.0,0.0,0.0,0.0,0.0,0.0,0.0,0.0,0.0,0.0,0.0,0.0,0.0,0.0,1.0,0.0,0.0,0.0,0.0,0.0,0.0,0.0,0.0,0.0,0.0,0.0]},\"selected\":{\"id\":\"4083\",\"type\":\"Selection\"},\"selection_policy\":{\"id\":\"4082\",\"type\":\"UnionRenderers\"}},\"id\":\"3906\",\"type\":\"ColumnDataSource\"},{\"attributes\":{},\"id\":\"3879\",\"type\":\"LinearScale\"},{\"attributes\":{\"label\":{\"value\":\"Punt\"},\"renderers\":[{\"id\":\"3909\",\"type\":\"GlyphRenderer\"}]},\"id\":\"3921\",\"type\":\"LegendItem\"},{\"attributes\":{\"line_alpha\":0.1,\"line_color\":\"#1f77b4\",\"line_width\":4,\"x\":{\"field\":\"x\"},\"y\":{\"field\":\"y\"}},\"id\":\"3903\",\"type\":\"Line\"},{\"attributes\":{\"label\":{\"value\":\"Field Goal\"},\"renderers\":[{\"id\":\"3914\",\"type\":\"GlyphRenderer\"}]},\"id\":\"3922\",\"type\":\"LegendItem\"},{\"attributes\":{\"data_source\":{\"id\":\"3901\",\"type\":\"ColumnDataSource\"},\"glyph\":{\"id\":\"3902\",\"type\":\"Line\"},\"hover_glyph\":null,\"muted_glyph\":null,\"nonselection_glyph\":{\"id\":\"3903\",\"type\":\"Line\"},\"selection_glyph\":null,\"view\":{\"id\":\"3905\",\"type\":\"CDSView\"}},\"id\":\"3904\",\"type\":\"GlyphRenderer\"},{\"attributes\":{\"callback\":null,\"end\":0.1,\"start\":-0.005},\"id\":\"3877\",\"type\":\"Range1d\"},{\"attributes\":{\"callback\":null,\"data\":{\"x\":[0,1,2,3,4,5,6,7,8,9,10,11,12,13,14,15,16,17,18,19,20,21,22,23,24,25,26,27,28,29,30,31,32,33,34,35,36,37,38,39,40,41,42,43,44,45,46,47,48,49,50,51,52,53,54,55,56,57,58,59,60,61,62,63,64,65,66,67,68,69,70,71,72,73,74,75,76,77,78,79,80,81,82,83,84,85,86,87,88,89,90,91,92,93,94,95,96,97,98,99,100],\"y\":[0.0,0.004921707765173861,0.003792411805356571,0.004078949586205734,0.004163225404102547,0.004635169984324698,0.004416052857792985,0.004500328675689797,0.004314921876316809,0.005140824891705574,0.0048542871108564105,0.005461072999713462,0.0052419558731817495,0.005292521363919837,0.005933017579935613,0.006758920595324377,0.005882452089197526,0.006253265687943502,0.0061015692157292386,0.007079168703332266,0.007315140993443341,0.006742065431745015,0.007011748049014816,0.007449982302078242,0.0077702304100861295,0.007736520082927405,0.007315140993443341,0.007955637209459118,0.0075342581199750545,0.008006202700197206,0.00869726440695107,0.007921926882300393,0.008157899172411468,0.00889952636990342,0.009236629641490671,0.010264794619831786,0.008781540224847883,0.008882671206324057,0.009455746768022385,0.010433346255625411,0.011056987308061825,0.009708574221712821,0.00989398102108581,0.010365925601307962,0.011579497379022063,0.011815469669133138,0.010551332400680949,0.010989566653744374,0.010989566653744374,0.011950310977768039,0.014040351261608994,0.011579497379022063,0.012523386539466365,0.012826779483894891,0.01301218628326788,0.015119081730688197,0.01201773163208549,0.012776213993156803,0.013720103153601105,0.015237067875743734,0.016821453252203813,0.014444875187513695,0.014461730351093058,0.015557315983751622,0.0163326535084023,0.0171417013602117,0.014748268131942221,0.01488310944057712,0.016062970891132497,0.019029479681100307,0.016905729070100625,0.011646918033339514,0.012304269412934653,0.011562642215442702,0.01307960693758533,0.03819380067083551,0.011798614505553777,0.011984021304926764,0.011984021304926764,0.011478366397545889,0.08307910128267795,0.010332215274149235,0.009118643496435134,0.008343305971784456,0.008039913027355931,0.009792850039609634,0.0069611825582767285,0.006219555360784776,0.005090259400967486,0.005107114564546849,0.008343305971784456,0.00444976318495171,0.00424750122199936,0.0027979571541741815,0.0023934332282694805,0.0025619848640631056,0.0018035025029917915,0.0013315579227696406,0.0013989785770870907,0.0020226196295235043,0.0]},\"selected\":{\"id\":\"4079\",\"type\":\"Selection\"},\"selection_policy\":{\"id\":\"4078\",\"type\":\"UnionRenderers\"}},\"id\":\"3896\",\"type\":\"ColumnDataSource\"},{\"attributes\":{},\"id\":\"4076\",\"type\":\"BasicTickFormatter\"},{\"attributes\":{\"plot\":null,\"text\":\"Plays by Yard Line on First Down (normalized by total number of plays of given type)\"},\"id\":\"3872\",\"type\":\"Title\"},{\"attributes\":{\"source\":{\"id\":\"3901\",\"type\":\"ColumnDataSource\"}},\"id\":\"3905\",\"type\":\"CDSView\"},{\"attributes\":{},\"id\":\"3881\",\"type\":\"LinearScale\"},{\"attributes\":{},\"id\":\"4078\",\"type\":\"UnionRenderers\"},{\"attributes\":{\"axis_label\":\"Yard Line (100 is team's own goal line)\",\"formatter\":{\"id\":\"4075\",\"type\":\"BasicTickFormatter\"},\"plot\":{\"id\":\"3873\",\"subtype\":\"Figure\",\"type\":\"Plot\"},\"ticker\":{\"id\":\"3916\",\"type\":\"FixedTicker\"}},\"id\":\"3883\",\"type\":\"LinearAxis\"},{\"attributes\":{\"line_color\":\"#fdae61\",\"line_width\":4,\"x\":{\"field\":\"x\"},\"y\":{\"field\":\"y\"}},\"id\":\"3907\",\"type\":\"Line\"},{\"attributes\":{},\"id\":\"4079\",\"type\":\"Selection\"},{\"attributes\":{\"callback\":null,\"data\":{\"x\":[0,1,2,3,4,5,6,7,8,9,10,11,12,13,14,15,16,17,18,19,20,21,22,23,24,25,26,27,28,29,30,31,32,33,34,35,36,37,38,39,40,41,42,43,44,45,46,47,48,49,50,51,52,53,54,55,56,57,58,59,60,61,62,63,64,65,66,67,68,69,70,71,72,73,74,75,76,77,78,79,80,81,82,83,84,85,86,87,88,89,90,91,92,93,94,95,96,97,98,99,100],\"y\":[0.0,0.011627906976744186,0.007751937984496124,0.011627906976744186,0.01937984496124031,0.023255813953488372,0.011627906976744186,0.015503875968992248,0.007751937984496124,0.007751937984496124,0.011627906976744186,0.05813953488372093,0.027131782945736434,0.023255813953488372,0.031007751937984496,0.011627906976744186,0.023255813953488372,0.01937984496124031,0.01937984496124031,0.027131782945736434,0.01937984496124031,0.011627906976744186,0.027131782945736434,0.007751937984496124,0.027131782945736434,0.050387596899224806,0.023255813953488372,0.023255813953488372,0.03488372093023256,0.03875968992248062,0.050387596899224806,0.023255813953488372,0.03488372093023256,0.023255813953488372,0.01937984496124031,0.031007751937984496,0.023255813953488372,0.03488372093023256,0.011627906976744186,0.031007751937984496,0.01937984496124031,0.003875968992248062,0.015503875968992248,0.01937984496124031,0.0,0.01937984496124031,0.003875968992248062,0.0,0.0,0.003875968992248062,0.0,0.0,0.0,0.0,0.0,0.0,0.0,0.0,0.0,0.0,0.0,0.0,0.0,0.0,0.0,0.0,0.0,0.0,0.0,0.0,0.0,0.0,0.0,0.0,0.0,0.0,0.0,0.0,0.0,0.0,0.0,0.0,0.0,0.0,0.0,0.0,0.0,0.0,0.0,0.0,0.0,0.0,0.0,0.0,0.0,0.0,0.0,0.0,0.0,0.0,0.0]},\"selected\":{\"id\":\"4085\",\"type\":\"Selection\"},\"selection_policy\":{\"id\":\"4084\",\"type\":\"UnionRenderers\"}},\"id\":\"3911\",\"type\":\"ColumnDataSource\"},{\"attributes\":{\"items\":[{\"id\":\"3919\",\"type\":\"LegendItem\"},{\"id\":\"3920\",\"type\":\"LegendItem\"},{\"id\":\"3921\",\"type\":\"LegendItem\"},{\"id\":\"3922\",\"type\":\"LegendItem\"}],\"location\":[0,100],\"plot\":{\"id\":\"3873\",\"subtype\":\"Figure\",\"type\":\"Plot\"}},\"id\":\"3918\",\"type\":\"Legend\"},{\"attributes\":{\"line_alpha\":0.1,\"line_color\":\"#1f77b4\",\"line_width\":4,\"x\":{\"field\":\"x\"},\"y\":{\"field\":\"y\"}},\"id\":\"3908\",\"type\":\"Line\"},{\"attributes\":{},\"id\":\"4080\",\"type\":\"UnionRenderers\"},{\"attributes\":{\"plot\":{\"id\":\"3873\",\"subtype\":\"Figure\",\"type\":\"Plot\"},\"ticker\":{\"id\":\"3916\",\"type\":\"FixedTicker\"}},\"id\":\"3887\",\"type\":\"Grid\"},{\"attributes\":{},\"id\":\"4081\",\"type\":\"Selection\"},{\"attributes\":{\"data_source\":{\"id\":\"3906\",\"type\":\"ColumnDataSource\"},\"glyph\":{\"id\":\"3907\",\"type\":\"Line\"},\"hover_glyph\":null,\"muted_glyph\":null,\"nonselection_glyph\":{\"id\":\"3908\",\"type\":\"Line\"},\"selection_glyph\":null,\"view\":{\"id\":\"3910\",\"type\":\"CDSView\"}},\"id\":\"3909\",\"type\":\"GlyphRenderer\"},{\"attributes\":{\"axis_label\":\"Fraction of Plays\",\"formatter\":{\"id\":\"4076\",\"type\":\"BasicTickFormatter\"},\"plot\":{\"id\":\"3873\",\"subtype\":\"Figure\",\"type\":\"Plot\"},\"ticker\":{\"id\":\"3889\",\"type\":\"BasicTicker\"}},\"id\":\"3888\",\"type\":\"LinearAxis\"},{\"attributes\":{},\"id\":\"4082\",\"type\":\"UnionRenderers\"},{\"attributes\":{\"source\":{\"id\":\"3906\",\"type\":\"ColumnDataSource\"}},\"id\":\"3910\",\"type\":\"CDSView\"},{\"attributes\":{},\"id\":\"3889\",\"type\":\"BasicTicker\"},{\"attributes\":{\"callback\":null,\"data\":{\"x\":[0,1,2,3,4,5,6,7,8,9,10,11,12,13,14,15,16,17,18,19,20,21,22,23,24,25,26,27,28,29,30,31,32,33,34,35,36,37,38,39,40,41,42,43,44,45,46,47,48,49,50,51,52,53,54,55,56,57,58,59,60,61,62,63,64,65,66,67,68,69,70,71,72,73,74,75,76,77,78,79,80,81,82,83,84,85,86,87,88,89,90,91,92,93,94,95,96,97,98,99,100],\"y\":[0.0,0.01438618438114998,0.006224351248684191,0.0062090954858197685,0.006224351248684191,0.0063006300630063005,0.006758302948938962,0.006087049382904392,0.0066820241346168515,0.007139697020549512,0.0061633281972265025,0.0074448122778379535,0.006941372103312026,0.0070634182062274025,0.007688904483668706,0.008146577369601367,0.006529466505972631,0.006788814474667806,0.0073990449892446875,0.007093929731956246,0.00825336770965232,0.0074905795664312195,0.0069718836290408705,0.007978763978092725,0.007688904483668706,0.008802575172771514,0.007460068040702376,0.008207600421059055,0.00779569482371966,0.00890936551282247,0.009168713481517644,0.007765183297990816,0.00892462127568689,0.008405925338296542,0.009412805687348395,0.00929075958443302,0.009122946192924378,0.008360158049703276,0.008756807884178248,0.009031411615737846,0.010846847396604067,0.00890936551282247,0.009656897893179148,0.009946757387603167,0.01049596485072236,0.01124349723107904,0.010953637736655022,0.010816335870875222,0.010877358922332912,0.011274008756807884,0.011502845199774214,0.010770568582281956,0.010923126210926178,0.011533356725503058,0.011884239271384765,0.013409815557826969,0.011563868251231903,0.012158843002944363,0.012052052662893407,0.012997909960487573,0.01580497032754123,0.01296739843475873,0.013104700300538528,0.014065813360997116,0.01513371676150666,0.01595752795618545,0.013409815557826969,0.013775953866573099,0.014630276586980732,0.016293154739202734,0.0153015301530153,0.010801080108010801,0.010923126210926178,0.010526476376451205,0.011304520282536729,0.032647332529863154,0.010587499427908893,0.010877358922332912,0.010907870448061756,0.010846847396604067,0.07168682969991914,0.009778943996094525,0.009092434667195533,0.007582114143617751,0.008604250255534029,0.00974843247036568,0.007902485163770614,0.006819326000396649,0.006331141588735145,0.0065447222688370535,0.00884834246136478,0.0065904895574303195,0.0058734687028024835,0.004744542250835253,0.00442417123068239,0.003569848510274756,0.0035088254588170682,0.0031579429129353614,0.0032494774901218933,0.0031884544386642055,0.0]},\"selected\":{\"id\":\"4081\",\"type\":\"Selection\"},\"selection_policy\":{\"id\":\"4080\",\"type\":\"UnionRenderers\"}},\"id\":\"3901\",\"type\":\"ColumnDataSource\"},{\"attributes\":{},\"id\":\"4085\",\"type\":\"Selection\"},{\"attributes\":{},\"id\":\"4083\",\"type\":\"Selection\"},{\"attributes\":{\"dimension\":1,\"plot\":{\"id\":\"3873\",\"subtype\":\"Figure\",\"type\":\"Plot\"},\"ticker\":{\"id\":\"3889\",\"type\":\"BasicTicker\"}},\"id\":\"3892\",\"type\":\"Grid\"},{\"attributes\":{\"line_color\":\"#d7191c\",\"line_width\":4,\"x\":{\"field\":\"x\"},\"y\":{\"field\":\"y\"}},\"id\":\"3912\",\"type\":\"Line\"},{\"attributes\":{},\"id\":\"4084\",\"type\":\"UnionRenderers\"},{\"attributes\":{\"ticks\":[0,5,10,15,20,25,30,35,40,45,50,55,60,65,70,75,80,85,90,95,100]},\"id\":\"3916\",\"type\":\"FixedTicker\"},{\"attributes\":{\"active_drag\":\"auto\",\"active_inspect\":\"auto\",\"active_multi\":null,\"active_scroll\":\"auto\",\"active_tap\":\"auto\",\"tools\":[{\"id\":\"3893\",\"type\":\"HoverTool\"}]},\"id\":\"3894\",\"type\":\"Toolbar\"},{\"attributes\":{\"callback\":null,\"renderers\":\"auto\"},\"id\":\"3893\",\"type\":\"HoverTool\"}],\"root_ids\":[\"3873\"]},\"title\":\"Bokeh Application\",\"version\":\"1.0.1\"}};\n",
       "  var render_items = [{\"docid\":\"d579b120-a71e-4fc7-9a24-bd985f6044fe\",\"roots\":{\"3873\":\"afc80a49-44bc-4830-b575-23e58d29b737\"}}];\n",
       "  root.Bokeh.embed.embed_items_notebook(docs_json, render_items);\n",
       "\n",
       "  }\n",
       "  if (root.Bokeh !== undefined) {\n",
       "    embed_document(root);\n",
       "  } else {\n",
       "    var attempts = 0;\n",
       "    var timer = setInterval(function(root) {\n",
       "      if (root.Bokeh !== undefined) {\n",
       "        embed_document(root);\n",
       "        clearInterval(timer);\n",
       "      }\n",
       "      attempts++;\n",
       "      if (attempts > 100) {\n",
       "        console.log(\"Bokeh: ERROR: Unable to run BokehJS code because BokehJS library is missing\");\n",
       "        clearInterval(timer);\n",
       "      }\n",
       "    }, 10, root)\n",
       "  }\n",
       "})(window);"
      ],
      "application/vnd.bokehjs_exec.v0+json": ""
     },
     "metadata": {
      "application/vnd.bokehjs_exec.v0+json": {
       "id": "3873"
      }
     },
     "output_type": "display_data"
    }
   ],
   "source": [
    "def total_plays(i, play, cou):\n",
    "    total_plays = sum([p[play] for p in cou])\n",
    "    if total_plays == 0:\n",
    "        return 1\n",
    "    else:\n",
    "        return total_plays\n",
    "\n",
    "x = range(0,101)\n",
    "team_df_d1 = team_df.loc[team_df['down'] == 1]\n",
    "plays_on_yrd = [Counter(team_df_d1.loc[team_df_d1['yrdline100'] == yrd]['PlayType']) for yrd in x]\n",
    "y_pass = [play['Pass']/total_plays(i, 'Pass', plays_on_yrd) for i, play in enumerate(plays_on_yrd)]\n",
    "y_runs = [play['Run']/total_plays(i, 'Run', plays_on_yrd) for i, play in enumerate(plays_on_yrd)]\n",
    "y_punt = [play['Punt']/total_plays(i, 'Punt', plays_on_yrd) for i, play in enumerate(plays_on_yrd)]\n",
    "y_fg = [play['Field Goal']/total_plays(i, 'Field Goal', plays_on_yrd) for i, play in enumerate(plays_on_yrd)]\n",
    "p = figure(title='Plays by Yard Line on First Down (normalized by total number of plays of given type)', toolbar_location=None, tools='hover',\n",
    "           plot_height=350, plot_width=750, x_range=(1,99), y_range=(-0.005,0.1))\n",
    "l1 = p.line(x, y_pass, color='#2b83ba', line_width=4)\n",
    "l2 = p.line(x, y_runs, color='#abdda4', line_width=4)\n",
    "l3 = p.line(x, y_punt, color='#fdae61', line_width=4)\n",
    "l4 = p.line(x, y_fg, color='#d7191c', line_width=4)\n",
    "p.xaxis.axis_label = 'Yard Line (100 is team\\'s own goal line)'\n",
    "p.yaxis.axis_label = 'Fraction of Plays'\n",
    "p.xaxis.ticker = FixedTicker(ticks=list(range(0, 101, 5)))\n",
    "p.xgrid.ticker = p.xaxis[0].ticker\n",
    "\n",
    "legend = Legend(items=[\n",
    "    ('Pass'   , [l1]),\n",
    "    ('Run' , [l2]),\n",
    "    ('Punt' , [l3]),\n",
    "    ('Field Goal', [l4]),\n",
    "], location=(0, +100))\n",
    "\n",
    "p.add_layout(legend, 'right')\n",
    "show(p)"
   ]
  },
  {
   "cell_type": "markdown",
   "metadata": {},
   "source": [
    "### Second down only"
   ]
  },
  {
   "cell_type": "code",
   "execution_count": 38,
   "metadata": {},
   "outputs": [
    {
     "data": {
      "text/html": [
       "\n",
       "\n",
       "\n",
       "\n",
       "\n",
       "\n",
       "  <div class=\"bk-root\" id=\"2c6611bc-041e-4ddc-ac61-5f5e9d57e5b9\"></div>\n"
      ]
     },
     "metadata": {},
     "output_type": "display_data"
    },
    {
     "data": {
      "application/javascript": [
       "(function(root) {\n",
       "  function embed_document(root) {\n",
       "    \n",
       "  var docs_json = {\"66f8e653-0503-4540-9d8c-c6b29a2aebd0\":{\"roots\":{\"references\":[{\"attributes\":{\"below\":[{\"id\":\"4169\",\"type\":\"LinearAxis\"}],\"left\":[{\"id\":\"4174\",\"type\":\"LinearAxis\"}],\"plot_height\":350,\"plot_width\":750,\"renderers\":[{\"id\":\"4169\",\"type\":\"LinearAxis\"},{\"id\":\"4173\",\"type\":\"Grid\"},{\"id\":\"4174\",\"type\":\"LinearAxis\"},{\"id\":\"4178\",\"type\":\"Grid\"},{\"id\":\"4185\",\"type\":\"GlyphRenderer\"},{\"id\":\"4190\",\"type\":\"GlyphRenderer\"},{\"id\":\"4195\",\"type\":\"GlyphRenderer\"},{\"id\":\"4200\",\"type\":\"GlyphRenderer\"},{\"id\":\"4204\",\"type\":\"Legend\"}],\"right\":[{\"id\":\"4204\",\"type\":\"Legend\"}],\"title\":{\"id\":\"4158\",\"type\":\"Title\"},\"toolbar\":{\"id\":\"4180\",\"type\":\"Toolbar\"},\"toolbar_location\":null,\"x_range\":{\"id\":\"4161\",\"type\":\"Range1d\"},\"x_scale\":{\"id\":\"4165\",\"type\":\"LinearScale\"},\"y_range\":{\"id\":\"4163\",\"type\":\"DataRange1d\"},\"y_scale\":{\"id\":\"4167\",\"type\":\"LinearScale\"}},\"id\":\"4159\",\"subtype\":\"Figure\",\"type\":\"Plot\"},{\"attributes\":{\"label\":{\"value\":\"Pass\"},\"renderers\":[{\"id\":\"4185\",\"type\":\"GlyphRenderer\"}]},\"id\":\"4205\",\"type\":\"LegendItem\"},{\"attributes\":{\"callback\":null,\"data\":{\"x\":[0,1,2,3,4,5,6,7,8,9,10,11,12,13,14,15,16,17,18,19,20,21,22,23,24,25,26,27,28,29,30,31,32,33,34,35,36,37,38,39,40,41,42,43,44,45,46,47,48,49,50,51,52,53,54,55,56,57,58,59,60,61,62,63,64,65,66,67,68,69,70,71,72,73,74,75,76,77,78,79,80,81,82,83,84,85,86,87,88,89,90,91,92,93,94,95,96,97,98,99,100],\"y\":[0.0,0.017655125128556735,0.00795827415642294,0.0069298202654390515,0.0062196973407120815,0.00781135217199667,0.006415593319947108,0.006684950291395269,0.0062686713355208385,0.006635976296586512,0.007297125226504726,0.006415593319947108,0.007027768255056565,0.006611489299182135,0.00695430726284343,0.007248151231695969,0.0068808462706302954,0.006733924286204025,0.006611489299182135,0.007860326166805426,0.00808070914344483,0.007395073216122239,0.007884813164209805,0.008129683138253588,0.008692884078554288,0.00810519614084921,0.007933787159018562,0.00795827415642294,0.007321612223909104,0.008545962094128019,0.009451980998090014,0.008496988099319262,0.008864293060384935,0.008986728047406826,0.00923159802145061,0.010137616925412606,0.009011215044811205,0.009598902982516283,0.009770311964346932,0.010260051912434497,0.01065184387090455,0.01038248689945639,0.010015181938390714,0.01094568783975709,0.011264018806014006,0.011729271756697194,0.010700817865713306,0.009892746951368823,0.010725304863117685,0.01106812282677898,0.013002595621724865,0.011582349772270925,0.011459914785249032,0.013100543611342377,0.013174004603555512,0.014520789460796317,0.011900680738527842,0.01334541358538616,0.013198491600959891,0.01405553651011313,0.015573730349184583,0.01349233556981243,0.014153484499730643,0.014618737450413831,0.014104510504921886,0.016112444292080905,0.015892061315441502,0.01447181546598756,0.01346784857240805,0.015059503403692638,0.015794113325823988,0.018928448993584406,0.01687154121161663,0.01616141828688966,0.017557177138939225,0.025246094323914,0.01789999510260052,0.0147656594348401,0.015132964395905774,0.014226945491943779,0.026592879181154806,0.009917233948773202,0.009060189039619962,0.00864391008374553,0.008154170135657966,0.00852147509672364,0.007199177236887213,0.006758411283608404,0.0055095744159851115,0.005460600421176355,0.0062196973407120815,0.004921886478280033,0.004456633527596846,0.0026935697144816104,0.0032322836573779323,0.0033302316469954454,0.002154855771585288,0.001958959792350262,0.0015671678338802096,0.001322297859836427,0.0]},\"selected\":{\"id\":\"4379\",\"type\":\"Selection\"},\"selection_policy\":{\"id\":\"4378\",\"type\":\"UnionRenderers\"}},\"id\":\"4187\",\"type\":\"ColumnDataSource\"},{\"attributes\":{\"active_drag\":\"auto\",\"active_inspect\":\"auto\",\"active_multi\":null,\"active_scroll\":\"auto\",\"active_tap\":\"auto\",\"tools\":[{\"id\":\"4179\",\"type\":\"HoverTool\"}]},\"id\":\"4180\",\"type\":\"Toolbar\"},{\"attributes\":{\"line_color\":\"#abdda4\",\"line_width\":4,\"x\":{\"field\":\"x\"},\"y\":{\"field\":\"y\"}},\"id\":\"4188\",\"type\":\"Line\"},{\"attributes\":{\"callback\":null,\"end\":99,\"start\":1},\"id\":\"4161\",\"type\":\"Range1d\"},{\"attributes\":{\"label\":{\"value\":\"Run\"},\"renderers\":[{\"id\":\"4190\",\"type\":\"GlyphRenderer\"}]},\"id\":\"4206\",\"type\":\"LegendItem\"},{\"attributes\":{\"callback\":null,\"data\":{\"x\":[0,1,2,3,4,5,6,7,8,9,10,11,12,13,14,15,16,17,18,19,20,21,22,23,24,25,26,27,28,29,30,31,32,33,34,35,36,37,38,39,40,41,42,43,44,45,46,47,48,49,50,51,52,53,54,55,56,57,58,59,60,61,62,63,64,65,66,67,68,69,70,71,72,73,74,75,76,77,78,79,80,81,82,83,84,85,86,87,88,89,90,91,92,93,94,95,96,97,98,99,100],\"y\":[0.0,0.004712339137017411,0.00463663890991673,0.005090840272520818,0.00641559424678274,0.0070401211203633615,0.0062831188493565485,0.00639666919000757,0.005999242997728993,0.006491294473883422,0.007910673732021195,0.006756245268735806,0.006453444360333081,0.006737320211960636,0.007418622255866768,0.008005299015897048,0.0075889477668433,0.0070779712339137015,0.007323996971990916,0.007532172596517789,0.008402725208175624,0.006434519303557911,0.007267221801665405,0.008440575321725966,0.008535200605601817,0.009197577592732778,0.008345950037850113,0.00821347464042392,0.007683573050719152,0.008554125662376988,0.010314155942467828,0.00821347464042392,0.00866767600302801,0.008875851627554882,0.0093111279333838,0.010503406510219531,0.009973504920514761,0.009084027252081756,0.009670704012112036,0.010049205147615443,0.01163890991672975,0.009992429977289932,0.009708554125662378,0.010276305828917486,0.011998485995457987,0.013171839515518547,0.010503406510219531,0.011336109008327025,0.01167676003028009,0.012320211960635883,0.013758516275548827,0.012547312641937926,0.012869038607115822,0.011998485995457987,0.013096139288417866,0.01570779712339137,0.014061317183951552,0.012906888720666162,0.013133989401968206,0.014401968205904617,0.016691900075700226,0.014420893262679788,0.014307342922028767,0.015291445874337624,0.014288417865253596,0.017108251324753975,0.014723694171082513,0.01455336866010598,0.014780469341408024,0.014647993943981832,0.01625662376987131,0.01566994700984103,0.0151778955336866,0.01703255109765329,0.016540499621498863,0.02333459500378501,0.016464799394398183,0.017146101438304313,0.01693792581377744,0.014761544284632853,0.02617335352006056,0.01097653292959879,0.010673732021196064,0.00984102952308857,0.009008327024981075,0.009708554125662378,0.007002271006813021,0.006548069644208933,0.00641559424678274,0.005393641180923543,0.006661619984859955,0.004277062831188494,0.004144587433762301,0.003028009084027252,0.002554882664647994,0.002838758516275549,0.0021196063588190765,0.0014572293716881152,0.0011922785768357306,0.0011355034065102195,0.0]},\"selected\":{\"id\":\"4377\",\"type\":\"Selection\"},\"selection_policy\":{\"id\":\"4376\",\"type\":\"UnionRenderers\"}},\"id\":\"4182\",\"type\":\"ColumnDataSource\"},{\"attributes\":{\"callback\":null,\"data\":{\"x\":[0,1,2,3,4,5,6,7,8,9,10,11,12,13,14,15,16,17,18,19,20,21,22,23,24,25,26,27,28,29,30,31,32,33,34,35,36,37,38,39,40,41,42,43,44,45,46,47,48,49,50,51,52,53,54,55,56,57,58,59,60,61,62,63,64,65,66,67,68,69,70,71,72,73,74,75,76,77,78,79,80,81,82,83,84,85,86,87,88,89,90,91,92,93,94,95,96,97,98,99,100],\"y\":[0.0,0.0,0.0,0.0,0.0,0.0,0.0,0.0,0.0,0.0,0.0,0.0,0.0,0.0,0.0,0.0,0.0,0.0,0.0,0.0,0.0,0.0,0.0,0.0,0.0,0.0,0.0,0.0,0.0,0.0,0.0,0.0,0.0,0.0,0.0,0.0,0.0,0.0,0.0,0.0,0.0,0.0,0.0,0.0,0.0,0.0,0.0,0.0,0.0,0.0,0.0,0.0,0.0,0.0,0.0,0.0,0.0,0.0,0.0,0.0,0.0,0.0,0.0,0.0,0.0,0.0,0.0,0.0,0.0,0.0,0.0,0.0,0.0,0.0,0.0,0.0,0.0,0.0,0.0,0.0,0.0,0.0,0.0,0.0,0.0,0.0,0.0,0.0,0.0,0.0,0.0,0.0,0.0,0.0,0.0,0.0,0.0,0.0,0.0,0.0,0.0]},\"selected\":{\"id\":\"4381\",\"type\":\"Selection\"},\"selection_policy\":{\"id\":\"4380\",\"type\":\"UnionRenderers\"}},\"id\":\"4192\",\"type\":\"ColumnDataSource\"},{\"attributes\":{\"label\":{\"value\":\"Punt\"},\"renderers\":[{\"id\":\"4195\",\"type\":\"GlyphRenderer\"}]},\"id\":\"4207\",\"type\":\"LegendItem\"},{\"attributes\":{\"line_color\":\"#2b83ba\",\"line_width\":4,\"x\":{\"field\":\"x\"},\"y\":{\"field\":\"y\"}},\"id\":\"4183\",\"type\":\"Line\"},{\"attributes\":{\"callback\":null,\"renderers\":\"auto\"},\"id\":\"4179\",\"type\":\"HoverTool\"},{\"attributes\":{\"line_alpha\":0.1,\"line_color\":\"#1f77b4\",\"line_width\":4,\"x\":{\"field\":\"x\"},\"y\":{\"field\":\"y\"}},\"id\":\"4189\",\"type\":\"Line\"},{\"attributes\":{\"label\":{\"value\":\"Field Goal\"},\"renderers\":[{\"id\":\"4200\",\"type\":\"GlyphRenderer\"}]},\"id\":\"4208\",\"type\":\"LegendItem\"},{\"attributes\":{\"data_source\":{\"id\":\"4187\",\"type\":\"ColumnDataSource\"},\"glyph\":{\"id\":\"4188\",\"type\":\"Line\"},\"hover_glyph\":null,\"muted_glyph\":null,\"nonselection_glyph\":{\"id\":\"4189\",\"type\":\"Line\"},\"selection_glyph\":null,\"view\":{\"id\":\"4191\",\"type\":\"CDSView\"}},\"id\":\"4190\",\"type\":\"GlyphRenderer\"},{\"attributes\":{},\"id\":\"4374\",\"type\":\"BasicTickFormatter\"},{\"attributes\":{\"source\":{\"id\":\"4187\",\"type\":\"ColumnDataSource\"}},\"id\":\"4191\",\"type\":\"CDSView\"},{\"attributes\":{\"dimension\":1,\"plot\":{\"id\":\"4159\",\"subtype\":\"Figure\",\"type\":\"Plot\"},\"ticker\":{\"id\":\"4175\",\"type\":\"BasicTicker\"}},\"id\":\"4178\",\"type\":\"Grid\"},{\"attributes\":{},\"id\":\"4376\",\"type\":\"UnionRenderers\"},{\"attributes\":{\"data_source\":{\"id\":\"4182\",\"type\":\"ColumnDataSource\"},\"glyph\":{\"id\":\"4183\",\"type\":\"Line\"},\"hover_glyph\":null,\"muted_glyph\":null,\"nonselection_glyph\":{\"id\":\"4184\",\"type\":\"Line\"},\"selection_glyph\":null,\"view\":{\"id\":\"4186\",\"type\":\"CDSView\"}},\"id\":\"4185\",\"type\":\"GlyphRenderer\"},{\"attributes\":{},\"id\":\"4377\",\"type\":\"Selection\"},{\"attributes\":{\"line_color\":\"#fdae61\",\"line_width\":4,\"x\":{\"field\":\"x\"},\"y\":{\"field\":\"y\"}},\"id\":\"4193\",\"type\":\"Line\"},{\"attributes\":{\"callback\":null,\"data\":{\"x\":[0,1,2,3,4,5,6,7,8,9,10,11,12,13,14,15,16,17,18,19,20,21,22,23,24,25,26,27,28,29,30,31,32,33,34,35,36,37,38,39,40,41,42,43,44,45,46,47,48,49,50,51,52,53,54,55,56,57,58,59,60,61,62,63,64,65,66,67,68,69,70,71,72,73,74,75,76,77,78,79,80,81,82,83,84,85,86,87,88,89,90,91,92,93,94,95,96,97,98,99,100],\"y\":[0.0,0.01680672268907563,0.004201680672268907,0.012605042016806723,0.02100840336134454,0.012605042016806723,0.012605042016806723,0.012605042016806723,0.012605042016806723,0.046218487394957986,0.01680672268907563,0.008403361344537815,0.012605042016806723,0.012605042016806723,0.03361344537815126,0.029411764705882353,0.004201680672268907,0.004201680672268907,0.03361344537815126,0.02100840336134454,0.03361344537815126,0.02100840336134454,0.046218487394957986,0.025210084033613446,0.046218487394957986,0.04201680672268908,0.025210084033613446,0.029411764705882353,0.06302521008403361,0.037815126050420166,0.012605042016806723,0.025210084033613446,0.037815126050420166,0.03361344537815126,0.02100840336134454,0.046218487394957986,0.012605042016806723,0.029411764705882353,0.012605042016806723,0.008403361344537815,0.025210084033613446,0.008403361344537815,0.004201680672268907,0.004201680672268907,0.004201680672268907,0.008403361344537815,0.0,0.0,0.008403361344537815,0.0,0.0,0.0,0.0,0.0,0.0,0.0,0.0,0.0,0.0,0.0,0.0,0.0,0.0,0.0,0.0,0.0,0.0,0.0,0.0,0.0,0.0,0.0,0.0,0.0,0.0,0.0,0.0,0.0,0.0,0.0,0.0,0.0,0.0,0.0,0.0,0.0,0.0,0.0,0.0,0.0,0.0,0.0,0.0,0.0,0.0,0.0,0.0,0.0,0.0,0.0,0.0]},\"selected\":{\"id\":\"4383\",\"type\":\"Selection\"},\"selection_policy\":{\"id\":\"4382\",\"type\":\"UnionRenderers\"}},\"id\":\"4197\",\"type\":\"ColumnDataSource\"},{\"attributes\":{},\"id\":\"4378\",\"type\":\"UnionRenderers\"},{\"attributes\":{},\"id\":\"4167\",\"type\":\"LinearScale\"},{\"attributes\":{\"line_alpha\":0.1,\"line_color\":\"#1f77b4\",\"line_width\":4,\"x\":{\"field\":\"x\"},\"y\":{\"field\":\"y\"}},\"id\":\"4194\",\"type\":\"Line\"},{\"attributes\":{\"axis_label\":\"Yard Line (100 is team's own goal line)\",\"formatter\":{\"id\":\"4373\",\"type\":\"BasicTickFormatter\"},\"plot\":{\"id\":\"4159\",\"subtype\":\"Figure\",\"type\":\"Plot\"},\"ticker\":{\"id\":\"4202\",\"type\":\"FixedTicker\"}},\"id\":\"4169\",\"type\":\"LinearAxis\"},{\"attributes\":{},\"id\":\"4379\",\"type\":\"Selection\"},{\"attributes\":{\"plot\":null,\"text\":\"Plays by Yard Line on Second Down (normalized by total number of plays of given type)\"},\"id\":\"4158\",\"type\":\"Title\"},{\"attributes\":{\"data_source\":{\"id\":\"4192\",\"type\":\"ColumnDataSource\"},\"glyph\":{\"id\":\"4193\",\"type\":\"Line\"},\"hover_glyph\":null,\"muted_glyph\":null,\"nonselection_glyph\":{\"id\":\"4194\",\"type\":\"Line\"},\"selection_glyph\":null,\"view\":{\"id\":\"4196\",\"type\":\"CDSView\"}},\"id\":\"4195\",\"type\":\"GlyphRenderer\"},{\"attributes\":{},\"id\":\"4380\",\"type\":\"UnionRenderers\"},{\"attributes\":{\"source\":{\"id\":\"4192\",\"type\":\"ColumnDataSource\"}},\"id\":\"4196\",\"type\":\"CDSView\"},{\"attributes\":{\"line_alpha\":0.1,\"line_color\":\"#1f77b4\",\"line_width\":4,\"x\":{\"field\":\"x\"},\"y\":{\"field\":\"y\"}},\"id\":\"4184\",\"type\":\"Line\"},{\"attributes\":{},\"id\":\"4381\",\"type\":\"Selection\"},{\"attributes\":{\"plot\":{\"id\":\"4159\",\"subtype\":\"Figure\",\"type\":\"Plot\"},\"ticker\":{\"id\":\"4202\",\"type\":\"FixedTicker\"}},\"id\":\"4173\",\"type\":\"Grid\"},{\"attributes\":{\"source\":{\"id\":\"4182\",\"type\":\"ColumnDataSource\"}},\"id\":\"4186\",\"type\":\"CDSView\"},{\"attributes\":{},\"id\":\"4382\",\"type\":\"UnionRenderers\"},{\"attributes\":{\"line_color\":\"#d7191c\",\"line_width\":4,\"x\":{\"field\":\"x\"},\"y\":{\"field\":\"y\"}},\"id\":\"4198\",\"type\":\"Line\"},{\"attributes\":{\"axis_label\":\"Fraction of Plays\",\"formatter\":{\"id\":\"4374\",\"type\":\"BasicTickFormatter\"},\"plot\":{\"id\":\"4159\",\"subtype\":\"Figure\",\"type\":\"Plot\"},\"ticker\":{\"id\":\"4175\",\"type\":\"BasicTicker\"}},\"id\":\"4174\",\"type\":\"LinearAxis\"},{\"attributes\":{\"ticks\":[0,5,10,15,20,25,30,35,40,45,50,55,60,65,70,75,80,85,90,95,100]},\"id\":\"4202\",\"type\":\"FixedTicker\"},{\"attributes\":{},\"id\":\"4383\",\"type\":\"Selection\"},{\"attributes\":{\"line_alpha\":0.1,\"line_color\":\"#1f77b4\",\"line_width\":4,\"x\":{\"field\":\"x\"},\"y\":{\"field\":\"y\"}},\"id\":\"4199\",\"type\":\"Line\"},{\"attributes\":{},\"id\":\"4175\",\"type\":\"BasicTicker\"},{\"attributes\":{\"data_source\":{\"id\":\"4197\",\"type\":\"ColumnDataSource\"},\"glyph\":{\"id\":\"4198\",\"type\":\"Line\"},\"hover_glyph\":null,\"muted_glyph\":null,\"nonselection_glyph\":{\"id\":\"4199\",\"type\":\"Line\"},\"selection_glyph\":null,\"view\":{\"id\":\"4201\",\"type\":\"CDSView\"}},\"id\":\"4200\",\"type\":\"GlyphRenderer\"},{\"attributes\":{},\"id\":\"4165\",\"type\":\"LinearScale\"},{\"attributes\":{\"source\":{\"id\":\"4197\",\"type\":\"ColumnDataSource\"}},\"id\":\"4201\",\"type\":\"CDSView\"},{\"attributes\":{\"items\":[{\"id\":\"4205\",\"type\":\"LegendItem\"},{\"id\":\"4206\",\"type\":\"LegendItem\"},{\"id\":\"4207\",\"type\":\"LegendItem\"},{\"id\":\"4208\",\"type\":\"LegendItem\"}],\"location\":[0,100],\"plot\":{\"id\":\"4159\",\"subtype\":\"Figure\",\"type\":\"Plot\"}},\"id\":\"4204\",\"type\":\"Legend\"},{\"attributes\":{},\"id\":\"4373\",\"type\":\"BasicTickFormatter\"},{\"attributes\":{\"callback\":null},\"id\":\"4163\",\"type\":\"DataRange1d\"}],\"root_ids\":[\"4159\"]},\"title\":\"Bokeh Application\",\"version\":\"1.0.1\"}};\n",
       "  var render_items = [{\"docid\":\"66f8e653-0503-4540-9d8c-c6b29a2aebd0\",\"roots\":{\"4159\":\"2c6611bc-041e-4ddc-ac61-5f5e9d57e5b9\"}}];\n",
       "  root.Bokeh.embed.embed_items_notebook(docs_json, render_items);\n",
       "\n",
       "  }\n",
       "  if (root.Bokeh !== undefined) {\n",
       "    embed_document(root);\n",
       "  } else {\n",
       "    var attempts = 0;\n",
       "    var timer = setInterval(function(root) {\n",
       "      if (root.Bokeh !== undefined) {\n",
       "        embed_document(root);\n",
       "        clearInterval(timer);\n",
       "      }\n",
       "      attempts++;\n",
       "      if (attempts > 100) {\n",
       "        console.log(\"Bokeh: ERROR: Unable to run BokehJS code because BokehJS library is missing\");\n",
       "        clearInterval(timer);\n",
       "      }\n",
       "    }, 10, root)\n",
       "  }\n",
       "})(window);"
      ],
      "application/vnd.bokehjs_exec.v0+json": ""
     },
     "metadata": {
      "application/vnd.bokehjs_exec.v0+json": {
       "id": "4159"
      }
     },
     "output_type": "display_data"
    }
   ],
   "source": [
    "def total_plays(i, play, cou):\n",
    "    total_plays = sum([p[play] for p in cou])\n",
    "    if total_plays == 0:\n",
    "        return 1\n",
    "    else:\n",
    "        return total_plays\n",
    "\n",
    "x = range(0,101)\n",
    "team_df_d1 = team_df.loc[team_df['down'] == 2]\n",
    "plays_on_yrd = [Counter(team_df_d2.loc[team_df_d2['yrdline100'] == yrd]['PlayType']) for yrd in x]\n",
    "y_pass = [play['Pass']/total_plays(i, 'Pass', plays_on_yrd) for i, play in enumerate(plays_on_yrd)]\n",
    "y_runs = [play['Run']/total_plays(i, 'Run', plays_on_yrd) for i, play in enumerate(plays_on_yrd)]\n",
    "y_punt = [play['Punt']/total_plays(i, 'Punt', plays_on_yrd) for i, play in enumerate(plays_on_yrd)]\n",
    "y_fg = [play['Field Goal']/total_plays(i, 'Field Goal', plays_on_yrd) for i, play in enumerate(plays_on_yrd)]\n",
    "p = figure(title='Plays by Yard Line on Second Down (normalized by total number of plays of given type)', toolbar_location=None, tools='hover',\n",
    "           plot_height=350, plot_width=750, x_range=(1,99))\n",
    "l1 = p.line(x, y_pass, color='#2b83ba', line_width=4)\n",
    "l2 = p.line(x, y_runs, color='#abdda4', line_width=4)\n",
    "l3 = p.line(x, y_punt, color='#fdae61', line_width=4)\n",
    "l4 = p.line(x, y_fg, color='#d7191c', line_width=4)\n",
    "p.xaxis.axis_label = 'Yard Line (100 is team\\'s own goal line)'\n",
    "p.yaxis.axis_label = 'Fraction of Plays'\n",
    "p.xaxis.ticker = FixedTicker(ticks=list(range(0, 101, 5)))\n",
    "p.xgrid.ticker = p.xaxis[0].ticker\n",
    "\n",
    "legend = Legend(items=[\n",
    "    ('Pass'   , [l1]),\n",
    "    ('Run' , [l2]),\n",
    "    ('Punt' , [l3]),\n",
    "    ('Field Goal', [l4]),\n",
    "], location=(0, +100))\n",
    "\n",
    "p.add_layout(legend, 'right')\n",
    "show(p)"
   ]
  },
  {
   "cell_type": "markdown",
   "metadata": {},
   "source": [
    "### Third down only"
   ]
  },
  {
   "cell_type": "code",
   "execution_count": 39,
   "metadata": {},
   "outputs": [
    {
     "data": {
      "text/html": [
       "\n",
       "\n",
       "\n",
       "\n",
       "\n",
       "\n",
       "  <div class=\"bk-root\" id=\"0b066af2-0402-46da-b768-02a154facfa2\"></div>\n"
      ]
     },
     "metadata": {},
     "output_type": "display_data"
    },
    {
     "data": {
      "application/javascript": [
       "(function(root) {\n",
       "  function embed_document(root) {\n",
       "    \n",
       "  var docs_json = {\"00c8ce1e-3974-4ed5-9eb7-c44750f38a06\":{\"roots\":{\"references\":[{\"attributes\":{\"below\":[{\"id\":\"4467\",\"type\":\"LinearAxis\"}],\"left\":[{\"id\":\"4472\",\"type\":\"LinearAxis\"}],\"plot_height\":350,\"plot_width\":750,\"renderers\":[{\"id\":\"4467\",\"type\":\"LinearAxis\"},{\"id\":\"4471\",\"type\":\"Grid\"},{\"id\":\"4472\",\"type\":\"LinearAxis\"},{\"id\":\"4476\",\"type\":\"Grid\"},{\"id\":\"4483\",\"type\":\"GlyphRenderer\"},{\"id\":\"4488\",\"type\":\"GlyphRenderer\"},{\"id\":\"4493\",\"type\":\"GlyphRenderer\"},{\"id\":\"4498\",\"type\":\"GlyphRenderer\"},{\"id\":\"4502\",\"type\":\"Legend\"}],\"right\":[{\"id\":\"4502\",\"type\":\"Legend\"}],\"title\":{\"id\":\"4456\",\"type\":\"Title\"},\"toolbar\":{\"id\":\"4478\",\"type\":\"Toolbar\"},\"toolbar_location\":null,\"x_range\":{\"id\":\"4459\",\"type\":\"Range1d\"},\"x_scale\":{\"id\":\"4463\",\"type\":\"LinearScale\"},\"y_range\":{\"id\":\"4461\",\"type\":\"Range1d\"},\"y_scale\":{\"id\":\"4465\",\"type\":\"LinearScale\"}},\"id\":\"4457\",\"subtype\":\"Figure\",\"type\":\"Plot\"},{\"attributes\":{\"source\":{\"id\":\"4480\",\"type\":\"ColumnDataSource\"}},\"id\":\"4484\",\"type\":\"CDSView\"},{\"attributes\":{\"label\":{\"value\":\"Pass\"},\"renderers\":[{\"id\":\"4483\",\"type\":\"GlyphRenderer\"}]},\"id\":\"4503\",\"type\":\"LegendItem\"},{\"attributes\":{\"line_color\":\"#abdda4\",\"line_width\":4,\"x\":{\"field\":\"x\"},\"y\":{\"field\":\"y\"}},\"id\":\"4486\",\"type\":\"Line\"},{\"attributes\":{\"callback\":null,\"end\":99,\"start\":1},\"id\":\"4459\",\"type\":\"Range1d\"},{\"attributes\":{\"label\":{\"value\":\"Run\"},\"renderers\":[{\"id\":\"4488\",\"type\":\"GlyphRenderer\"}]},\"id\":\"4504\",\"type\":\"LegendItem\"},{\"attributes\":{\"callback\":null,\"data\":{\"x\":[0,1,2,3,4,5,6,7,8,9,10,11,12,13,14,15,16,17,18,19,20,21,22,23,24,25,26,27,28,29,30,31,32,33,34,35,36,37,38,39,40,41,42,43,44,45,46,47,48,49,50,51,52,53,54,55,56,57,58,59,60,61,62,63,64,65,66,67,68,69,70,71,72,73,74,75,76,77,78,79,80,81,82,83,84,85,86,87,88,89,90,91,92,93,94,95,96,97,98,99,100],\"y\":[0.0,0.0,0.0,0.0,0.0,0.0,0.0,0.0,0.0,0.0,0.0,0.0,0.0,0.0,0.0,0.0,0.0,0.0,0.0,0.0,0.0,0.0,0.0,0.0,0.0,0.0,0.0,0.0,0.0,0.0,0.0,0.0,0.0,0.0,0.2,0.0,0.2,0.0,0.0,0.0,0.0,0.0,0.0,0.0,0.0,0.0,0.0,0.0,0.0,0.0,0.0,0.0,0.0,0.2,0.2,0.0,0.0,0.0,0.0,0.0,0.0,0.0,0.0,0.0,0.0,0.0,0.0,0.0,0.0,0.0,0.0,0.0,0.0,0.0,0.0,0.0,0.0,0.0,0.2,0.0,0.0,0.0,0.0,0.0,0.0,0.0,0.0,0.0,0.0,0.0,0.0,0.0,0.0,0.0,0.0,0.0,0.0,0.0,0.0,0.0,0.0]},\"selected\":{\"id\":\"4691\",\"type\":\"Selection\"},\"selection_policy\":{\"id\":\"4690\",\"type\":\"UnionRenderers\"}},\"id\":\"4490\",\"type\":\"ColumnDataSource\"},{\"attributes\":{\"callback\":null,\"end\":0.1,\"start\":-0.005},\"id\":\"4461\",\"type\":\"Range1d\"},{\"attributes\":{\"label\":{\"value\":\"Punt\"},\"renderers\":[{\"id\":\"4493\",\"type\":\"GlyphRenderer\"}]},\"id\":\"4505\",\"type\":\"LegendItem\"},{\"attributes\":{\"line_alpha\":0.1,\"line_color\":\"#1f77b4\",\"line_width\":4,\"x\":{\"field\":\"x\"},\"y\":{\"field\":\"y\"}},\"id\":\"4487\",\"type\":\"Line\"},{\"attributes\":{\"label\":{\"value\":\"Field Goal\"},\"renderers\":[{\"id\":\"4498\",\"type\":\"GlyphRenderer\"}]},\"id\":\"4506\",\"type\":\"LegendItem\"},{\"attributes\":{\"data_source\":{\"id\":\"4485\",\"type\":\"ColumnDataSource\"},\"glyph\":{\"id\":\"4486\",\"type\":\"Line\"},\"hover_glyph\":null,\"muted_glyph\":null,\"nonselection_glyph\":{\"id\":\"4487\",\"type\":\"Line\"},\"selection_glyph\":null,\"view\":{\"id\":\"4489\",\"type\":\"CDSView\"}},\"id\":\"4488\",\"type\":\"GlyphRenderer\"},{\"attributes\":{},\"id\":\"4463\",\"type\":\"LinearScale\"},{\"attributes\":{},\"id\":\"4684\",\"type\":\"BasicTickFormatter\"},{\"attributes\":{\"source\":{\"id\":\"4485\",\"type\":\"ColumnDataSource\"}},\"id\":\"4489\",\"type\":\"CDSView\"},{\"attributes\":{},\"id\":\"4465\",\"type\":\"LinearScale\"},{\"attributes\":{},\"id\":\"4686\",\"type\":\"UnionRenderers\"},{\"attributes\":{\"axis_label\":\"Yard Line (100 is team's own goal line)\",\"formatter\":{\"id\":\"4683\",\"type\":\"BasicTickFormatter\"},\"plot\":{\"id\":\"4457\",\"subtype\":\"Figure\",\"type\":\"Plot\"},\"ticker\":{\"id\":\"4500\",\"type\":\"FixedTicker\"}},\"id\":\"4467\",\"type\":\"LinearAxis\"},{\"attributes\":{\"line_color\":\"#fdae61\",\"line_width\":4,\"x\":{\"field\":\"x\"},\"y\":{\"field\":\"y\"}},\"id\":\"4491\",\"type\":\"Line\"},{\"attributes\":{},\"id\":\"4687\",\"type\":\"Selection\"},{\"attributes\":{\"callback\":null,\"data\":{\"x\":[0,1,2,3,4,5,6,7,8,9,10,11,12,13,14,15,16,17,18,19,20,21,22,23,24,25,26,27,28,29,30,31,32,33,34,35,36,37,38,39,40,41,42,43,44,45,46,47,48,49,50,51,52,53,54,55,56,57,58,59,60,61,62,63,64,65,66,67,68,69,70,71,72,73,74,75,76,77,78,79,80,81,82,83,84,85,86,87,88,89,90,91,92,93,94,95,96,97,98,99,100],\"y\":[0.0,0.02702702702702703,0.009009009009009009,0.013513513513513514,0.013513513513513514,0.013513513513513514,0.013513513513513514,0.009009009009009009,0.0,0.018018018018018018,0.018018018018018018,0.013513513513513514,0.03153153153153153,0.036036036036036036,0.03153153153153153,0.02702702702702703,0.04954954954954955,0.03153153153153153,0.018018018018018018,0.013513513513513514,0.03153153153153153,0.02252252252252252,0.02252252252252252,0.04504504504504504,0.02702702702702703,0.07657657657657657,0.04054054054054054,0.018018018018018018,0.018018018018018018,0.02702702702702703,0.03153153153153153,0.009009009009009009,0.013513513513513514,0.02702702702702703,0.02252252252252252,0.013513513513513514,0.013513513513513514,0.03153153153153153,0.018018018018018018,0.018018018018018018,0.02252252252252252,0.018018018018018018,0.009009009009009009,0.013513513513513514,0.0045045045045045045,0.0045045045045045045,0.0045045045045045045,0.0,0.0045045045045045045,0.0,0.0045045045045045045,0.0,0.0,0.0,0.0,0.0,0.0,0.0,0.0,0.0,0.0,0.0,0.0,0.0,0.0,0.0,0.0,0.0,0.0,0.0,0.0,0.0,0.0,0.0,0.0,0.0,0.0,0.0,0.0,0.0,0.0,0.0,0.0,0.0,0.0,0.0,0.0,0.0,0.0,0.0,0.0,0.0,0.0,0.0,0.0,0.0,0.0,0.0,0.0,0.0,0.0]},\"selected\":{\"id\":\"4693\",\"type\":\"Selection\"},\"selection_policy\":{\"id\":\"4692\",\"type\":\"UnionRenderers\"}},\"id\":\"4495\",\"type\":\"ColumnDataSource\"},{\"attributes\":{},\"id\":\"4688\",\"type\":\"UnionRenderers\"},{\"attributes\":{\"line_alpha\":0.1,\"line_color\":\"#1f77b4\",\"line_width\":4,\"x\":{\"field\":\"x\"},\"y\":{\"field\":\"y\"}},\"id\":\"4492\",\"type\":\"Line\"},{\"attributes\":{\"plot\":{\"id\":\"4457\",\"subtype\":\"Figure\",\"type\":\"Plot\"},\"ticker\":{\"id\":\"4500\",\"type\":\"FixedTicker\"}},\"id\":\"4471\",\"type\":\"Grid\"},{\"attributes\":{},\"id\":\"4689\",\"type\":\"Selection\"},{\"attributes\":{\"data_source\":{\"id\":\"4490\",\"type\":\"ColumnDataSource\"},\"glyph\":{\"id\":\"4491\",\"type\":\"Line\"},\"hover_glyph\":null,\"muted_glyph\":null,\"nonselection_glyph\":{\"id\":\"4492\",\"type\":\"Line\"},\"selection_glyph\":null,\"view\":{\"id\":\"4494\",\"type\":\"CDSView\"}},\"id\":\"4493\",\"type\":\"GlyphRenderer\"},{\"attributes\":{\"axis_label\":\"Fraction of Plays\",\"formatter\":{\"id\":\"4684\",\"type\":\"BasicTickFormatter\"},\"plot\":{\"id\":\"4457\",\"subtype\":\"Figure\",\"type\":\"Plot\"},\"ticker\":{\"id\":\"4473\",\"type\":\"BasicTicker\"}},\"id\":\"4472\",\"type\":\"LinearAxis\"},{\"attributes\":{},\"id\":\"4690\",\"type\":\"UnionRenderers\"},{\"attributes\":{\"source\":{\"id\":\"4490\",\"type\":\"ColumnDataSource\"}},\"id\":\"4494\",\"type\":\"CDSView\"},{\"attributes\":{},\"id\":\"4473\",\"type\":\"BasicTicker\"},{\"attributes\":{},\"id\":\"4691\",\"type\":\"Selection\"},{\"attributes\":{\"dimension\":1,\"plot\":{\"id\":\"4457\",\"subtype\":\"Figure\",\"type\":\"Plot\"},\"ticker\":{\"id\":\"4473\",\"type\":\"BasicTicker\"}},\"id\":\"4476\",\"type\":\"Grid\"},{\"attributes\":{\"line_color\":\"#d7191c\",\"line_width\":4,\"x\":{\"field\":\"x\"},\"y\":{\"field\":\"y\"}},\"id\":\"4496\",\"type\":\"Line\"},{\"attributes\":{},\"id\":\"4692\",\"type\":\"UnionRenderers\"},{\"attributes\":{\"ticks\":[0,5,10,15,20,25,30,35,40,45,50,55,60,65,70,75,80,85,90,95,100]},\"id\":\"4500\",\"type\":\"FixedTicker\"},{\"attributes\":{\"active_drag\":\"auto\",\"active_inspect\":\"auto\",\"active_multi\":null,\"active_scroll\":\"auto\",\"active_tap\":\"auto\",\"tools\":[{\"id\":\"4477\",\"type\":\"HoverTool\"}]},\"id\":\"4478\",\"type\":\"Toolbar\"},{\"attributes\":{\"plot\":null,\"text\":\"Plays by Yard Line on Third Down (normalized by total number of plays of given type)\"},\"id\":\"4456\",\"type\":\"Title\"},{\"attributes\":{\"callback\":null,\"renderers\":\"auto\"},\"id\":\"4477\",\"type\":\"HoverTool\"},{\"attributes\":{},\"id\":\"4693\",\"type\":\"Selection\"},{\"attributes\":{\"callback\":null,\"data\":{\"x\":[0,1,2,3,4,5,6,7,8,9,10,11,12,13,14,15,16,17,18,19,20,21,22,23,24,25,26,27,28,29,30,31,32,33,34,35,36,37,38,39,40,41,42,43,44,45,46,47,48,49,50,51,52,53,54,55,56,57,58,59,60,61,62,63,64,65,66,67,68,69,70,71,72,73,74,75,76,77,78,79,80,81,82,83,84,85,86,87,88,89,90,91,92,93,94,95,96,97,98,99,100],\"y\":[0.0,0.03260009495173287,0.01210634594081342,0.008466529514163634,0.0073587592973571765,0.008624782402278841,0.00957429973097009,0.007754391517645197,0.006963127077069156,0.007754391517645197,0.008783035290394049,0.0071213799651843645,0.007754391517645197,0.007754391517645197,0.008545655958221238,0.007754391517645197,0.009020414622566862,0.00799177084981801,0.007596138629529989,0.007754391517645197,0.00917866751068207,0.008466529514163634,0.008150023737933217,0.007042253521126761,0.009811679063142903,0.010444690615603734,0.008862161734451654,0.009495173286912486,0.009257793954739675,0.01052381705966134,0.009732552619085299,0.011552460832410192,0.009257793954739675,0.010207311283430923,0.010602943503718943,0.011315081500237379,0.012027219496755816,0.011394207944294984,0.008703908846336445,0.01036556417154613,0.012185472384871023,0.010840322835891755,0.009020414622566862,0.011394207944294984,0.01012818483937332,0.013134989713562273,0.01329324260167748,0.010207311283430923,0.010682069947776547,0.009020414622566862,0.013055863269504668,0.01289761038138946,0.012185472384871023,0.012422851717043836,0.012976736825447064,0.015746162367463207,0.014084507042253521,0.011473334388352588,0.010998575724006964,0.013451495489792688,0.0156670359234056,0.013055863269504668,0.012818483937331857,0.010602943503718943,0.010444690615603734,0.013768001266023105,0.023104921664820383,0.012027219496755816,0.012422851717043836,0.011156828612122171,0.012343725272986232,0.03655641715461307,0.016537426808039248,0.012581104605159044,0.011473334388352588,0.014954897926887166,0.012185472384871023,0.009653426175027693,0.00996993195125811,0.008783035290394049,0.01036556417154613,0.009811679063142903,0.007200506409241969,0.006884000633011552,0.007200506409241969,0.007754391517645197,0.007042253521126761,0.006488368412723532,0.004589333755341035,0.004747586643456243,0.006488368412723532,0.0038771957588225985,0.0037189428707073906,0.003006804874188954,0.0026902990979585377,0.0026111726539009335,0.003244184206361766,0.0026111726539009335,0.001503402437094477,0.0011868966608640607,0.0]},\"selected\":{\"id\":\"4689\",\"type\":\"Selection\"},\"selection_policy\":{\"id\":\"4688\",\"type\":\"UnionRenderers\"}},\"id\":\"4485\",\"type\":\"ColumnDataSource\"},{\"attributes\":{\"line_alpha\":0.1,\"line_color\":\"#1f77b4\",\"line_width\":4,\"x\":{\"field\":\"x\"},\"y\":{\"field\":\"y\"}},\"id\":\"4497\",\"type\":\"Line\"},{\"attributes\":{\"data_source\":{\"id\":\"4495\",\"type\":\"ColumnDataSource\"},\"glyph\":{\"id\":\"4496\",\"type\":\"Line\"},\"hover_glyph\":null,\"muted_glyph\":null,\"nonselection_glyph\":{\"id\":\"4497\",\"type\":\"Line\"},\"selection_glyph\":null,\"view\":{\"id\":\"4499\",\"type\":\"CDSView\"}},\"id\":\"4498\",\"type\":\"GlyphRenderer\"},{\"attributes\":{\"source\":{\"id\":\"4495\",\"type\":\"ColumnDataSource\"}},\"id\":\"4499\",\"type\":\"CDSView\"},{\"attributes\":{\"line_color\":\"#2b83ba\",\"line_width\":4,\"x\":{\"field\":\"x\"},\"y\":{\"field\":\"y\"}},\"id\":\"4481\",\"type\":\"Line\"},{\"attributes\":{},\"id\":\"4683\",\"type\":\"BasicTickFormatter\"},{\"attributes\":{\"line_alpha\":0.1,\"line_color\":\"#1f77b4\",\"line_width\":4,\"x\":{\"field\":\"x\"},\"y\":{\"field\":\"y\"}},\"id\":\"4482\",\"type\":\"Line\"},{\"attributes\":{\"callback\":null,\"data\":{\"x\":[0,1,2,3,4,5,6,7,8,9,10,11,12,13,14,15,16,17,18,19,20,21,22,23,24,25,26,27,28,29,30,31,32,33,34,35,36,37,38,39,40,41,42,43,44,45,46,47,48,49,50,51,52,53,54,55,56,57,58,59,60,61,62,63,64,65,66,67,68,69,70,71,72,73,74,75,76,77,78,79,80,81,82,83,84,85,86,87,88,89,90,91,92,93,94,95,96,97,98,99,100],\"y\":[0.0,0.0050645504081032805,0.006375907210201452,0.006534174410454679,0.006828099210924959,0.008433380813493409,0.006488955210382328,0.00687331841099731,0.006556784010490854,0.00662461281059938,0.008365552013384884,0.0078003120124804995,0.0073029008116846416,0.007528996812046395,0.00784553121255285,0.007981188812769902,0.007280291211648466,0.0073029008116846416,0.007280291211648466,0.007574216012118746,0.009382984015012774,0.007642044812227271,0.007709873612335797,0.00784553121255285,0.0077777024124443235,0.008727305613963688,0.007596825612154921,0.007189852811503764,0.0078907504126252,0.008162065613059304,0.009812566415700106,0.00906644961450632,0.008546428813674286,0.00915688801465102,0.008885572814216916,0.010264758416423613,0.009857785615772456,0.009202107214723372,0.009496032015193652,0.00940559361504895,0.011485676818377083,0.01003866241606186,0.01042302561667684,0.010807388817291822,0.011417848018268556,0.011463067218340908,0.01033258721653214,0.011463067218340908,0.011666553618666486,0.011485676818377083,0.01379185602206697,0.012209184019534695,0.012118745619389993,0.012050916819281467,0.013520540821632865,0.01573628162517805,0.012955300820728481,0.013724027221958443,0.0124804992199688,0.014244048022790477,0.017522440028035904,0.014831897623731036,0.014040561622464899,0.014651020823441633,0.013588369621741392,0.01657283682651654,0.01349793122159669,0.015171041624273667,0.014402315223043704,0.015216260824346017,0.017612878428180604,0.01627891202604626,0.0189016256302426,0.02021298243234077,0.01867552962988085,0.02177304483483687,0.016346740826154785,0.016550227226480363,0.015261480024418368,0.013633588821813742,0.018833796830134076,0.011395238418232381,0.010807388817291822,0.009269936014831897,0.008998620814397793,0.009722128015555404,0.007122024011395238,0.0072350720115761154,0.0066472224106355554,0.00594632480951412,0.0056750096090800155,0.0040018992064030385,0.003436659205498655,0.0026679328042686925,0.0027357616043772186,0.0026679328042686925,0.0015826720025322752,0.0014244048022790477,0.0010400416016640667,0.0009722128015555404,0.0]},\"selected\":{\"id\":\"4687\",\"type\":\"Selection\"},\"selection_policy\":{\"id\":\"4686\",\"type\":\"UnionRenderers\"}},\"id\":\"4480\",\"type\":\"ColumnDataSource\"},{\"attributes\":{\"items\":[{\"id\":\"4503\",\"type\":\"LegendItem\"},{\"id\":\"4504\",\"type\":\"LegendItem\"},{\"id\":\"4505\",\"type\":\"LegendItem\"},{\"id\":\"4506\",\"type\":\"LegendItem\"}],\"location\":[0,100],\"plot\":{\"id\":\"4457\",\"subtype\":\"Figure\",\"type\":\"Plot\"}},\"id\":\"4502\",\"type\":\"Legend\"},{\"attributes\":{\"data_source\":{\"id\":\"4480\",\"type\":\"ColumnDataSource\"},\"glyph\":{\"id\":\"4481\",\"type\":\"Line\"},\"hover_glyph\":null,\"muted_glyph\":null,\"nonselection_glyph\":{\"id\":\"4482\",\"type\":\"Line\"},\"selection_glyph\":null,\"view\":{\"id\":\"4484\",\"type\":\"CDSView\"}},\"id\":\"4483\",\"type\":\"GlyphRenderer\"}],\"root_ids\":[\"4457\"]},\"title\":\"Bokeh Application\",\"version\":\"1.0.1\"}};\n",
       "  var render_items = [{\"docid\":\"00c8ce1e-3974-4ed5-9eb7-c44750f38a06\",\"roots\":{\"4457\":\"0b066af2-0402-46da-b768-02a154facfa2\"}}];\n",
       "  root.Bokeh.embed.embed_items_notebook(docs_json, render_items);\n",
       "\n",
       "  }\n",
       "  if (root.Bokeh !== undefined) {\n",
       "    embed_document(root);\n",
       "  } else {\n",
       "    var attempts = 0;\n",
       "    var timer = setInterval(function(root) {\n",
       "      if (root.Bokeh !== undefined) {\n",
       "        embed_document(root);\n",
       "        clearInterval(timer);\n",
       "      }\n",
       "      attempts++;\n",
       "      if (attempts > 100) {\n",
       "        console.log(\"Bokeh: ERROR: Unable to run BokehJS code because BokehJS library is missing\");\n",
       "        clearInterval(timer);\n",
       "      }\n",
       "    }, 10, root)\n",
       "  }\n",
       "})(window);"
      ],
      "application/vnd.bokehjs_exec.v0+json": ""
     },
     "metadata": {
      "application/vnd.bokehjs_exec.v0+json": {
       "id": "4457"
      }
     },
     "output_type": "display_data"
    }
   ],
   "source": [
    "def total_plays(i, play, cou):\n",
    "    total_plays = sum([p[play] for p in cou])\n",
    "    if total_plays == 0:\n",
    "        return 1\n",
    "    else:\n",
    "        return total_plays\n",
    "\n",
    "x = range(0,101)\n",
    "team_df_d1 = team_df.loc[team_df['down'] == 3]\n",
    "plays_on_yrd = [Counter(team_df_d3.loc[team_df_d3['yrdline100'] == yrd]['PlayType']) for yrd in x]\n",
    "y_pass = [play['Pass']/total_plays(i, 'Pass', plays_on_yrd) for i, play in enumerate(plays_on_yrd)]\n",
    "y_runs = [play['Run']/total_plays(i, 'Run', plays_on_yrd) for i, play in enumerate(plays_on_yrd)]\n",
    "y_punt = [play['Punt']/total_plays(i, 'Punt', plays_on_yrd) for i, play in enumerate(plays_on_yrd)]\n",
    "y_fg = [play['Field Goal']/total_plays(i, 'Field Goal', plays_on_yrd) for i, play in enumerate(plays_on_yrd)]\n",
    "p = figure(title='Plays by Yard Line on Third Down (normalized by total number of plays of given type)', toolbar_location=None, tools='hover',\n",
    "           plot_height=350, plot_width=750, x_range=(1,99), y_range=(-0.005,0.1))\n",
    "l1 = p.line(x, y_pass, color='#2b83ba', line_width=4)\n",
    "l2 = p.line(x, y_runs, color='#abdda4', line_width=4)\n",
    "l3 = p.line(x, y_punt, color='#fdae61', line_width=4)\n",
    "l4 = p.line(x, y_fg, color='#d7191c', line_width=4)\n",
    "p.xaxis.axis_label = 'Yard Line (100 is team\\'s own goal line)'\n",
    "p.yaxis.axis_label = 'Fraction of Plays'\n",
    "p.xaxis.ticker = FixedTicker(ticks=list(range(0, 101, 5)))\n",
    "p.xgrid.ticker = p.xaxis[0].ticker\n",
    "\n",
    "legend = Legend(items=[\n",
    "    ('Pass'   , [l1]),\n",
    "    ('Run' , [l2]),\n",
    "    ('Punt' , [l3]),\n",
    "    ('Field Goal', [l4]),\n",
    "], location=(0, +100))\n",
    "\n",
    "p.add_layout(legend, 'right')\n",
    "show(p)"
   ]
  },
  {
   "cell_type": "markdown",
   "metadata": {},
   "source": [
    "### Fourth down only"
   ]
  },
  {
   "cell_type": "code",
   "execution_count": 40,
   "metadata": {},
   "outputs": [
    {
     "data": {
      "text/html": [
       "\n",
       "\n",
       "\n",
       "\n",
       "\n",
       "\n",
       "  <div class=\"bk-root\" id=\"312ce880-93c4-4a60-a7c8-04ea5adc2a90\"></div>\n"
      ]
     },
     "metadata": {},
     "output_type": "display_data"
    },
    {
     "data": {
      "application/javascript": [
       "(function(root) {\n",
       "  function embed_document(root) {\n",
       "    \n",
       "  var docs_json = {\"0ef810bd-6fe7-4598-9fca-142e06a8a6d7\":{\"roots\":{\"references\":[{\"attributes\":{\"below\":[{\"id\":\"4777\",\"type\":\"LinearAxis\"}],\"left\":[{\"id\":\"4782\",\"type\":\"LinearAxis\"}],\"plot_height\":350,\"plot_width\":750,\"renderers\":[{\"id\":\"4777\",\"type\":\"LinearAxis\"},{\"id\":\"4781\",\"type\":\"Grid\"},{\"id\":\"4782\",\"type\":\"LinearAxis\"},{\"id\":\"4786\",\"type\":\"Grid\"},{\"id\":\"4793\",\"type\":\"GlyphRenderer\"},{\"id\":\"4798\",\"type\":\"GlyphRenderer\"},{\"id\":\"4803\",\"type\":\"GlyphRenderer\"},{\"id\":\"4808\",\"type\":\"GlyphRenderer\"},{\"id\":\"4812\",\"type\":\"Legend\"}],\"right\":[{\"id\":\"4812\",\"type\":\"Legend\"}],\"title\":{\"id\":\"4766\",\"type\":\"Title\"},\"toolbar\":{\"id\":\"4788\",\"type\":\"Toolbar\"},\"toolbar_location\":null,\"x_range\":{\"id\":\"4769\",\"type\":\"Range1d\"},\"x_scale\":{\"id\":\"4773\",\"type\":\"LinearScale\"},\"y_range\":{\"id\":\"4771\",\"type\":\"DataRange1d\"},\"y_scale\":{\"id\":\"4775\",\"type\":\"LinearScale\"}},\"id\":\"4767\",\"subtype\":\"Figure\",\"type\":\"Plot\"},{\"attributes\":{},\"id\":\"5006\",\"type\":\"BasicTickFormatter\"},{\"attributes\":{\"callback\":null,\"data\":{\"x\":[0,1,2,3,4,5,6,7,8,9,10,11,12,13,14,15,16,17,18,19,20,21,22,23,24,25,26,27,28,29,30,31,32,33,34,35,36,37,38,39,40,41,42,43,44,45,46,47,48,49,50,51,52,53,54,55,56,57,58,59,60,61,62,63,64,65,66,67,68,69,70,71,72,73,74,75,76,77,78,79,80,81,82,83,84,85,86,87,88,89,90,91,92,93,94,95,96,97,98,99,100],\"y\":[0.0,0.09130706691682301,0.016260162601626018,0.016260162601626018,0.013133208255159476,0.011882426516572859,0.010631644777986242,0.009380863039399626,0.008755472170106316,0.010006253908692933,0.014383989993746092,0.009380863039399626,0.01125703564727955,0.010631644777986242,0.0068792995622263915,0.011882426516572859,0.008755472170106316,0.01125703564727955,0.010631644777986242,0.01125703564727955,0.01125703564727955,0.017510944340212633,0.008130081300813009,0.008130081300813009,0.016260162601626018,0.012507817385866166,0.012507817385866166,0.015634771732332707,0.012507817385866166,0.011882426516572859,0.015634771732332707,0.021263289555972485,0.01876172607879925,0.0150093808630394,0.020637898686679174,0.031269543464665414,0.023764853033145718,0.023764853033145718,0.020012507817385866,0.01813633520950594,0.023764853033145718,0.01876172607879925,0.01813633520950594,0.01876172607879925,0.016885553470919325,0.017510944340212633,0.008130081300813009,0.006253908692933083,0.0150093808630394,0.008130081300813009,0.009380863039399626,0.014383989993746092,0.008755472170106316,0.0068792995622263915,0.010631644777986242,0.012507817385866166,0.013133208255159476,0.0068792995622263915,0.005628517823639775,0.008755472170106316,0.008130081300813009,0.0068792995622263915,0.011882426516572859,0.0068792995622263915,0.006253908692933083,0.005628517823639775,0.011882426516572859,0.0031269543464665416,0.00375234521575985,0.001876172607879925,0.0031269543464665416,0.01125703564727955,0.004377736085053158,0.001876172607879925,0.0012507817385866166,0.00375234521575985,0.0050031269543464665,0.0031269543464665416,0.0031269543464665416,0.0025015634771732333,0.005628517823639775,0.0006253908692933083,0.0012507817385866166,0.001876172607879925,0.0006253908692933083,0.0012507817385866166,0.0012507817385866166,0.0006253908692933083,0.0006253908692933083,0.0006253908692933083,0.0,0.0,0.0,0.0,0.0006253908692933083,0.0,0.0,0.0006253908692933083,0.0,0.001876172607879925,0.0]},\"selected\":{\"id\":\"5011\",\"type\":\"Selection\"},\"selection_policy\":{\"id\":\"5010\",\"type\":\"UnionRenderers\"}},\"id\":\"4795\",\"type\":\"ColumnDataSource\"},{\"attributes\":{\"source\":{\"id\":\"4795\",\"type\":\"ColumnDataSource\"}},\"id\":\"4799\",\"type\":\"CDSView\"},{\"attributes\":{},\"id\":\"5008\",\"type\":\"UnionRenderers\"},{\"attributes\":{\"line_color\":\"#2b83ba\",\"line_width\":4,\"x\":{\"field\":\"x\"},\"y\":{\"field\":\"y\"}},\"id\":\"4791\",\"type\":\"Line\"},{\"attributes\":{\"callback\":null,\"data\":{\"x\":[0,1,2,3,4,5,6,7,8,9,10,11,12,13,14,15,16,17,18,19,20,21,22,23,24,25,26,27,28,29,30,31,32,33,34,35,36,37,38,39,40,41,42,43,44,45,46,47,48,49,50,51,52,53,54,55,56,57,58,59,60,61,62,63,64,65,66,67,68,69,70,71,72,73,74,75,76,77,78,79,80,81,82,83,84,85,86,87,88,89,90,91,92,93,94,95,96,97,98,99,100],\"y\":[0.0,0.0,0.0,0.0,0.0,0.0,0.0,0.0,0.0,0.0,0.0,0.0,0.0,0.0,0.0,0.0,0.0,0.0,0.0,0.0,0.0,0.0,0.0,0.0,0.0,0.0,0.0,0.0,0.0,9.092148929399464e-05,4.546074464699732e-05,4.546074464699732e-05,0.0005455289357639678,0.0006819111697049597,0.0011819793608219302,0.0021821157430558713,0.004046006273582761,0.005318907123698686,0.007546483611401555,0.009001227440105468,0.011456107651043324,0.012047097331454289,0.012683547756512252,0.012047097331454289,0.01459289903168614,0.014956584988862117,0.014229213074510161,0.014092830840569169,0.014820202754921125,0.01509296722280311,0.017593308178387963,0.016911397008683004,0.014183752329863164,0.015729417647861073,0.018184297858798926,0.02082102104832477,0.019229894985679865,0.018593444560621904,0.019639041687502842,0.019820884666090832,0.023094058280674637,0.02182115743055871,0.0203664136018548,0.020593717325089786,0.019002591262444878,0.02118470700550075,0.02223030413238169,0.02218484338773469,0.01886620902850389,0.019639041687502842,0.023685047961085604,0.030231395190253217,0.0287766513615493,0.026549074873846435,0.025003409555848524,0.027685593490021365,0.022457607855616676,0.021457471473382735,0.02118470700550075,0.019820884666090832,0.02563985998090649,0.018002454880210936,0.016138564349684047,0.016365868072919034,0.014365595308451152,0.01595672137109606,0.013138155202982225,0.010319589034868392,0.010092285311633404,0.008910305950811475,0.009864981588398419,0.007364640632813566,0.006228122016638632,0.005000681911169705,0.005137064145110697,0.005000681911169705,0.0025912624448788473,0.0022275764877028688,0.00254580170023185,0.00186389053052689,0.0]},\"selected\":{\"id\":\"5013\",\"type\":\"Selection\"},\"selection_policy\":{\"id\":\"5012\",\"type\":\"UnionRenderers\"}},\"id\":\"4800\",\"type\":\"ColumnDataSource\"},{\"attributes\":{\"line_color\":\"#fdae61\",\"line_width\":4,\"x\":{\"field\":\"x\"},\"y\":{\"field\":\"y\"}},\"id\":\"4801\",\"type\":\"Line\"},{\"attributes\":{},\"id\":\"5009\",\"type\":\"Selection\"},{\"attributes\":{},\"id\":\"4783\",\"type\":\"BasicTicker\"},{\"attributes\":{\"callback\":null,\"data\":{\"x\":[0,1,2,3,4,5,6,7,8,9,10,11,12,13,14,15,16,17,18,19,20,21,22,23,24,25,26,27,28,29,30,31,32,33,34,35,36,37,38,39,40,41,42,43,44,45,46,47,48,49,50,51,52,53,54,55,56,57,58,59,60,61,62,63,64,65,66,67,68,69,70,71,72,73,74,75,76,77,78,79,80,81,82,83,84,85,86,87,88,89,90,91,92,93,94,95,96,97,98,99,100],\"y\":[0.0,0.012181751735899622,0.023023510780850288,0.023023510780850288,0.025703496162748203,0.031428919478621024,0.02387623340236326,0.027530758923133145,0.025947131197466194,0.027287123888415154,0.03008892678767207,0.027530758923133145,0.027652576440492144,0.02740894140577415,0.02874893409672311,0.03276891216956999,0.02838348154464612,0.027530758923133145,0.029723474235595078,0.029723474235595078,0.03605798513826288,0.02801802899256913,0.03130710196126203,0.028627116579364113,0.027043488853697163,0.029967109270313073,0.026556218784261176,0.029723474235595078,0.02740894140577415,0.0289925691314411,0.03666707272505786,0.03130710196126203,0.025703496162748203,0.024972591058594226,0.0225362407114143,0.02217078815933731,0.013156291874771592,0.00901449628456572,0.0043854306249238644,0.0023145328298209283,0.0014618102083079547,0.0007309051041539773,0.0006090875867949811,0.0007309051041539773,0.00024363503471799245,0.00036545255207698867,0.00012181751735899622,0.00012181751735899622,0.00012181751735899622,0.0,0.0,0.0,0.0,0.0,0.0,0.0,0.0,0.0,0.0,0.0,0.0,0.0,0.0,0.0,0.0,0.0,0.0,0.0,0.0,0.0,0.0,0.0,0.0,0.0,0.0,0.0,0.0,0.0,0.0,0.0,0.0,0.0,0.0,0.0,0.0,0.0,0.0,0.0,0.0,0.0,0.0,0.0,0.0,0.0,0.0,0.0,0.0,0.0,0.0,0.0,0.0]},\"selected\":{\"id\":\"5015\",\"type\":\"Selection\"},\"selection_policy\":{\"id\":\"5014\",\"type\":\"UnionRenderers\"}},\"id\":\"4805\",\"type\":\"ColumnDataSource\"},{\"attributes\":{\"data_source\":{\"id\":\"4790\",\"type\":\"ColumnDataSource\"},\"glyph\":{\"id\":\"4791\",\"type\":\"Line\"},\"hover_glyph\":null,\"muted_glyph\":null,\"nonselection_glyph\":{\"id\":\"4792\",\"type\":\"Line\"},\"selection_glyph\":null,\"view\":{\"id\":\"4794\",\"type\":\"CDSView\"}},\"id\":\"4793\",\"type\":\"GlyphRenderer\"},{\"attributes\":{},\"id\":\"5010\",\"type\":\"UnionRenderers\"},{\"attributes\":{\"line_alpha\":0.1,\"line_color\":\"#1f77b4\",\"line_width\":4,\"x\":{\"field\":\"x\"},\"y\":{\"field\":\"y\"}},\"id\":\"4802\",\"type\":\"Line\"},{\"attributes\":{\"axis_label\":\"Fraction of Plays\",\"formatter\":{\"id\":\"5006\",\"type\":\"BasicTickFormatter\"},\"plot\":{\"id\":\"4767\",\"subtype\":\"Figure\",\"type\":\"Plot\"},\"ticker\":{\"id\":\"4783\",\"type\":\"BasicTicker\"}},\"id\":\"4782\",\"type\":\"LinearAxis\"},{\"attributes\":{\"source\":{\"id\":\"4790\",\"type\":\"ColumnDataSource\"}},\"id\":\"4794\",\"type\":\"CDSView\"},{\"attributes\":{},\"id\":\"5011\",\"type\":\"Selection\"},{\"attributes\":{\"dimension\":1,\"plot\":{\"id\":\"4767\",\"subtype\":\"Figure\",\"type\":\"Plot\"},\"ticker\":{\"id\":\"4783\",\"type\":\"BasicTicker\"}},\"id\":\"4786\",\"type\":\"Grid\"},{\"attributes\":{\"data_source\":{\"id\":\"4800\",\"type\":\"ColumnDataSource\"},\"glyph\":{\"id\":\"4801\",\"type\":\"Line\"},\"hover_glyph\":null,\"muted_glyph\":null,\"nonselection_glyph\":{\"id\":\"4802\",\"type\":\"Line\"},\"selection_glyph\":null,\"view\":{\"id\":\"4804\",\"type\":\"CDSView\"}},\"id\":\"4803\",\"type\":\"GlyphRenderer\"},{\"attributes\":{},\"id\":\"5012\",\"type\":\"UnionRenderers\"},{\"attributes\":{\"source\":{\"id\":\"4800\",\"type\":\"ColumnDataSource\"}},\"id\":\"4804\",\"type\":\"CDSView\"},{\"attributes\":{\"line_color\":\"#abdda4\",\"line_width\":4,\"x\":{\"field\":\"x\"},\"y\":{\"field\":\"y\"}},\"id\":\"4796\",\"type\":\"Line\"},{\"attributes\":{},\"id\":\"5013\",\"type\":\"Selection\"},{\"attributes\":{\"active_drag\":\"auto\",\"active_inspect\":\"auto\",\"active_multi\":null,\"active_scroll\":\"auto\",\"active_tap\":\"auto\",\"tools\":[{\"id\":\"4787\",\"type\":\"HoverTool\"}]},\"id\":\"4788\",\"type\":\"Toolbar\"},{\"attributes\":{\"callback\":null,\"renderers\":\"auto\"},\"id\":\"4787\",\"type\":\"HoverTool\"},{\"attributes\":{},\"id\":\"5015\",\"type\":\"Selection\"},{\"attributes\":{\"line_color\":\"#d7191c\",\"line_width\":4,\"x\":{\"field\":\"x\"},\"y\":{\"field\":\"y\"}},\"id\":\"4806\",\"type\":\"Line\"},{\"attributes\":{\"ticks\":[0,5,10,15,20,25,30,35,40,45,50,55,60,65,70,75,80,85,90,95,100]},\"id\":\"4810\",\"type\":\"FixedTicker\"},{\"attributes\":{\"line_alpha\":0.1,\"line_color\":\"#1f77b4\",\"line_width\":4,\"x\":{\"field\":\"x\"},\"y\":{\"field\":\"y\"}},\"id\":\"4807\",\"type\":\"Line\"},{\"attributes\":{\"plot\":{\"id\":\"4767\",\"subtype\":\"Figure\",\"type\":\"Plot\"},\"ticker\":{\"id\":\"4810\",\"type\":\"FixedTicker\"}},\"id\":\"4781\",\"type\":\"Grid\"},{\"attributes\":{\"data_source\":{\"id\":\"4805\",\"type\":\"ColumnDataSource\"},\"glyph\":{\"id\":\"4806\",\"type\":\"Line\"},\"hover_glyph\":null,\"muted_glyph\":null,\"nonselection_glyph\":{\"id\":\"4807\",\"type\":\"Line\"},\"selection_glyph\":null,\"view\":{\"id\":\"4809\",\"type\":\"CDSView\"}},\"id\":\"4808\",\"type\":\"GlyphRenderer\"},{\"attributes\":{\"data_source\":{\"id\":\"4795\",\"type\":\"ColumnDataSource\"},\"glyph\":{\"id\":\"4796\",\"type\":\"Line\"},\"hover_glyph\":null,\"muted_glyph\":null,\"nonselection_glyph\":{\"id\":\"4797\",\"type\":\"Line\"},\"selection_glyph\":null,\"view\":{\"id\":\"4799\",\"type\":\"CDSView\"}},\"id\":\"4798\",\"type\":\"GlyphRenderer\"},{\"attributes\":{\"source\":{\"id\":\"4805\",\"type\":\"ColumnDataSource\"}},\"id\":\"4809\",\"type\":\"CDSView\"},{\"attributes\":{\"axis_label\":\"Yard Line (100 is team's own goal line)\",\"formatter\":{\"id\":\"5005\",\"type\":\"BasicTickFormatter\"},\"plot\":{\"id\":\"4767\",\"subtype\":\"Figure\",\"type\":\"Plot\"},\"ticker\":{\"id\":\"4810\",\"type\":\"FixedTicker\"}},\"id\":\"4777\",\"type\":\"LinearAxis\"},{\"attributes\":{},\"id\":\"4775\",\"type\":\"LinearScale\"},{\"attributes\":{\"items\":[{\"id\":\"4813\",\"type\":\"LegendItem\"},{\"id\":\"4814\",\"type\":\"LegendItem\"},{\"id\":\"4815\",\"type\":\"LegendItem\"},{\"id\":\"4816\",\"type\":\"LegendItem\"}],\"location\":[0,100],\"plot\":{\"id\":\"4767\",\"subtype\":\"Figure\",\"type\":\"Plot\"}},\"id\":\"4812\",\"type\":\"Legend\"},{\"attributes\":{},\"id\":\"5005\",\"type\":\"BasicTickFormatter\"},{\"attributes\":{},\"id\":\"4773\",\"type\":\"LinearScale\"},{\"attributes\":{\"callback\":null},\"id\":\"4771\",\"type\":\"DataRange1d\"},{\"attributes\":{\"plot\":null,\"text\":\"Plays by Yard Line on Fourth Down (normalized by total number of plays of given type)\"},\"id\":\"4766\",\"type\":\"Title\"},{\"attributes\":{\"label\":{\"value\":\"Pass\"},\"renderers\":[{\"id\":\"4793\",\"type\":\"GlyphRenderer\"}]},\"id\":\"4813\",\"type\":\"LegendItem\"},{\"attributes\":{\"callback\":null,\"end\":99,\"start\":1},\"id\":\"4769\",\"type\":\"Range1d\"},{\"attributes\":{\"label\":{\"value\":\"Run\"},\"renderers\":[{\"id\":\"4798\",\"type\":\"GlyphRenderer\"}]},\"id\":\"4814\",\"type\":\"LegendItem\"},{\"attributes\":{},\"id\":\"5014\",\"type\":\"UnionRenderers\"},{\"attributes\":{\"label\":{\"value\":\"Punt\"},\"renderers\":[{\"id\":\"4803\",\"type\":\"GlyphRenderer\"}]},\"id\":\"4815\",\"type\":\"LegendItem\"},{\"attributes\":{\"line_alpha\":0.1,\"line_color\":\"#1f77b4\",\"line_width\":4,\"x\":{\"field\":\"x\"},\"y\":{\"field\":\"y\"}},\"id\":\"4792\",\"type\":\"Line\"},{\"attributes\":{\"line_alpha\":0.1,\"line_color\":\"#1f77b4\",\"line_width\":4,\"x\":{\"field\":\"x\"},\"y\":{\"field\":\"y\"}},\"id\":\"4797\",\"type\":\"Line\"},{\"attributes\":{\"callback\":null,\"data\":{\"x\":[0,1,2,3,4,5,6,7,8,9,10,11,12,13,14,15,16,17,18,19,20,21,22,23,24,25,26,27,28,29,30,31,32,33,34,35,36,37,38,39,40,41,42,43,44,45,46,47,48,49,50,51,52,53,54,55,56,57,58,59,60,61,62,63,64,65,66,67,68,69,70,71,72,73,74,75,76,77,78,79,80,81,82,83,84,85,86,87,88,89,90,91,92,93,94,95,96,97,98,99,100],\"y\":[0.0,0.03241106719367589,0.020553359683794466,0.01225296442687747,0.011857707509881422,0.009881422924901186,0.012648221343873518,0.011857707509881422,0.004347826086956522,0.007905138339920948,0.01225296442687747,0.010671936758893281,0.006324110671936759,0.008300395256916997,0.011462450592885375,0.01225296442687747,0.008695652173913044,0.013438735177865613,0.008300395256916997,0.009486166007905139,0.011067193675889328,0.009486166007905139,0.008300395256916997,0.0067193675889328066,0.010276679841897233,0.01225296442687747,0.011462450592885375,0.013043478260869565,0.010276679841897233,0.013438735177865613,0.01818181818181818,0.018972332015810278,0.017786561264822136,0.019762845849802372,0.022529644268774702,0.03162055335968379,0.0233201581027668,0.02727272727272727,0.023715415019762844,0.024901185770750987,0.02608695652173913,0.020553359683794466,0.017786561264822136,0.017391304347826087,0.011462450592885375,0.01699604743083004,0.011857707509881422,0.011067193675889328,0.01383399209486166,0.011067193675889328,0.012648221343873518,0.008300395256916997,0.011067193675889328,0.010671936758893281,0.013043478260869565,0.014229249011857707,0.006324110671936759,0.012648221343873518,0.005138339920948616,0.006324110671936759,0.011067193675889328,0.009881422924901186,0.008695652173913044,0.007509881422924901,0.008695652173913044,0.007509881422924901,0.0071146245059288534,0.00909090909090909,0.005928853754940711,0.0067193675889328066,0.006324110671936759,0.005138339920948616,0.00909090909090909,0.008300395256916997,0.006324110671936759,0.0071146245059288534,0.0035573122529644267,0.005138339920948616,0.003952569169960474,0.0015810276679841897,0.007509881422924901,0.0047430830039525695,0.0047430830039525695,0.0035573122529644267,0.002766798418972332,0.003952569169960474,0.0015810276679841897,0.0023715415019762848,0.001976284584980237,0.0011857707509881424,0.0031620553359683794,0.0015810276679841897,0.0007905138339920949,0.0007905138339920949,0.0,0.0003952569169960474,0.0015810276679841897,0.0003952569169960474,0.0,0.0003952569169960474,0.0]},\"selected\":{\"id\":\"5009\",\"type\":\"Selection\"},\"selection_policy\":{\"id\":\"5008\",\"type\":\"UnionRenderers\"}},\"id\":\"4790\",\"type\":\"ColumnDataSource\"},{\"attributes\":{\"label\":{\"value\":\"Field Goal\"},\"renderers\":[{\"id\":\"4808\",\"type\":\"GlyphRenderer\"}]},\"id\":\"4816\",\"type\":\"LegendItem\"}],\"root_ids\":[\"4767\"]},\"title\":\"Bokeh Application\",\"version\":\"1.0.1\"}};\n",
       "  var render_items = [{\"docid\":\"0ef810bd-6fe7-4598-9fca-142e06a8a6d7\",\"roots\":{\"4767\":\"312ce880-93c4-4a60-a7c8-04ea5adc2a90\"}}];\n",
       "  root.Bokeh.embed.embed_items_notebook(docs_json, render_items);\n",
       "\n",
       "  }\n",
       "  if (root.Bokeh !== undefined) {\n",
       "    embed_document(root);\n",
       "  } else {\n",
       "    var attempts = 0;\n",
       "    var timer = setInterval(function(root) {\n",
       "      if (root.Bokeh !== undefined) {\n",
       "        embed_document(root);\n",
       "        clearInterval(timer);\n",
       "      }\n",
       "      attempts++;\n",
       "      if (attempts > 100) {\n",
       "        console.log(\"Bokeh: ERROR: Unable to run BokehJS code because BokehJS library is missing\");\n",
       "        clearInterval(timer);\n",
       "      }\n",
       "    }, 10, root)\n",
       "  }\n",
       "})(window);"
      ],
      "application/vnd.bokehjs_exec.v0+json": ""
     },
     "metadata": {
      "application/vnd.bokehjs_exec.v0+json": {
       "id": "4767"
      }
     },
     "output_type": "display_data"
    }
   ],
   "source": [
    "def total_plays(i, play, cou):\n",
    "    total_plays = sum([p[play] for p in cou])\n",
    "    if total_plays == 0:\n",
    "        return 1\n",
    "    else:\n",
    "        return total_plays\n",
    "\n",
    "x = range(0,101)\n",
    "team_df_d1 = team_df.loc[team_df['down'] == 4]\n",
    "plays_on_yrd = [Counter(team_df_d4.loc[team_df_d4['yrdline100'] == yrd]['PlayType']) for yrd in x]\n",
    "y_pass = [play['Pass']/total_plays(i, 'Pass', plays_on_yrd) for i, play in enumerate(plays_on_yrd)]\n",
    "y_runs = [play['Run']/total_plays(i, 'Run', plays_on_yrd) for i, play in enumerate(plays_on_yrd)]\n",
    "y_punt = [play['Punt']/total_plays(i, 'Punt', plays_on_yrd) for i, play in enumerate(plays_on_yrd)]\n",
    "y_fg = [play['Field Goal']/total_plays(i, 'Field Goal', plays_on_yrd) for i, play in enumerate(plays_on_yrd)]\n",
    "p = figure(title='Plays by Yard Line on Fourth Down (normalized by total number of plays of given type)', toolbar_location=None, tools='hover',\n",
    "           plot_height=350, plot_width=750, x_range=(1,99))\n",
    "l1 = p.line(x, y_pass, color='#2b83ba', line_width=4)\n",
    "l2 = p.line(x, y_runs, color='#abdda4', line_width=4)\n",
    "l3 = p.line(x, y_punt, color='#fdae61', line_width=4)\n",
    "l4 = p.line(x, y_fg, color='#d7191c', line_width=4)\n",
    "p.xaxis.axis_label = 'Yard Line (100 is team\\'s own goal line)'\n",
    "p.yaxis.axis_label = 'Fraction of Plays'\n",
    "p.xaxis.ticker = FixedTicker(ticks=list(range(0, 101, 5)))\n",
    "p.xgrid.ticker = p.xaxis[0].ticker\n",
    "\n",
    "legend = Legend(items=[\n",
    "    ('Pass'   , [l1]),\n",
    "    ('Run' , [l2]),\n",
    "    ('Punt' , [l3]),\n",
    "    ('Field Goal', [l4]),\n",
    "], location=(0, +100))\n",
    "\n",
    "p.add_layout(legend, 'right')\n",
    "show(p)"
   ]
  },
  {
   "cell_type": "code",
   "execution_count": null,
   "metadata": {},
   "outputs": [],
   "source": []
  }
 ],
 "metadata": {
  "kernelspec": {
   "display_name": "Python 3",
   "language": "python",
   "name": "python3"
  },
  "language_info": {
   "codemirror_mode": {
    "name": "ipython",
    "version": 3
   },
   "file_extension": ".py",
   "mimetype": "text/x-python",
   "name": "python",
   "nbconvert_exporter": "python",
   "pygments_lexer": "ipython3",
   "version": "3.6.7"
  }
 },
 "nbformat": 4,
 "nbformat_minor": 2
}
