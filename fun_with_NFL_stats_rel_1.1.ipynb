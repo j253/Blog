{
 "cells": [
  {
   "cell_type": "markdown",
   "metadata": {},
   "source": [
    "# Fun with NFL Stats, Bokeh, and Pandas\n",
    "For a thorough write up, please see my blog post of the same name."
   ]
  },
  {
   "cell_type": "code",
   "execution_count": null,
   "metadata": {},
   "outputs": [],
   "source": [
    "# created with Python 3.6.7\n",
    "import pandas as pd\n",
    "from bokeh.plotting import figure, show\n",
    "from bokeh.models import ColumnDataSource, FactorRange, FixedTicker, Legend\n",
    "from bokeh.io import output_notebook\n",
    "from collections import Counter\n",
    "from bokeh.transform import factor_cmap\n",
    "from bokeh.palettes import Paired, Spectral\n",
    "import itertools\n",
    "pd.set_option('display.max_columns', 150)\n",
    "output_notebook()"
   ]
  },
  {
   "cell_type": "code",
   "execution_count": null,
   "metadata": {},
   "outputs": [],
   "source": [
    "# load the data\n",
    "filename = 'NFL Play by Play 2009-2017 (v4).csv'\n",
    "df = pd.read_csv(filename)"
   ]
  },
  {
   "cell_type": "code",
   "execution_count": null,
   "metadata": {},
   "outputs": [],
   "source": [
    "df['down'].isnull().sum()\n",
    "pd.to_numeric(df['down'], errors='coerce').isnull().sum()"
   ]
  },
  {
   "cell_type": "code",
   "execution_count": null,
   "metadata": {},
   "outputs": [],
   "source": [
    "# if you want to filter down to just a single team enter it here\n",
    "team = 'all'\n",
    "\n",
    "# to see valid team name strings uncomment the next line\n",
    "# list(set(df['posteam']))"
   ]
  },
  {
   "cell_type": "code",
   "execution_count": null,
   "metadata": {},
   "outputs": [],
   "source": [
    "if team.lower() == 'all':\n",
    "    team_df = df\n",
    "else:\n",
    "    team_df = df.loc[df['posteam'] == team]\n",
    "team_df = team_df.loc[df['down'].notnull()]"
   ]
  },
  {
   "cell_type": "code",
   "execution_count": null,
   "metadata": {},
   "outputs": [],
   "source": [
    "# counting play types\n",
    "all_play_types = Counter(team_df['PlayType'])\n",
    "all_play_types"
   ]
  },
  {
   "cell_type": "code",
   "execution_count": null,
   "metadata": {},
   "outputs": [],
   "source": [
    "plays_on_down = [Counter(team_df.loc[team_df['down'] == down]['PlayType']) for down in range(1,5)]"
   ]
  },
  {
   "cell_type": "code",
   "execution_count": null,
   "metadata": {},
   "outputs": [],
   "source": [
    "# play_on_down is a list of coutners.\n",
    "# to see the types and count of plays on first down, access the 0th element of the list\n",
    "plays_on_down[0]"
   ]
  },
  {
   "cell_type": "code",
   "execution_count": null,
   "metadata": {},
   "outputs": [],
   "source": [
    "# getting data ready for plotting in Bokeh\n",
    "downs = ['1','2','3','4']\n",
    "plays = ['Pass', 'Run', 'Punt', 'Field Goal']\n",
    "x = list(itertools.product(downs, plays))\n",
    "plays_on_down = [Counter(team_df.loc[team_df['down'] == int(down)]['PlayType']) for down in downs]\n",
    "counts = [plays_on_down[int(down)-1][play] for down, play in x]\n",
    "source = ColumnDataSource(data=dict(x=x, counts=counts))\n",
    "TOOLTIPS = [('Down, Play', '@x'),('Count', '@counts')]\n",
    "p = figure(x_range=FactorRange(*x), plot_height=350, plot_width=750, title='Play by Down',\n",
    "           toolbar_location=None, tools='hover', tooltips=TOOLTIPS)\n",
    "p.vbar(x='x', top='counts', width=0.9, source=source, line_color='white',\n",
    "           fill_color=factor_cmap('x', palette=Spectral[4], factors=plays, start=1, end=2))\n",
    "p.y_range.start = 0\n",
    "p.x_range.range_padding = 0.1\n",
    "p.xaxis.major_label_orientation = 1\n",
    "p.xaxis.axis_label = 'Down'\n",
    "p.yaxis.axis_label = 'Number of Plays'\n",
    "p.xgrid.grid_line_color = None\n",
    "show(p)"
   ]
  },
  {
   "cell_type": "code",
   "execution_count": null,
   "metadata": {},
   "outputs": [],
   "source": [
    "# looking at just run and pass plays on third down as a function of yards to go for a first down\n",
    "y2g = range(1,25)\n",
    "team_df_d3 = team_df.loc[team_df['down'] == 3]\n",
    "plays_on_d3 = [Counter(team_df_d3.loc[team_df_d3['ydstogo'] == yrd]['PlayType']) for yrd in y2g]\n",
    "x = y2g\n",
    "y_runs = [play['Run'] for play in plays_on_d3]\n",
    "y_pass = [play['Pass'] for play in plays_on_d3]\n",
    "p = figure(title='Third Down Play Type by Yards to Go', toolbar_location=None, tools='',\n",
    "           plot_height=350, plot_width=750)\n",
    "p.line(x, y_pass, color='#2b83ba', legend='Pass', line_width=4)\n",
    "p.line(x, y_runs, color='#abdda4', legend='Run', line_width=4)\n",
    "p.legend.location = 'top_right'\n",
    "p.xaxis.axis_label = 'Yards to Go'\n",
    "p.yaxis.axis_label = 'Number of Plays'\n",
    "show(p)"
   ]
  },
  {
   "cell_type": "code",
   "execution_count": null,
   "metadata": {},
   "outputs": [],
   "source": [
    "# looking at pass/run ratio on third down as a function of yards to go for a first down\n",
    "x = y2g\n",
    "y = [play['Pass']/play['Run'] for play in plays_on_d3]\n",
    "p = figure(title='Third Down Pass/Run Ratio by Yards to Go', toolbar_location=None, tools='',\n",
    "           plot_height=350, plot_width=750)\n",
    "p.line(x, y, color='#2b83ba', line_width=4)\n",
    "p.xaxis.axis_label = 'Yards to Go'\n",
    "p.yaxis.axis_label = 'Pass/Run Ratio'\n",
    "show(p)"
   ]
  },
  {
   "cell_type": "markdown",
   "metadata": {},
   "source": [
    "# Looking at plays as a fucntion of yard line"
   ]
  },
  {
   "cell_type": "code",
   "execution_count": null,
   "metadata": {},
   "outputs": [],
   "source": [
    "yrdline = range(0,101)\n",
    "plays_on_yrd = [Counter(team_df.loc[team_df['yrdline100'] == yrd]['PlayType']) for yrd in yrdline]"
   ]
  },
  {
   "cell_type": "code",
   "execution_count": null,
   "metadata": {},
   "outputs": [],
   "source": [
    "x = range(0,101)\n",
    "y_pass = [play['Pass'] for play in plays_on_yrd]\n",
    "y_runs = [play['Run'] for play in plays_on_yrd]\n",
    "y_punt = [play['Punt'] for play in plays_on_yrd]\n",
    "y_fg = [play['Field Goal'] for play in plays_on_yrd]\n",
    "p = figure(title='Plays by Yard Line', toolbar_location=None, tools='',\n",
    "           plot_height=350, plot_width=750, x_range=(1,99))\n",
    "p.line(x, y_pass, color='#2b83ba', legend='Pass', line_width=4)\n",
    "p.line(x, y_runs, color='#abdda4', legend='Run', line_width=4)\n",
    "p.line(x, y_punt, color='#fdae61', legend='Punt', line_width=4)\n",
    "p.line(x, y_fg, color='#d7191c', legend='Field Goal', line_width=4)\n",
    "p.legend.location = 'top_right'\n",
    "p.xaxis.axis_label = 'Yard Line (100 is team\\'s own goal line)'\n",
    "p.yaxis.axis_label = 'Number of Plays'\n",
    "p.xaxis.ticker = FixedTicker(ticks=list(range(0, 101, 5)))\n",
    "p.xgrid.ticker = p.xaxis[0].ticker\n",
    "show(p)"
   ]
  },
  {
   "cell_type": "markdown",
   "metadata": {},
   "source": [
    "## Normalizing the plays by the total number of plays at each yard line"
   ]
  },
  {
   "cell_type": "code",
   "execution_count": null,
   "metadata": {},
   "outputs": [],
   "source": [
    "def total_plays(i, play, cou):\n",
    "    total_plays = sum([cou[i][play] for play in plays])\n",
    "    if total_plays == 0:\n",
    "        return 1\n",
    "    else:\n",
    "        return total_plays\n",
    "\n",
    "x = range(0,101)\n",
    "y_pass = [play['Pass']/total_plays(i, play, plays_on_yrd) for i, play in enumerate(plays_on_yrd)]\n",
    "y_runs = [play['Run']/total_plays(i, play, plays_on_yrd) for i, play in enumerate(plays_on_yrd)]\n",
    "y_punt = [play['Punt']/total_plays(i, play, plays_on_yrd) for i, play in enumerate(plays_on_yrd)]\n",
    "y_fg = [play['Field Goal']/total_plays(i, play, plays_on_yrd) for i, play in enumerate(plays_on_yrd)]\n",
    "p = figure(title='Plays by Yard Line (normalized by total number of plays by yard line)', toolbar_location=None, tools='hover',\n",
    "           plot_height=350, plot_width=750, x_range=(1,99))\n",
    "l1 = p.line(x, y_pass, color='#2b83ba', line_width=4)\n",
    "l2 = p.line(x, y_runs, color='#abdda4', line_width=4)\n",
    "l3 = p.line(x, y_punt, color='#fdae61', line_width=4)\n",
    "l4 = p.line(x, y_fg, color='#d7191c', line_width=4)\n",
    "p.xaxis.axis_label = 'Yard Line (100 is team\\'s own goal line)'\n",
    "p.yaxis.axis_label = 'Fraction of Plays'\n",
    "p.xaxis.ticker = FixedTicker(ticks=list(range(0, 101, 5)))\n",
    "p.xgrid.ticker = p.xaxis[0].ticker\n",
    "\n",
    "legend = Legend(items=[\n",
    "    ('Pass'   , [l1]),\n",
    "    ('Run' , [l2]),\n",
    "    ('Punt' , [l3]),\n",
    "    ('Field Goal', [l4]),\n",
    "], location=(0, +100))\n",
    "\n",
    "p.add_layout(legend, 'right')\n",
    "show(p)"
   ]
  },
  {
   "cell_type": "markdown",
   "metadata": {},
   "source": [
    "### First down only"
   ]
  },
  {
   "cell_type": "code",
   "execution_count": null,
   "metadata": {
    "scrolled": false
   },
   "outputs": [],
   "source": [
    "from bokeh.models import Legend\n",
    "def total_plays(i, play, cou):\n",
    "    total_plays = sum([cou[i][play] for play in plays])\n",
    "    if total_plays == 0:\n",
    "        return 1\n",
    "    else:\n",
    "        return total_plays\n",
    "\n",
    "x = range(0,101)\n",
    "team_df_d1 = team_df.loc[team_df['down'] == 1]\n",
    "plays_on_yrd = [Counter(team_df_d1.loc[team_df_d1['yrdline100'] == yrd]['PlayType']) for yrd in x]\n",
    "y_pass = [play['Pass']/total_plays(i, play, plays_on_yrd) for i, play in enumerate(plays_on_yrd)]\n",
    "y_runs = [play['Run']/total_plays(i, play, plays_on_yrd) for i, play in enumerate(plays_on_yrd)]\n",
    "y_punt = [play['Punt']/total_plays(i, play, plays_on_yrd) for i, play in enumerate(plays_on_yrd)]\n",
    "y_fg = [play['Field Goal']/total_plays(i, play, plays_on_yrd) for i, play in enumerate(plays_on_yrd)]\n",
    "p = figure(title='Plays by Yard Line on First Down (normalized by total number of plays by yard line)', toolbar_location=None, tools='hover',\n",
    "           plot_height=350, plot_width=750, x_range=(1,99))\n",
    "l1 = p.line(x, y_pass, color='#2b83ba', line_width=4)\n",
    "l2 = p.line(x, y_runs, color='#abdda4', line_width=4)\n",
    "l3 = p.line(x, y_punt, color='#fdae61', line_width=4)\n",
    "l4 = p.line(x, y_fg, color='#d7191c', line_width=4)\n",
    "p.xaxis.axis_label = 'Yard Line (100 is team\\'s own goal line)'\n",
    "p.yaxis.axis_label = 'Fraction of Plays'\n",
    "p.xaxis.ticker = FixedTicker(ticks=list(range(0, 101, 5)))\n",
    "p.xgrid.ticker = p.xaxis[0].ticker\n",
    "\n",
    "legend = Legend(items=[\n",
    "    ('Pass'   , [l1]),\n",
    "    ('Run' , [l2]),\n",
    "    ('Punt' , [l3]),\n",
    "    ('Field Goal', [l4]),\n",
    "], location=(0, +100))\n",
    "\n",
    "p.add_layout(legend, 'right')\n",
    "show(p)"
   ]
  },
  {
   "cell_type": "markdown",
   "metadata": {},
   "source": [
    "### Second down only"
   ]
  },
  {
   "cell_type": "code",
   "execution_count": null,
   "metadata": {},
   "outputs": [],
   "source": [
    "def total_plays(i, play, cou):\n",
    "    total_plays = sum([cou[i][play] for play in plays])\n",
    "    if total_plays == 0:\n",
    "        return 1\n",
    "    else:\n",
    "        return total_plays\n",
    "\n",
    "x = range(0,101)\n",
    "team_df_d2 = team_df.loc[team_df['down'] == 2]\n",
    "plays_on_yrd = [Counter(team_df_d2.loc[team_df_d2['yrdline100'] == yrd]['PlayType']) for yrd in x]\n",
    "y_pass = [play['Pass']/total_plays(i, play, plays_on_yrd) for i, play in enumerate(plays_on_yrd)]\n",
    "y_runs = [play['Run']/total_plays(i, play, plays_on_yrd) for i, play in enumerate(plays_on_yrd)]\n",
    "y_punt = [play['Punt']/total_plays(i, play, plays_on_yrd) for i, play in enumerate(plays_on_yrd)]\n",
    "y_fg = [play['Field Goal']/total_plays(i, play, plays_on_yrd) for i, play in enumerate(plays_on_yrd)]\n",
    "p = figure(title='Plays by Yard Line on Second Down (normalized by total number of plays by yard line)', toolbar_location=None, tools='hover',\n",
    "           plot_height=350, plot_width=750, x_range=(1,99))\n",
    "l1 = p.line(x, y_pass, color='#2b83ba', line_width=4)\n",
    "l2 = p.line(x, y_runs, color='#abdda4', line_width=4)\n",
    "l3 = p.line(x, y_punt, color='#fdae61', line_width=4)\n",
    "l4 = p.line(x, y_fg, color='#d7191c', line_width=4)\n",
    "p.xaxis.axis_label = 'Yard Line (100 is team\\'s own goal line)'\n",
    "p.yaxis.axis_label = 'Fraction of Plays'\n",
    "p.xaxis.ticker = FixedTicker(ticks=list(range(0, 101, 5)))\n",
    "p.xgrid.ticker = p.xaxis[0].ticker\n",
    "\n",
    "legend = Legend(items=[\n",
    "    ('Pass'   , [l1]),\n",
    "    ('Run' , [l2]),\n",
    "    ('Punt' , [l3]),\n",
    "    ('Field Goal', [l4]),\n",
    "], location=(0, +100))\n",
    "\n",
    "p.add_layout(legend, 'right')\n",
    "show(p)"
   ]
  },
  {
   "cell_type": "markdown",
   "metadata": {},
   "source": [
    "### Third down only"
   ]
  },
  {
   "cell_type": "code",
   "execution_count": null,
   "metadata": {},
   "outputs": [],
   "source": [
    "def total_plays(i, play, cou):\n",
    "    total_plays = sum([cou[i][play] for play in plays])\n",
    "    if total_plays == 0:\n",
    "        return 1\n",
    "    else:\n",
    "        return total_plays\n",
    "\n",
    "x = range(0,101)\n",
    "team_df_d3 = team_df.loc[team_df['down'] == 3]\n",
    "plays_on_yrd = [Counter(team_df_d3.loc[team_df_d3['yrdline100'] == yrd]['PlayType']) for yrd in x]\n",
    "y_pass = [play['Pass']/total_plays(i, play, plays_on_yrd) for i, play in enumerate(plays_on_yrd)]\n",
    "y_runs = [play['Run']/total_plays(i, play, plays_on_yrd) for i, play in enumerate(plays_on_yrd)]\n",
    "y_punt = [play['Punt']/total_plays(i, play, plays_on_yrd) for i, play in enumerate(plays_on_yrd)]\n",
    "y_fg = [play['Field Goal']/total_plays(i, play, plays_on_yrd) for i, play in enumerate(plays_on_yrd)]\n",
    "p = figure(title='Plays by Yard Line on Third Down (normalized by total number of plays by yard line)', toolbar_location=None, tools='hover',\n",
    "           plot_height=350, plot_width=750, x_range=(1,99))\n",
    "l1 = p.line(x, y_pass, color='#2b83ba', line_width=4)\n",
    "l2 = p.line(x, y_runs, color='#abdda4', line_width=4)\n",
    "l3 = p.line(x, y_punt, color='#fdae61', line_width=4)\n",
    "l4 = p.line(x, y_fg, color='#d7191c', line_width=4)\n",
    "p.xaxis.axis_label = 'Yard Line (100 is team\\'s own goal line)'\n",
    "p.yaxis.axis_label = 'Fraction of Plays'\n",
    "p.xaxis.ticker = FixedTicker(ticks=list(range(0, 101, 5)))\n",
    "p.xgrid.ticker = p.xaxis[0].ticker\n",
    "\n",
    "legend = Legend(items=[\n",
    "    ('Pass'   , [l1]),\n",
    "    ('Run' , [l2]),\n",
    "    ('Punt' , [l3]),\n",
    "    ('Field Goal', [l4]),\n",
    "], location=(0, +100))\n",
    "\n",
    "p.add_layout(legend, 'right')\n",
    "show(p)"
   ]
  },
  {
   "cell_type": "markdown",
   "metadata": {},
   "source": [
    "### Fourth down only"
   ]
  },
  {
   "cell_type": "code",
   "execution_count": null,
   "metadata": {},
   "outputs": [],
   "source": [
    "def total_plays(i, play, cou):\n",
    "    total_plays = sum([cou[i][play] for play in plays])\n",
    "    if total_plays == 0:\n",
    "        return 1\n",
    "    else:\n",
    "        return total_plays\n",
    "\n",
    "x = range(0,101)\n",
    "team_df_d4 = team_df.loc[team_df['down'] == 4]\n",
    "plays_on_yrd = [Counter(team_df_d4.loc[team_df_d4['yrdline100'] == yrd]['PlayType']) for yrd in x]\n",
    "y_pass = [play['Pass']/total_plays(i, play, plays_on_yrd) for i, play in enumerate(plays_on_yrd)]\n",
    "y_runs = [play['Run']/total_plays(i, play, plays_on_yrd) for i, play in enumerate(plays_on_yrd)]\n",
    "y_punt = [play['Punt']/total_plays(i, play, plays_on_yrd) for i, play in enumerate(plays_on_yrd)]\n",
    "y_fg = [play['Field Goal']/total_plays(i, play, plays_on_yrd) for i, play in enumerate(plays_on_yrd)]\n",
    "p = figure(title='Plays by Yard Line on Fourth Down (normalized by total number of plays by yard line)', toolbar_location=None, tools='hover',\n",
    "           plot_height=350, plot_width=750, x_range=(1,99))\n",
    "l1 = p.line(x, y_pass, color='#2b83ba', line_width=4)\n",
    "l2 = p.line(x, y_runs, color='#abdda4', line_width=4)\n",
    "l3 = p.line(x, y_punt, color='#fdae61', line_width=4)\n",
    "l4 = p.line(x, y_fg, color='#d7191c', line_width=4)\n",
    "p.xaxis.axis_label = 'Yard Line (100 is team\\'s own goal line)'\n",
    "p.yaxis.axis_label = 'Fraction of Plays'\n",
    "p.xaxis.ticker = FixedTicker(ticks=list(range(0, 101, 5)))\n",
    "p.xgrid.ticker = p.xaxis[0].ticker\n",
    "\n",
    "legend = Legend(items=[\n",
    "    ('Pass'   , [l1]),\n",
    "    ('Run' , [l2]),\n",
    "    ('Punt' , [l3]),\n",
    "    ('Field Goal', [l4]),\n",
    "], location=(0, +100))\n",
    "\n",
    "p.add_layout(legend, 'right')\n",
    "show(p)"
   ]
  },
  {
   "cell_type": "markdown",
   "metadata": {},
   "source": [
    "## Normalizing by the total plays of a given type"
   ]
  },
  {
   "cell_type": "code",
   "execution_count": null,
   "metadata": {},
   "outputs": [],
   "source": [
    "def total_plays(i, play, cou):\n",
    "    total_plays = sum([p[play] for p in cou])\n",
    "    if total_plays == 0:\n",
    "        return 1\n",
    "    else:\n",
    "        return total_plays\n",
    "\n",
    "x = range(0,101)\n",
    "plays_on_yrd = [Counter(team_df.loc[team_df['yrdline100'] == yrd]['PlayType']) for yrd in x]\n",
    "y_pass = [play['Pass']/total_plays(i, 'Pass', plays_on_yrd) for i, play in enumerate(plays_on_yrd)]\n",
    "y_runs = [play['Run']/total_plays(i, 'Run', plays_on_yrd) for i, play in enumerate(plays_on_yrd)]\n",
    "y_punt = [play['Punt']/total_plays(i, 'Punt', plays_on_yrd) for i, play in enumerate(plays_on_yrd)]\n",
    "y_fg = [play['Field Goal']/total_plays(i, 'Field Goal', plays_on_yrd) for i, play in enumerate(plays_on_yrd)]\n",
    "p = figure(title='Plays by Yard Line (normalized by total number of plays of given type)', toolbar_location=None, tools='hover',\n",
    "           plot_height=350, plot_width=750, x_range=(1,99))\n",
    "l1 = p.line(x, y_pass, color='#2b83ba', line_width=4)\n",
    "l2 = p.line(x, y_runs, color='#abdda4', line_width=4)\n",
    "l3 = p.line(x, y_punt, color='#fdae61', line_width=4)\n",
    "l4 = p.line(x, y_fg, color='#d7191c', line_width=4)\n",
    "p.xaxis.axis_label = 'Yard Line (100 is team\\'s own goal line)'\n",
    "p.yaxis.axis_label = 'Fraction of Plays'\n",
    "p.xaxis.ticker = FixedTicker(ticks=list(range(0, 101, 5)))\n",
    "p.xgrid.ticker = p.xaxis[0].ticker\n",
    "\n",
    "legend = Legend(items=[\n",
    "    ('Pass'   , [l1]),\n",
    "    ('Run' , [l2]),\n",
    "    ('Punt' , [l3]),\n",
    "    ('Field Goal', [l4]),\n",
    "], location=(0, +100))\n",
    "\n",
    "p.add_layout(legend, 'right')\n",
    "show(p)"
   ]
  },
  {
   "cell_type": "markdown",
   "metadata": {},
   "source": [
    "### First down only"
   ]
  },
  {
   "cell_type": "code",
   "execution_count": null,
   "metadata": {},
   "outputs": [],
   "source": [
    "def total_plays(i, play, cou):\n",
    "    total_plays = sum([p[play] for p in cou])\n",
    "    if total_plays == 0:\n",
    "        return 1\n",
    "    else:\n",
    "        return total_plays\n",
    "\n",
    "x = range(0,101)\n",
    "team_df_d1 = team_df.loc[team_df['down'] == 1]\n",
    "plays_on_yrd = [Counter(team_df_d1.loc[team_df_d1['yrdline100'] == yrd]['PlayType']) for yrd in x]\n",
    "y_pass = [play['Pass']/total_plays(i, 'Pass', plays_on_yrd) for i, play in enumerate(plays_on_yrd)]\n",
    "y_runs = [play['Run']/total_plays(i, 'Run', plays_on_yrd) for i, play in enumerate(plays_on_yrd)]\n",
    "y_punt = [play['Punt']/total_plays(i, 'Punt', plays_on_yrd) for i, play in enumerate(plays_on_yrd)]\n",
    "y_fg = [play['Field Goal']/total_plays(i, 'Field Goal', plays_on_yrd) for i, play in enumerate(plays_on_yrd)]\n",
    "p = figure(title='Plays by Yard Line on First Down (normalized by total number of plays of given type)', toolbar_location=None, tools='hover',\n",
    "           plot_height=350, plot_width=750, x_range=(1,99), y_range=(-0.005,0.1))\n",
    "l1 = p.line(x, y_pass, color='#2b83ba', line_width=4)\n",
    "l2 = p.line(x, y_runs, color='#abdda4', line_width=4)\n",
    "l3 = p.line(x, y_punt, color='#fdae61', line_width=4)\n",
    "l4 = p.line(x, y_fg, color='#d7191c', line_width=4)\n",
    "p.xaxis.axis_label = 'Yard Line (100 is team\\'s own goal line)'\n",
    "p.yaxis.axis_label = 'Fraction of Plays'\n",
    "p.xaxis.ticker = FixedTicker(ticks=list(range(0, 101, 5)))\n",
    "p.xgrid.ticker = p.xaxis[0].ticker\n",
    "\n",
    "legend = Legend(items=[\n",
    "    ('Pass'   , [l1]),\n",
    "    ('Run' , [l2]),\n",
    "    ('Punt' , [l3]),\n",
    "    ('Field Goal', [l4]),\n",
    "], location=(0, +100))\n",
    "\n",
    "p.add_layout(legend, 'right')\n",
    "show(p)"
   ]
  },
  {
   "cell_type": "markdown",
   "metadata": {},
   "source": [
    "### Second down only"
   ]
  },
  {
   "cell_type": "code",
   "execution_count": null,
   "metadata": {},
   "outputs": [],
   "source": [
    "def total_plays(i, play, cou):\n",
    "    total_plays = sum([p[play] for p in cou])\n",
    "    if total_plays == 0:\n",
    "        return 1\n",
    "    else:\n",
    "        return total_plays\n",
    "\n",
    "x = range(0,101)\n",
    "team_df_d1 = team_df.loc[team_df['down'] == 2]\n",
    "plays_on_yrd = [Counter(team_df_d2.loc[team_df_d2['yrdline100'] == yrd]['PlayType']) for yrd in x]\n",
    "y_pass = [play['Pass']/total_plays(i, 'Pass', plays_on_yrd) for i, play in enumerate(plays_on_yrd)]\n",
    "y_runs = [play['Run']/total_plays(i, 'Run', plays_on_yrd) for i, play in enumerate(plays_on_yrd)]\n",
    "y_punt = [play['Punt']/total_plays(i, 'Punt', plays_on_yrd) for i, play in enumerate(plays_on_yrd)]\n",
    "y_fg = [play['Field Goal']/total_plays(i, 'Field Goal', plays_on_yrd) for i, play in enumerate(plays_on_yrd)]\n",
    "p = figure(title='Plays by Yard Line on Second Down (normalized by total number of plays of given type)', toolbar_location=None, tools='hover',\n",
    "           plot_height=350, plot_width=750, x_range=(1,99))\n",
    "l1 = p.line(x, y_pass, color='#2b83ba', line_width=4)\n",
    "l2 = p.line(x, y_runs, color='#abdda4', line_width=4)\n",
    "l3 = p.line(x, y_punt, color='#fdae61', line_width=4)\n",
    "l4 = p.line(x, y_fg, color='#d7191c', line_width=4)\n",
    "p.xaxis.axis_label = 'Yard Line (100 is team\\'s own goal line)'\n",
    "p.yaxis.axis_label = 'Fraction of Plays'\n",
    "p.xaxis.ticker = FixedTicker(ticks=list(range(0, 101, 5)))\n",
    "p.xgrid.ticker = p.xaxis[0].ticker\n",
    "\n",
    "legend = Legend(items=[\n",
    "    ('Pass'   , [l1]),\n",
    "    ('Run' , [l2]),\n",
    "    ('Punt' , [l3]),\n",
    "    ('Field Goal', [l4]),\n",
    "], location=(0, +100))\n",
    "\n",
    "p.add_layout(legend, 'right')\n",
    "show(p)"
   ]
  },
  {
   "cell_type": "markdown",
   "metadata": {},
   "source": [
    "### Third down only"
   ]
  },
  {
   "cell_type": "code",
   "execution_count": null,
   "metadata": {},
   "outputs": [],
   "source": [
    "def total_plays(i, play, cou):\n",
    "    total_plays = sum([p[play] for p in cou])\n",
    "    if total_plays == 0:\n",
    "        return 1\n",
    "    else:\n",
    "        return total_plays\n",
    "\n",
    "x = range(0,101)\n",
    "team_df_d1 = team_df.loc[team_df['down'] == 3]\n",
    "plays_on_yrd = [Counter(team_df_d3.loc[team_df_d3['yrdline100'] == yrd]['PlayType']) for yrd in x]\n",
    "y_pass = [play['Pass']/total_plays(i, 'Pass', plays_on_yrd) for i, play in enumerate(plays_on_yrd)]\n",
    "y_runs = [play['Run']/total_plays(i, 'Run', plays_on_yrd) for i, play in enumerate(plays_on_yrd)]\n",
    "y_punt = [play['Punt']/total_plays(i, 'Punt', plays_on_yrd) for i, play in enumerate(plays_on_yrd)]\n",
    "y_fg = [play['Field Goal']/total_plays(i, 'Field Goal', plays_on_yrd) for i, play in enumerate(plays_on_yrd)]\n",
    "p = figure(title='Plays by Yard Line on Third Down (normalized by total number of plays of given type)', toolbar_location=None, tools='hover',\n",
    "           plot_height=350, plot_width=750, x_range=(1,99), y_range=(-0.005,0.1))\n",
    "l1 = p.line(x, y_pass, color='#2b83ba', line_width=4)\n",
    "l2 = p.line(x, y_runs, color='#abdda4', line_width=4)\n",
    "l3 = p.line(x, y_punt, color='#fdae61', line_width=4)\n",
    "l4 = p.line(x, y_fg, color='#d7191c', line_width=4)\n",
    "p.xaxis.axis_label = 'Yard Line (100 is team\\'s own goal line)'\n",
    "p.yaxis.axis_label = 'Fraction of Plays'\n",
    "p.xaxis.ticker = FixedTicker(ticks=list(range(0, 101, 5)))\n",
    "p.xgrid.ticker = p.xaxis[0].ticker\n",
    "\n",
    "legend = Legend(items=[\n",
    "    ('Pass'   , [l1]),\n",
    "    ('Run' , [l2]),\n",
    "    ('Punt' , [l3]),\n",
    "    ('Field Goal', [l4]),\n",
    "], location=(0, +100))\n",
    "\n",
    "p.add_layout(legend, 'right')\n",
    "show(p)"
   ]
  },
  {
   "cell_type": "markdown",
   "metadata": {},
   "source": [
    "### Fourth down only"
   ]
  },
  {
   "cell_type": "code",
   "execution_count": null,
   "metadata": {},
   "outputs": [],
   "source": [
    "def total_plays(i, play, cou):\n",
    "    total_plays = sum([p[play] for p in cou])\n",
    "    if total_plays == 0:\n",
    "        return 1\n",
    "    else:\n",
    "        return total_plays\n",
    "\n",
    "x = range(0,101)\n",
    "team_df_d1 = team_df.loc[team_df['down'] == 4]\n",
    "plays_on_yrd = [Counter(team_df_d4.loc[team_df_d4['yrdline100'] == yrd]['PlayType']) for yrd in x]\n",
    "y_pass = [play['Pass']/total_plays(i, 'Pass', plays_on_yrd) for i, play in enumerate(plays_on_yrd)]\n",
    "y_runs = [play['Run']/total_plays(i, 'Run', plays_on_yrd) for i, play in enumerate(plays_on_yrd)]\n",
    "y_punt = [play['Punt']/total_plays(i, 'Punt', plays_on_yrd) for i, play in enumerate(plays_on_yrd)]\n",
    "y_fg = [play['Field Goal']/total_plays(i, 'Field Goal', plays_on_yrd) for i, play in enumerate(plays_on_yrd)]\n",
    "p = figure(title='Plays by Yard Line on Fourth Down (normalized by total number of plays of given type)', toolbar_location=None, tools='hover',\n",
    "           plot_height=350, plot_width=750, x_range=(1,99))\n",
    "l1 = p.line(x, y_pass, color='#2b83ba', line_width=4)\n",
    "l2 = p.line(x, y_runs, color='#abdda4', line_width=4)\n",
    "l3 = p.line(x, y_punt, color='#fdae61', line_width=4)\n",
    "l4 = p.line(x, y_fg, color='#d7191c', line_width=4)\n",
    "p.xaxis.axis_label = 'Yard Line (100 is team\\'s own goal line)'\n",
    "p.yaxis.axis_label = 'Fraction of Plays'\n",
    "p.xaxis.ticker = FixedTicker(ticks=list(range(0, 101, 5)))\n",
    "p.xgrid.ticker = p.xaxis[0].ticker\n",
    "\n",
    "legend = Legend(items=[\n",
    "    ('Pass'   , [l1]),\n",
    "    ('Run' , [l2]),\n",
    "    ('Punt' , [l3]),\n",
    "    ('Field Goal', [l4]),\n",
    "], location=(0, +100))\n",
    "\n",
    "p.add_layout(legend, 'right')\n",
    "show(p)"
   ]
  },
  {
   "cell_type": "code",
   "execution_count": null,
   "metadata": {},
   "outputs": [],
   "source": []
  }
 ],
 "metadata": {
  "kernelspec": {
   "display_name": "Python 3",
   "language": "python",
   "name": "python3"
  },
  "language_info": {
   "codemirror_mode": {
    "name": "ipython",
    "version": 3
   },
   "file_extension": ".py",
   "mimetype": "text/x-python",
   "name": "python",
   "nbconvert_exporter": "python",
   "pygments_lexer": "ipython3",
   "version": "3.6.7"
  }
 },
 "nbformat": 4,
 "nbformat_minor": 2
}
